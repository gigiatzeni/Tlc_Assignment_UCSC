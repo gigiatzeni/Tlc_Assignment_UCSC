{
 "cells": [
  {
   "cell_type": "markdown",
   "metadata": {},
   "source": [
    "# Telco churn"
   ]
  },
  {
   "cell_type": "markdown",
   "metadata": {},
   "source": [
    "## Import Dataset"
   ]
  },
  {
   "cell_type": "code",
   "execution_count": 2,
   "metadata": {
    "ExecuteTime": {
     "end_time": "2019-03-26T18:21:29.736803Z",
     "start_time": "2019-03-26T18:21:29.326130Z"
    }
   },
   "outputs": [],
   "source": [
    "import pandas as pd\n",
    "import numpy as np\n",
    "import matplotlib.pyplot as plt\n",
    "import pickle as pkl\n",
    "\n",
    "\n",
    "pd.set_option('display.max_columns', 100)"
   ]
  },
  {
   "cell_type": "code",
   "execution_count": 3,
   "metadata": {
    "ExecuteTime": {
     "end_time": "2019-03-26T18:21:30.180746Z",
     "start_time": "2019-03-26T18:21:30.110315Z"
    }
   },
   "outputs": [
    {
     "data": {
      "text/html": [
       "<div>\n",
       "<style scoped>\n",
       "    .dataframe tbody tr th:only-of-type {\n",
       "        vertical-align: middle;\n",
       "    }\n",
       "\n",
       "    .dataframe tbody tr th {\n",
       "        vertical-align: top;\n",
       "    }\n",
       "\n",
       "    .dataframe thead th {\n",
       "        text-align: right;\n",
       "    }\n",
       "</style>\n",
       "<table border=\"1\" class=\"dataframe\">\n",
       "  <thead>\n",
       "    <tr style=\"text-align: right;\">\n",
       "      <th></th>\n",
       "      <th>customerID</th>\n",
       "      <th>gender</th>\n",
       "      <th>SeniorCitizen</th>\n",
       "      <th>Partner</th>\n",
       "      <th>Dependents</th>\n",
       "      <th>tenure</th>\n",
       "      <th>PhoneService</th>\n",
       "      <th>MultipleLines</th>\n",
       "      <th>InternetService</th>\n",
       "      <th>OnlineSecurity</th>\n",
       "      <th>OnlineBackup</th>\n",
       "      <th>DeviceProtection</th>\n",
       "      <th>TechSupport</th>\n",
       "      <th>StreamingTV</th>\n",
       "      <th>StreamingMovies</th>\n",
       "      <th>Contract</th>\n",
       "      <th>PaperlessBilling</th>\n",
       "      <th>PaymentMethod</th>\n",
       "      <th>MonthlyCharges</th>\n",
       "      <th>TotalCharges</th>\n",
       "      <th>Churn</th>\n",
       "    </tr>\n",
       "  </thead>\n",
       "  <tbody>\n",
       "    <tr>\n",
       "      <th>0</th>\n",
       "      <td>7590-VHVEG</td>\n",
       "      <td>Female</td>\n",
       "      <td>0</td>\n",
       "      <td>Yes</td>\n",
       "      <td>No</td>\n",
       "      <td>1</td>\n",
       "      <td>No</td>\n",
       "      <td>No phone service</td>\n",
       "      <td>DSL</td>\n",
       "      <td>No</td>\n",
       "      <td>Yes</td>\n",
       "      <td>No</td>\n",
       "      <td>No</td>\n",
       "      <td>No</td>\n",
       "      <td>No</td>\n",
       "      <td>Month-to-month</td>\n",
       "      <td>Yes</td>\n",
       "      <td>Electronic check</td>\n",
       "      <td>29.85</td>\n",
       "      <td>29.85</td>\n",
       "      <td>No</td>\n",
       "    </tr>\n",
       "    <tr>\n",
       "      <th>1</th>\n",
       "      <td>5575-GNVDE</td>\n",
       "      <td>Male</td>\n",
       "      <td>0</td>\n",
       "      <td>No</td>\n",
       "      <td>No</td>\n",
       "      <td>34</td>\n",
       "      <td>Yes</td>\n",
       "      <td>No</td>\n",
       "      <td>DSL</td>\n",
       "      <td>Yes</td>\n",
       "      <td>No</td>\n",
       "      <td>Yes</td>\n",
       "      <td>No</td>\n",
       "      <td>No</td>\n",
       "      <td>No</td>\n",
       "      <td>One year</td>\n",
       "      <td>No</td>\n",
       "      <td>Mailed check</td>\n",
       "      <td>56.95</td>\n",
       "      <td>1889.5</td>\n",
       "      <td>No</td>\n",
       "    </tr>\n",
       "    <tr>\n",
       "      <th>2</th>\n",
       "      <td>3668-QPYBK</td>\n",
       "      <td>Male</td>\n",
       "      <td>0</td>\n",
       "      <td>No</td>\n",
       "      <td>No</td>\n",
       "      <td>2</td>\n",
       "      <td>Yes</td>\n",
       "      <td>No</td>\n",
       "      <td>DSL</td>\n",
       "      <td>Yes</td>\n",
       "      <td>Yes</td>\n",
       "      <td>No</td>\n",
       "      <td>No</td>\n",
       "      <td>No</td>\n",
       "      <td>No</td>\n",
       "      <td>Month-to-month</td>\n",
       "      <td>Yes</td>\n",
       "      <td>Mailed check</td>\n",
       "      <td>53.85</td>\n",
       "      <td>108.15</td>\n",
       "      <td>Yes</td>\n",
       "    </tr>\n",
       "    <tr>\n",
       "      <th>3</th>\n",
       "      <td>7795-CFOCW</td>\n",
       "      <td>Male</td>\n",
       "      <td>0</td>\n",
       "      <td>No</td>\n",
       "      <td>No</td>\n",
       "      <td>45</td>\n",
       "      <td>No</td>\n",
       "      <td>No phone service</td>\n",
       "      <td>DSL</td>\n",
       "      <td>Yes</td>\n",
       "      <td>No</td>\n",
       "      <td>Yes</td>\n",
       "      <td>Yes</td>\n",
       "      <td>No</td>\n",
       "      <td>No</td>\n",
       "      <td>One year</td>\n",
       "      <td>No</td>\n",
       "      <td>Bank transfer (automatic)</td>\n",
       "      <td>42.30</td>\n",
       "      <td>1840.75</td>\n",
       "      <td>No</td>\n",
       "    </tr>\n",
       "    <tr>\n",
       "      <th>4</th>\n",
       "      <td>9237-HQITU</td>\n",
       "      <td>Female</td>\n",
       "      <td>0</td>\n",
       "      <td>No</td>\n",
       "      <td>No</td>\n",
       "      <td>2</td>\n",
       "      <td>Yes</td>\n",
       "      <td>No</td>\n",
       "      <td>Fiber optic</td>\n",
       "      <td>No</td>\n",
       "      <td>No</td>\n",
       "      <td>No</td>\n",
       "      <td>No</td>\n",
       "      <td>No</td>\n",
       "      <td>No</td>\n",
       "      <td>Month-to-month</td>\n",
       "      <td>Yes</td>\n",
       "      <td>Electronic check</td>\n",
       "      <td>70.70</td>\n",
       "      <td>151.65</td>\n",
       "      <td>Yes</td>\n",
       "    </tr>\n",
       "  </tbody>\n",
       "</table>\n",
       "</div>"
      ],
      "text/plain": [
       "   customerID  gender  SeniorCitizen Partner Dependents  tenure PhoneService  \\\n",
       "0  7590-VHVEG  Female              0     Yes         No       1           No   \n",
       "1  5575-GNVDE    Male              0      No         No      34          Yes   \n",
       "2  3668-QPYBK    Male              0      No         No       2          Yes   \n",
       "3  7795-CFOCW    Male              0      No         No      45           No   \n",
       "4  9237-HQITU  Female              0      No         No       2          Yes   \n",
       "\n",
       "      MultipleLines InternetService OnlineSecurity OnlineBackup  \\\n",
       "0  No phone service             DSL             No          Yes   \n",
       "1                No             DSL            Yes           No   \n",
       "2                No             DSL            Yes          Yes   \n",
       "3  No phone service             DSL            Yes           No   \n",
       "4                No     Fiber optic             No           No   \n",
       "\n",
       "  DeviceProtection TechSupport StreamingTV StreamingMovies        Contract  \\\n",
       "0               No          No          No              No  Month-to-month   \n",
       "1              Yes          No          No              No        One year   \n",
       "2               No          No          No              No  Month-to-month   \n",
       "3              Yes         Yes          No              No        One year   \n",
       "4               No          No          No              No  Month-to-month   \n",
       "\n",
       "  PaperlessBilling              PaymentMethod  MonthlyCharges TotalCharges  \\\n",
       "0              Yes           Electronic check           29.85        29.85   \n",
       "1               No               Mailed check           56.95       1889.5   \n",
       "2              Yes               Mailed check           53.85       108.15   \n",
       "3               No  Bank transfer (automatic)           42.30      1840.75   \n",
       "4              Yes           Electronic check           70.70       151.65   \n",
       "\n",
       "  Churn  \n",
       "0    No  \n",
       "1    No  \n",
       "2   Yes  \n",
       "3    No  \n",
       "4   Yes  "
      ]
     },
     "execution_count": 3,
     "metadata": {},
     "output_type": "execute_result"
    }
   ],
   "source": [
    "tlc_db = pd.read_csv(\"TelcoChurn.csv\")\n",
    "tlc_db.head()"
   ]
  },
  {
   "cell_type": "code",
   "execution_count": 4,
   "metadata": {
    "ExecuteTime": {
     "end_time": "2019-03-26T18:21:30.792937Z",
     "start_time": "2019-03-26T18:21:30.787625Z"
    }
   },
   "outputs": [
    {
     "data": {
      "text/plain": [
       "(7043, 21)"
      ]
     },
     "execution_count": 4,
     "metadata": {},
     "output_type": "execute_result"
    }
   ],
   "source": [
    "tlc_db.shape"
   ]
  },
  {
   "cell_type": "markdown",
   "metadata": {},
   "source": [
    "Our Dataset initially has 7043 observations and 21 predictors"
   ]
  },
  {
   "cell_type": "code",
   "execution_count": 5,
   "metadata": {
    "ExecuteTime": {
     "end_time": "2019-03-26T18:21:31.961237Z",
     "start_time": "2019-03-26T18:21:31.955101Z"
    }
   },
   "outputs": [
    {
     "data": {
      "text/plain": [
       "customerID           object\n",
       "gender               object\n",
       "SeniorCitizen         int64\n",
       "Partner              object\n",
       "Dependents           object\n",
       "tenure                int64\n",
       "PhoneService         object\n",
       "MultipleLines        object\n",
       "InternetService      object\n",
       "OnlineSecurity       object\n",
       "OnlineBackup         object\n",
       "DeviceProtection     object\n",
       "TechSupport          object\n",
       "StreamingTV          object\n",
       "StreamingMovies      object\n",
       "Contract             object\n",
       "PaperlessBilling     object\n",
       "PaymentMethod        object\n",
       "MonthlyCharges      float64\n",
       "TotalCharges         object\n",
       "Churn                object\n",
       "dtype: object"
      ]
     },
     "execution_count": 5,
     "metadata": {},
     "output_type": "execute_result"
    }
   ],
   "source": [
    "tlc_db.dtypes"
   ]
  },
  {
   "cell_type": "markdown",
   "metadata": {},
   "source": [
    "Looking at the types of the predictors we notice that there are many boolean varaibles readed as objects"
   ]
  },
  {
   "cell_type": "markdown",
   "metadata": {},
   "source": [
    "# Data analysis and cleaning\n",
    "\n",
    "* Once we've found all available info areas that we want to use, we proceed to the table exploration. \n",
    "* The goal is familiarise with data find errors / dirt request clarifications to the customer \n",
    "* Let's start with the base table, containing the analysis scope with customer info. \n",
    "* We use describe method to have a global vision of data statistics."
   ]
  },
  {
   "cell_type": "code",
   "execution_count": 6,
   "metadata": {
    "ExecuteTime": {
     "end_time": "2019-03-26T18:21:33.320037Z",
     "start_time": "2019-03-26T18:21:33.194892Z"
    },
    "scrolled": false
   },
   "outputs": [
    {
     "data": {
      "text/html": [
       "<div>\n",
       "<style scoped>\n",
       "    .dataframe tbody tr th:only-of-type {\n",
       "        vertical-align: middle;\n",
       "    }\n",
       "\n",
       "    .dataframe tbody tr th {\n",
       "        vertical-align: top;\n",
       "    }\n",
       "\n",
       "    .dataframe thead th {\n",
       "        text-align: right;\n",
       "    }\n",
       "</style>\n",
       "<table border=\"1\" class=\"dataframe\">\n",
       "  <thead>\n",
       "    <tr style=\"text-align: right;\">\n",
       "      <th></th>\n",
       "      <th>customerID</th>\n",
       "      <th>gender</th>\n",
       "      <th>SeniorCitizen</th>\n",
       "      <th>Partner</th>\n",
       "      <th>Dependents</th>\n",
       "      <th>tenure</th>\n",
       "      <th>PhoneService</th>\n",
       "      <th>MultipleLines</th>\n",
       "      <th>InternetService</th>\n",
       "      <th>OnlineSecurity</th>\n",
       "      <th>OnlineBackup</th>\n",
       "      <th>DeviceProtection</th>\n",
       "      <th>TechSupport</th>\n",
       "      <th>StreamingTV</th>\n",
       "      <th>StreamingMovies</th>\n",
       "      <th>Contract</th>\n",
       "      <th>PaperlessBilling</th>\n",
       "      <th>PaymentMethod</th>\n",
       "      <th>MonthlyCharges</th>\n",
       "      <th>TotalCharges</th>\n",
       "      <th>Churn</th>\n",
       "    </tr>\n",
       "  </thead>\n",
       "  <tbody>\n",
       "    <tr>\n",
       "      <th>count</th>\n",
       "      <td>7043</td>\n",
       "      <td>7043</td>\n",
       "      <td>7043.000000</td>\n",
       "      <td>7043</td>\n",
       "      <td>7043</td>\n",
       "      <td>7043.000000</td>\n",
       "      <td>7043</td>\n",
       "      <td>7043</td>\n",
       "      <td>7043</td>\n",
       "      <td>7043</td>\n",
       "      <td>7043</td>\n",
       "      <td>7043</td>\n",
       "      <td>7043</td>\n",
       "      <td>7043</td>\n",
       "      <td>7043</td>\n",
       "      <td>7043</td>\n",
       "      <td>7043</td>\n",
       "      <td>7043</td>\n",
       "      <td>7043.000000</td>\n",
       "      <td>7043</td>\n",
       "      <td>7043</td>\n",
       "    </tr>\n",
       "    <tr>\n",
       "      <th>unique</th>\n",
       "      <td>7043</td>\n",
       "      <td>2</td>\n",
       "      <td>NaN</td>\n",
       "      <td>2</td>\n",
       "      <td>2</td>\n",
       "      <td>NaN</td>\n",
       "      <td>2</td>\n",
       "      <td>3</td>\n",
       "      <td>3</td>\n",
       "      <td>3</td>\n",
       "      <td>3</td>\n",
       "      <td>3</td>\n",
       "      <td>3</td>\n",
       "      <td>3</td>\n",
       "      <td>3</td>\n",
       "      <td>3</td>\n",
       "      <td>2</td>\n",
       "      <td>4</td>\n",
       "      <td>NaN</td>\n",
       "      <td>6531</td>\n",
       "      <td>2</td>\n",
       "    </tr>\n",
       "    <tr>\n",
       "      <th>top</th>\n",
       "      <td>7777-UNYHB</td>\n",
       "      <td>Male</td>\n",
       "      <td>NaN</td>\n",
       "      <td>No</td>\n",
       "      <td>No</td>\n",
       "      <td>NaN</td>\n",
       "      <td>Yes</td>\n",
       "      <td>No</td>\n",
       "      <td>Fiber optic</td>\n",
       "      <td>No</td>\n",
       "      <td>No</td>\n",
       "      <td>No</td>\n",
       "      <td>No</td>\n",
       "      <td>No</td>\n",
       "      <td>No</td>\n",
       "      <td>Month-to-month</td>\n",
       "      <td>Yes</td>\n",
       "      <td>Electronic check</td>\n",
       "      <td>NaN</td>\n",
       "      <td>20.2</td>\n",
       "      <td>No</td>\n",
       "    </tr>\n",
       "    <tr>\n",
       "      <th>freq</th>\n",
       "      <td>1</td>\n",
       "      <td>3555</td>\n",
       "      <td>NaN</td>\n",
       "      <td>3641</td>\n",
       "      <td>4933</td>\n",
       "      <td>NaN</td>\n",
       "      <td>6361</td>\n",
       "      <td>3390</td>\n",
       "      <td>3096</td>\n",
       "      <td>3498</td>\n",
       "      <td>3088</td>\n",
       "      <td>3095</td>\n",
       "      <td>3473</td>\n",
       "      <td>2810</td>\n",
       "      <td>2785</td>\n",
       "      <td>3875</td>\n",
       "      <td>4171</td>\n",
       "      <td>2365</td>\n",
       "      <td>NaN</td>\n",
       "      <td>11</td>\n",
       "      <td>5174</td>\n",
       "    </tr>\n",
       "    <tr>\n",
       "      <th>mean</th>\n",
       "      <td>NaN</td>\n",
       "      <td>NaN</td>\n",
       "      <td>0.162147</td>\n",
       "      <td>NaN</td>\n",
       "      <td>NaN</td>\n",
       "      <td>32.371149</td>\n",
       "      <td>NaN</td>\n",
       "      <td>NaN</td>\n",
       "      <td>NaN</td>\n",
       "      <td>NaN</td>\n",
       "      <td>NaN</td>\n",
       "      <td>NaN</td>\n",
       "      <td>NaN</td>\n",
       "      <td>NaN</td>\n",
       "      <td>NaN</td>\n",
       "      <td>NaN</td>\n",
       "      <td>NaN</td>\n",
       "      <td>NaN</td>\n",
       "      <td>64.761692</td>\n",
       "      <td>NaN</td>\n",
       "      <td>NaN</td>\n",
       "    </tr>\n",
       "    <tr>\n",
       "      <th>std</th>\n",
       "      <td>NaN</td>\n",
       "      <td>NaN</td>\n",
       "      <td>0.368612</td>\n",
       "      <td>NaN</td>\n",
       "      <td>NaN</td>\n",
       "      <td>24.559481</td>\n",
       "      <td>NaN</td>\n",
       "      <td>NaN</td>\n",
       "      <td>NaN</td>\n",
       "      <td>NaN</td>\n",
       "      <td>NaN</td>\n",
       "      <td>NaN</td>\n",
       "      <td>NaN</td>\n",
       "      <td>NaN</td>\n",
       "      <td>NaN</td>\n",
       "      <td>NaN</td>\n",
       "      <td>NaN</td>\n",
       "      <td>NaN</td>\n",
       "      <td>30.090047</td>\n",
       "      <td>NaN</td>\n",
       "      <td>NaN</td>\n",
       "    </tr>\n",
       "    <tr>\n",
       "      <th>min</th>\n",
       "      <td>NaN</td>\n",
       "      <td>NaN</td>\n",
       "      <td>0.000000</td>\n",
       "      <td>NaN</td>\n",
       "      <td>NaN</td>\n",
       "      <td>0.000000</td>\n",
       "      <td>NaN</td>\n",
       "      <td>NaN</td>\n",
       "      <td>NaN</td>\n",
       "      <td>NaN</td>\n",
       "      <td>NaN</td>\n",
       "      <td>NaN</td>\n",
       "      <td>NaN</td>\n",
       "      <td>NaN</td>\n",
       "      <td>NaN</td>\n",
       "      <td>NaN</td>\n",
       "      <td>NaN</td>\n",
       "      <td>NaN</td>\n",
       "      <td>18.250000</td>\n",
       "      <td>NaN</td>\n",
       "      <td>NaN</td>\n",
       "    </tr>\n",
       "    <tr>\n",
       "      <th>25%</th>\n",
       "      <td>NaN</td>\n",
       "      <td>NaN</td>\n",
       "      <td>0.000000</td>\n",
       "      <td>NaN</td>\n",
       "      <td>NaN</td>\n",
       "      <td>9.000000</td>\n",
       "      <td>NaN</td>\n",
       "      <td>NaN</td>\n",
       "      <td>NaN</td>\n",
       "      <td>NaN</td>\n",
       "      <td>NaN</td>\n",
       "      <td>NaN</td>\n",
       "      <td>NaN</td>\n",
       "      <td>NaN</td>\n",
       "      <td>NaN</td>\n",
       "      <td>NaN</td>\n",
       "      <td>NaN</td>\n",
       "      <td>NaN</td>\n",
       "      <td>35.500000</td>\n",
       "      <td>NaN</td>\n",
       "      <td>NaN</td>\n",
       "    </tr>\n",
       "    <tr>\n",
       "      <th>50%</th>\n",
       "      <td>NaN</td>\n",
       "      <td>NaN</td>\n",
       "      <td>0.000000</td>\n",
       "      <td>NaN</td>\n",
       "      <td>NaN</td>\n",
       "      <td>29.000000</td>\n",
       "      <td>NaN</td>\n",
       "      <td>NaN</td>\n",
       "      <td>NaN</td>\n",
       "      <td>NaN</td>\n",
       "      <td>NaN</td>\n",
       "      <td>NaN</td>\n",
       "      <td>NaN</td>\n",
       "      <td>NaN</td>\n",
       "      <td>NaN</td>\n",
       "      <td>NaN</td>\n",
       "      <td>NaN</td>\n",
       "      <td>NaN</td>\n",
       "      <td>70.350000</td>\n",
       "      <td>NaN</td>\n",
       "      <td>NaN</td>\n",
       "    </tr>\n",
       "    <tr>\n",
       "      <th>75%</th>\n",
       "      <td>NaN</td>\n",
       "      <td>NaN</td>\n",
       "      <td>0.000000</td>\n",
       "      <td>NaN</td>\n",
       "      <td>NaN</td>\n",
       "      <td>55.000000</td>\n",
       "      <td>NaN</td>\n",
       "      <td>NaN</td>\n",
       "      <td>NaN</td>\n",
       "      <td>NaN</td>\n",
       "      <td>NaN</td>\n",
       "      <td>NaN</td>\n",
       "      <td>NaN</td>\n",
       "      <td>NaN</td>\n",
       "      <td>NaN</td>\n",
       "      <td>NaN</td>\n",
       "      <td>NaN</td>\n",
       "      <td>NaN</td>\n",
       "      <td>89.850000</td>\n",
       "      <td>NaN</td>\n",
       "      <td>NaN</td>\n",
       "    </tr>\n",
       "    <tr>\n",
       "      <th>max</th>\n",
       "      <td>NaN</td>\n",
       "      <td>NaN</td>\n",
       "      <td>1.000000</td>\n",
       "      <td>NaN</td>\n",
       "      <td>NaN</td>\n",
       "      <td>72.000000</td>\n",
       "      <td>NaN</td>\n",
       "      <td>NaN</td>\n",
       "      <td>NaN</td>\n",
       "      <td>NaN</td>\n",
       "      <td>NaN</td>\n",
       "      <td>NaN</td>\n",
       "      <td>NaN</td>\n",
       "      <td>NaN</td>\n",
       "      <td>NaN</td>\n",
       "      <td>NaN</td>\n",
       "      <td>NaN</td>\n",
       "      <td>NaN</td>\n",
       "      <td>118.750000</td>\n",
       "      <td>NaN</td>\n",
       "      <td>NaN</td>\n",
       "    </tr>\n",
       "  </tbody>\n",
       "</table>\n",
       "</div>"
      ],
      "text/plain": [
       "        customerID gender  SeniorCitizen Partner Dependents       tenure  \\\n",
       "count         7043   7043    7043.000000    7043       7043  7043.000000   \n",
       "unique        7043      2            NaN       2          2          NaN   \n",
       "top     7777-UNYHB   Male            NaN      No         No          NaN   \n",
       "freq             1   3555            NaN    3641       4933          NaN   \n",
       "mean           NaN    NaN       0.162147     NaN        NaN    32.371149   \n",
       "std            NaN    NaN       0.368612     NaN        NaN    24.559481   \n",
       "min            NaN    NaN       0.000000     NaN        NaN     0.000000   \n",
       "25%            NaN    NaN       0.000000     NaN        NaN     9.000000   \n",
       "50%            NaN    NaN       0.000000     NaN        NaN    29.000000   \n",
       "75%            NaN    NaN       0.000000     NaN        NaN    55.000000   \n",
       "max            NaN    NaN       1.000000     NaN        NaN    72.000000   \n",
       "\n",
       "       PhoneService MultipleLines InternetService OnlineSecurity OnlineBackup  \\\n",
       "count          7043          7043            7043           7043         7043   \n",
       "unique            2             3               3              3            3   \n",
       "top             Yes            No     Fiber optic             No           No   \n",
       "freq           6361          3390            3096           3498         3088   \n",
       "mean            NaN           NaN             NaN            NaN          NaN   \n",
       "std             NaN           NaN             NaN            NaN          NaN   \n",
       "min             NaN           NaN             NaN            NaN          NaN   \n",
       "25%             NaN           NaN             NaN            NaN          NaN   \n",
       "50%             NaN           NaN             NaN            NaN          NaN   \n",
       "75%             NaN           NaN             NaN            NaN          NaN   \n",
       "max             NaN           NaN             NaN            NaN          NaN   \n",
       "\n",
       "       DeviceProtection TechSupport StreamingTV StreamingMovies  \\\n",
       "count              7043        7043        7043            7043   \n",
       "unique                3           3           3               3   \n",
       "top                  No          No          No              No   \n",
       "freq               3095        3473        2810            2785   \n",
       "mean                NaN         NaN         NaN             NaN   \n",
       "std                 NaN         NaN         NaN             NaN   \n",
       "min                 NaN         NaN         NaN             NaN   \n",
       "25%                 NaN         NaN         NaN             NaN   \n",
       "50%                 NaN         NaN         NaN             NaN   \n",
       "75%                 NaN         NaN         NaN             NaN   \n",
       "max                 NaN         NaN         NaN             NaN   \n",
       "\n",
       "              Contract PaperlessBilling     PaymentMethod  MonthlyCharges  \\\n",
       "count             7043             7043              7043     7043.000000   \n",
       "unique               3                2                 4             NaN   \n",
       "top     Month-to-month              Yes  Electronic check             NaN   \n",
       "freq              3875             4171              2365             NaN   \n",
       "mean               NaN              NaN               NaN       64.761692   \n",
       "std                NaN              NaN               NaN       30.090047   \n",
       "min                NaN              NaN               NaN       18.250000   \n",
       "25%                NaN              NaN               NaN       35.500000   \n",
       "50%                NaN              NaN               NaN       70.350000   \n",
       "75%                NaN              NaN               NaN       89.850000   \n",
       "max                NaN              NaN               NaN      118.750000   \n",
       "\n",
       "       TotalCharges Churn  \n",
       "count          7043  7043  \n",
       "unique         6531     2  \n",
       "top            20.2    No  \n",
       "freq             11  5174  \n",
       "mean            NaN   NaN  \n",
       "std             NaN   NaN  \n",
       "min             NaN   NaN  \n",
       "25%             NaN   NaN  \n",
       "50%             NaN   NaN  \n",
       "75%             NaN   NaN  \n",
       "max             NaN   NaN  "
      ]
     },
     "execution_count": 6,
     "metadata": {},
     "output_type": "execute_result"
    }
   ],
   "source": [
    "tlc_db.describe(include='all')"
   ]
  },
  {
   "cell_type": "markdown",
   "metadata": {},
   "source": [
    "'Total Charges', as we've seen, is an object so we want to convert it to a float element. But first we have to replace spaces with 'NaN'."
   ]
  },
  {
   "cell_type": "code",
   "execution_count": 7,
   "metadata": {
    "ExecuteTime": {
     "end_time": "2019-03-26T18:21:34.062141Z",
     "start_time": "2019-03-26T18:21:34.056477Z"
    }
   },
   "outputs": [],
   "source": [
    "tlc_db['TotalCharges'] = tlc_db[\"TotalCharges\"].replace(\" \",np.nan)"
   ]
  },
  {
   "cell_type": "markdown",
   "metadata": {},
   "source": [
    "## Seeking for Na values\n",
    "* As we could expect thare are some NA values in TotalCharges column..we introduced them! \n",
    "* Anyway, is better having NAs than blank spaces..it's easier to deal with them."
   ]
  },
  {
   "cell_type": "code",
   "execution_count": 8,
   "metadata": {
    "ExecuteTime": {
     "end_time": "2019-03-26T18:21:34.732010Z",
     "start_time": "2019-03-26T18:21:34.715481Z"
    }
   },
   "outputs": [
    {
     "data": {
      "text/plain": [
       "['TotalCharges']"
      ]
     },
     "execution_count": 8,
     "metadata": {},
     "output_type": "execute_result"
    }
   ],
   "source": [
    "tlc_db.columns[tlc_db.isna().any()].tolist()"
   ]
  },
  {
   "cell_type": "code",
   "execution_count": 9,
   "metadata": {
    "ExecuteTime": {
     "end_time": "2019-03-26T18:21:35.164258Z",
     "start_time": "2019-03-26T18:21:35.131198Z"
    }
   },
   "outputs": [
    {
     "data": {
      "text/html": [
       "<div>\n",
       "<style scoped>\n",
       "    .dataframe tbody tr th:only-of-type {\n",
       "        vertical-align: middle;\n",
       "    }\n",
       "\n",
       "    .dataframe tbody tr th {\n",
       "        vertical-align: top;\n",
       "    }\n",
       "\n",
       "    .dataframe thead th {\n",
       "        text-align: right;\n",
       "    }\n",
       "</style>\n",
       "<table border=\"1\" class=\"dataframe\">\n",
       "  <thead>\n",
       "    <tr style=\"text-align: right;\">\n",
       "      <th></th>\n",
       "      <th>customerID</th>\n",
       "      <th>gender</th>\n",
       "      <th>SeniorCitizen</th>\n",
       "      <th>Partner</th>\n",
       "      <th>Dependents</th>\n",
       "      <th>tenure</th>\n",
       "      <th>PhoneService</th>\n",
       "      <th>MultipleLines</th>\n",
       "      <th>InternetService</th>\n",
       "      <th>OnlineSecurity</th>\n",
       "      <th>OnlineBackup</th>\n",
       "      <th>DeviceProtection</th>\n",
       "      <th>TechSupport</th>\n",
       "      <th>StreamingTV</th>\n",
       "      <th>StreamingMovies</th>\n",
       "      <th>Contract</th>\n",
       "      <th>PaperlessBilling</th>\n",
       "      <th>PaymentMethod</th>\n",
       "      <th>MonthlyCharges</th>\n",
       "      <th>TotalCharges</th>\n",
       "      <th>Churn</th>\n",
       "    </tr>\n",
       "  </thead>\n",
       "  <tbody>\n",
       "    <tr>\n",
       "      <th>488</th>\n",
       "      <td>4472-LVYGI</td>\n",
       "      <td>Female</td>\n",
       "      <td>0</td>\n",
       "      <td>Yes</td>\n",
       "      <td>Yes</td>\n",
       "      <td>0</td>\n",
       "      <td>No</td>\n",
       "      <td>No phone service</td>\n",
       "      <td>DSL</td>\n",
       "      <td>Yes</td>\n",
       "      <td>No</td>\n",
       "      <td>Yes</td>\n",
       "      <td>Yes</td>\n",
       "      <td>Yes</td>\n",
       "      <td>No</td>\n",
       "      <td>Two year</td>\n",
       "      <td>Yes</td>\n",
       "      <td>Bank transfer (automatic)</td>\n",
       "      <td>52.55</td>\n",
       "      <td>NaN</td>\n",
       "      <td>No</td>\n",
       "    </tr>\n",
       "    <tr>\n",
       "      <th>753</th>\n",
       "      <td>3115-CZMZD</td>\n",
       "      <td>Male</td>\n",
       "      <td>0</td>\n",
       "      <td>No</td>\n",
       "      <td>Yes</td>\n",
       "      <td>0</td>\n",
       "      <td>Yes</td>\n",
       "      <td>No</td>\n",
       "      <td>No</td>\n",
       "      <td>No internet service</td>\n",
       "      <td>No internet service</td>\n",
       "      <td>No internet service</td>\n",
       "      <td>No internet service</td>\n",
       "      <td>No internet service</td>\n",
       "      <td>No internet service</td>\n",
       "      <td>Two year</td>\n",
       "      <td>No</td>\n",
       "      <td>Mailed check</td>\n",
       "      <td>20.25</td>\n",
       "      <td>NaN</td>\n",
       "      <td>No</td>\n",
       "    </tr>\n",
       "    <tr>\n",
       "      <th>936</th>\n",
       "      <td>5709-LVOEQ</td>\n",
       "      <td>Female</td>\n",
       "      <td>0</td>\n",
       "      <td>Yes</td>\n",
       "      <td>Yes</td>\n",
       "      <td>0</td>\n",
       "      <td>Yes</td>\n",
       "      <td>No</td>\n",
       "      <td>DSL</td>\n",
       "      <td>Yes</td>\n",
       "      <td>Yes</td>\n",
       "      <td>Yes</td>\n",
       "      <td>No</td>\n",
       "      <td>Yes</td>\n",
       "      <td>Yes</td>\n",
       "      <td>Two year</td>\n",
       "      <td>No</td>\n",
       "      <td>Mailed check</td>\n",
       "      <td>80.85</td>\n",
       "      <td>NaN</td>\n",
       "      <td>No</td>\n",
       "    </tr>\n",
       "    <tr>\n",
       "      <th>1082</th>\n",
       "      <td>4367-NUYAO</td>\n",
       "      <td>Male</td>\n",
       "      <td>0</td>\n",
       "      <td>Yes</td>\n",
       "      <td>Yes</td>\n",
       "      <td>0</td>\n",
       "      <td>Yes</td>\n",
       "      <td>Yes</td>\n",
       "      <td>No</td>\n",
       "      <td>No internet service</td>\n",
       "      <td>No internet service</td>\n",
       "      <td>No internet service</td>\n",
       "      <td>No internet service</td>\n",
       "      <td>No internet service</td>\n",
       "      <td>No internet service</td>\n",
       "      <td>Two year</td>\n",
       "      <td>No</td>\n",
       "      <td>Mailed check</td>\n",
       "      <td>25.75</td>\n",
       "      <td>NaN</td>\n",
       "      <td>No</td>\n",
       "    </tr>\n",
       "    <tr>\n",
       "      <th>1340</th>\n",
       "      <td>1371-DWPAZ</td>\n",
       "      <td>Female</td>\n",
       "      <td>0</td>\n",
       "      <td>Yes</td>\n",
       "      <td>Yes</td>\n",
       "      <td>0</td>\n",
       "      <td>No</td>\n",
       "      <td>No phone service</td>\n",
       "      <td>DSL</td>\n",
       "      <td>Yes</td>\n",
       "      <td>Yes</td>\n",
       "      <td>Yes</td>\n",
       "      <td>Yes</td>\n",
       "      <td>Yes</td>\n",
       "      <td>No</td>\n",
       "      <td>Two year</td>\n",
       "      <td>No</td>\n",
       "      <td>Credit card (automatic)</td>\n",
       "      <td>56.05</td>\n",
       "      <td>NaN</td>\n",
       "      <td>No</td>\n",
       "    </tr>\n",
       "    <tr>\n",
       "      <th>3331</th>\n",
       "      <td>7644-OMVMY</td>\n",
       "      <td>Male</td>\n",
       "      <td>0</td>\n",
       "      <td>Yes</td>\n",
       "      <td>Yes</td>\n",
       "      <td>0</td>\n",
       "      <td>Yes</td>\n",
       "      <td>No</td>\n",
       "      <td>No</td>\n",
       "      <td>No internet service</td>\n",
       "      <td>No internet service</td>\n",
       "      <td>No internet service</td>\n",
       "      <td>No internet service</td>\n",
       "      <td>No internet service</td>\n",
       "      <td>No internet service</td>\n",
       "      <td>Two year</td>\n",
       "      <td>No</td>\n",
       "      <td>Mailed check</td>\n",
       "      <td>19.85</td>\n",
       "      <td>NaN</td>\n",
       "      <td>No</td>\n",
       "    </tr>\n",
       "    <tr>\n",
       "      <th>3826</th>\n",
       "      <td>3213-VVOLG</td>\n",
       "      <td>Male</td>\n",
       "      <td>0</td>\n",
       "      <td>Yes</td>\n",
       "      <td>Yes</td>\n",
       "      <td>0</td>\n",
       "      <td>Yes</td>\n",
       "      <td>Yes</td>\n",
       "      <td>No</td>\n",
       "      <td>No internet service</td>\n",
       "      <td>No internet service</td>\n",
       "      <td>No internet service</td>\n",
       "      <td>No internet service</td>\n",
       "      <td>No internet service</td>\n",
       "      <td>No internet service</td>\n",
       "      <td>Two year</td>\n",
       "      <td>No</td>\n",
       "      <td>Mailed check</td>\n",
       "      <td>25.35</td>\n",
       "      <td>NaN</td>\n",
       "      <td>No</td>\n",
       "    </tr>\n",
       "    <tr>\n",
       "      <th>4380</th>\n",
       "      <td>2520-SGTTA</td>\n",
       "      <td>Female</td>\n",
       "      <td>0</td>\n",
       "      <td>Yes</td>\n",
       "      <td>Yes</td>\n",
       "      <td>0</td>\n",
       "      <td>Yes</td>\n",
       "      <td>No</td>\n",
       "      <td>No</td>\n",
       "      <td>No internet service</td>\n",
       "      <td>No internet service</td>\n",
       "      <td>No internet service</td>\n",
       "      <td>No internet service</td>\n",
       "      <td>No internet service</td>\n",
       "      <td>No internet service</td>\n",
       "      <td>Two year</td>\n",
       "      <td>No</td>\n",
       "      <td>Mailed check</td>\n",
       "      <td>20.00</td>\n",
       "      <td>NaN</td>\n",
       "      <td>No</td>\n",
       "    </tr>\n",
       "    <tr>\n",
       "      <th>5218</th>\n",
       "      <td>2923-ARZLG</td>\n",
       "      <td>Male</td>\n",
       "      <td>0</td>\n",
       "      <td>Yes</td>\n",
       "      <td>Yes</td>\n",
       "      <td>0</td>\n",
       "      <td>Yes</td>\n",
       "      <td>No</td>\n",
       "      <td>No</td>\n",
       "      <td>No internet service</td>\n",
       "      <td>No internet service</td>\n",
       "      <td>No internet service</td>\n",
       "      <td>No internet service</td>\n",
       "      <td>No internet service</td>\n",
       "      <td>No internet service</td>\n",
       "      <td>One year</td>\n",
       "      <td>Yes</td>\n",
       "      <td>Mailed check</td>\n",
       "      <td>19.70</td>\n",
       "      <td>NaN</td>\n",
       "      <td>No</td>\n",
       "    </tr>\n",
       "    <tr>\n",
       "      <th>6670</th>\n",
       "      <td>4075-WKNIU</td>\n",
       "      <td>Female</td>\n",
       "      <td>0</td>\n",
       "      <td>Yes</td>\n",
       "      <td>Yes</td>\n",
       "      <td>0</td>\n",
       "      <td>Yes</td>\n",
       "      <td>Yes</td>\n",
       "      <td>DSL</td>\n",
       "      <td>No</td>\n",
       "      <td>Yes</td>\n",
       "      <td>Yes</td>\n",
       "      <td>Yes</td>\n",
       "      <td>Yes</td>\n",
       "      <td>No</td>\n",
       "      <td>Two year</td>\n",
       "      <td>No</td>\n",
       "      <td>Mailed check</td>\n",
       "      <td>73.35</td>\n",
       "      <td>NaN</td>\n",
       "      <td>No</td>\n",
       "    </tr>\n",
       "    <tr>\n",
       "      <th>6754</th>\n",
       "      <td>2775-SEFEE</td>\n",
       "      <td>Male</td>\n",
       "      <td>0</td>\n",
       "      <td>No</td>\n",
       "      <td>Yes</td>\n",
       "      <td>0</td>\n",
       "      <td>Yes</td>\n",
       "      <td>Yes</td>\n",
       "      <td>DSL</td>\n",
       "      <td>Yes</td>\n",
       "      <td>Yes</td>\n",
       "      <td>No</td>\n",
       "      <td>Yes</td>\n",
       "      <td>No</td>\n",
       "      <td>No</td>\n",
       "      <td>Two year</td>\n",
       "      <td>Yes</td>\n",
       "      <td>Bank transfer (automatic)</td>\n",
       "      <td>61.90</td>\n",
       "      <td>NaN</td>\n",
       "      <td>No</td>\n",
       "    </tr>\n",
       "  </tbody>\n",
       "</table>\n",
       "</div>"
      ],
      "text/plain": [
       "      customerID  gender  SeniorCitizen Partner Dependents  tenure  \\\n",
       "488   4472-LVYGI  Female              0     Yes        Yes       0   \n",
       "753   3115-CZMZD    Male              0      No        Yes       0   \n",
       "936   5709-LVOEQ  Female              0     Yes        Yes       0   \n",
       "1082  4367-NUYAO    Male              0     Yes        Yes       0   \n",
       "1340  1371-DWPAZ  Female              0     Yes        Yes       0   \n",
       "3331  7644-OMVMY    Male              0     Yes        Yes       0   \n",
       "3826  3213-VVOLG    Male              0     Yes        Yes       0   \n",
       "4380  2520-SGTTA  Female              0     Yes        Yes       0   \n",
       "5218  2923-ARZLG    Male              0     Yes        Yes       0   \n",
       "6670  4075-WKNIU  Female              0     Yes        Yes       0   \n",
       "6754  2775-SEFEE    Male              0      No        Yes       0   \n",
       "\n",
       "     PhoneService     MultipleLines InternetService       OnlineSecurity  \\\n",
       "488            No  No phone service             DSL                  Yes   \n",
       "753           Yes                No              No  No internet service   \n",
       "936           Yes                No             DSL                  Yes   \n",
       "1082          Yes               Yes              No  No internet service   \n",
       "1340           No  No phone service             DSL                  Yes   \n",
       "3331          Yes                No              No  No internet service   \n",
       "3826          Yes               Yes              No  No internet service   \n",
       "4380          Yes                No              No  No internet service   \n",
       "5218          Yes                No              No  No internet service   \n",
       "6670          Yes               Yes             DSL                   No   \n",
       "6754          Yes               Yes             DSL                  Yes   \n",
       "\n",
       "             OnlineBackup     DeviceProtection          TechSupport  \\\n",
       "488                    No                  Yes                  Yes   \n",
       "753   No internet service  No internet service  No internet service   \n",
       "936                   Yes                  Yes                   No   \n",
       "1082  No internet service  No internet service  No internet service   \n",
       "1340                  Yes                  Yes                  Yes   \n",
       "3331  No internet service  No internet service  No internet service   \n",
       "3826  No internet service  No internet service  No internet service   \n",
       "4380  No internet service  No internet service  No internet service   \n",
       "5218  No internet service  No internet service  No internet service   \n",
       "6670                  Yes                  Yes                  Yes   \n",
       "6754                  Yes                   No                  Yes   \n",
       "\n",
       "              StreamingTV      StreamingMovies  Contract PaperlessBilling  \\\n",
       "488                   Yes                   No  Two year              Yes   \n",
       "753   No internet service  No internet service  Two year               No   \n",
       "936                   Yes                  Yes  Two year               No   \n",
       "1082  No internet service  No internet service  Two year               No   \n",
       "1340                  Yes                   No  Two year               No   \n",
       "3331  No internet service  No internet service  Two year               No   \n",
       "3826  No internet service  No internet service  Two year               No   \n",
       "4380  No internet service  No internet service  Two year               No   \n",
       "5218  No internet service  No internet service  One year              Yes   \n",
       "6670                  Yes                   No  Two year               No   \n",
       "6754                   No                   No  Two year              Yes   \n",
       "\n",
       "                  PaymentMethod  MonthlyCharges TotalCharges Churn  \n",
       "488   Bank transfer (automatic)           52.55          NaN    No  \n",
       "753                Mailed check           20.25          NaN    No  \n",
       "936                Mailed check           80.85          NaN    No  \n",
       "1082               Mailed check           25.75          NaN    No  \n",
       "1340    Credit card (automatic)           56.05          NaN    No  \n",
       "3331               Mailed check           19.85          NaN    No  \n",
       "3826               Mailed check           25.35          NaN    No  \n",
       "4380               Mailed check           20.00          NaN    No  \n",
       "5218               Mailed check           19.70          NaN    No  \n",
       "6670               Mailed check           73.35          NaN    No  \n",
       "6754  Bank transfer (automatic)           61.90          NaN    No  "
      ]
     },
     "execution_count": 9,
     "metadata": {},
     "output_type": "execute_result"
    }
   ],
   "source": [
    "tlc_db.loc[tlc_db['TotalCharges'].isna()]"
   ]
  },
  {
   "cell_type": "markdown",
   "metadata": {},
   "source": [
    "We found NAs only in the *TotalCharges* variablie. Due to that, we want to replace this values with 0 and convert the type as a float variable, because those are the records with *tenure=0* so they actually didn't pay"
   ]
  },
  {
   "cell_type": "code",
   "execution_count": 10,
   "metadata": {
    "ExecuteTime": {
     "end_time": "2019-03-26T18:21:35.847820Z",
     "start_time": "2019-03-26T18:21:35.842528Z"
    }
   },
   "outputs": [],
   "source": [
    "tlc_db['TotalCharges'] = tlc_db[\"TotalCharges\"].replace(np.nan,0)"
   ]
  },
  {
   "cell_type": "code",
   "execution_count": 11,
   "metadata": {
    "ExecuteTime": {
     "end_time": "2019-03-26T18:21:36.099537Z",
     "start_time": "2019-03-26T18:21:36.091670Z"
    }
   },
   "outputs": [],
   "source": [
    "tlc_db[\"TotalCharges\"] = tlc_db[\"TotalCharges\"].astype(float)"
   ]
  },
  {
   "cell_type": "markdown",
   "metadata": {},
   "source": [
    "**Check**"
   ]
  },
  {
   "cell_type": "code",
   "execution_count": 12,
   "metadata": {
    "ExecuteTime": {
     "end_time": "2019-03-26T18:21:37.254237Z",
     "start_time": "2019-03-26T18:21:37.152708Z"
    }
   },
   "outputs": [
    {
     "data": {
      "text/html": [
       "<div>\n",
       "<style scoped>\n",
       "    .dataframe tbody tr th:only-of-type {\n",
       "        vertical-align: middle;\n",
       "    }\n",
       "\n",
       "    .dataframe tbody tr th {\n",
       "        vertical-align: top;\n",
       "    }\n",
       "\n",
       "    .dataframe thead th {\n",
       "        text-align: right;\n",
       "    }\n",
       "</style>\n",
       "<table border=\"1\" class=\"dataframe\">\n",
       "  <thead>\n",
       "    <tr style=\"text-align: right;\">\n",
       "      <th></th>\n",
       "      <th>customerID</th>\n",
       "      <th>gender</th>\n",
       "      <th>SeniorCitizen</th>\n",
       "      <th>Partner</th>\n",
       "      <th>Dependents</th>\n",
       "      <th>tenure</th>\n",
       "      <th>PhoneService</th>\n",
       "      <th>MultipleLines</th>\n",
       "      <th>InternetService</th>\n",
       "      <th>OnlineSecurity</th>\n",
       "      <th>OnlineBackup</th>\n",
       "      <th>DeviceProtection</th>\n",
       "      <th>TechSupport</th>\n",
       "      <th>StreamingTV</th>\n",
       "      <th>StreamingMovies</th>\n",
       "      <th>Contract</th>\n",
       "      <th>PaperlessBilling</th>\n",
       "      <th>PaymentMethod</th>\n",
       "      <th>MonthlyCharges</th>\n",
       "      <th>TotalCharges</th>\n",
       "      <th>Churn</th>\n",
       "    </tr>\n",
       "  </thead>\n",
       "  <tbody>\n",
       "    <tr>\n",
       "      <th>count</th>\n",
       "      <td>7043</td>\n",
       "      <td>7043</td>\n",
       "      <td>7043.000000</td>\n",
       "      <td>7043</td>\n",
       "      <td>7043</td>\n",
       "      <td>7043.000000</td>\n",
       "      <td>7043</td>\n",
       "      <td>7043</td>\n",
       "      <td>7043</td>\n",
       "      <td>7043</td>\n",
       "      <td>7043</td>\n",
       "      <td>7043</td>\n",
       "      <td>7043</td>\n",
       "      <td>7043</td>\n",
       "      <td>7043</td>\n",
       "      <td>7043</td>\n",
       "      <td>7043</td>\n",
       "      <td>7043</td>\n",
       "      <td>7043.000000</td>\n",
       "      <td>7043.000000</td>\n",
       "      <td>7043</td>\n",
       "    </tr>\n",
       "    <tr>\n",
       "      <th>unique</th>\n",
       "      <td>7043</td>\n",
       "      <td>2</td>\n",
       "      <td>NaN</td>\n",
       "      <td>2</td>\n",
       "      <td>2</td>\n",
       "      <td>NaN</td>\n",
       "      <td>2</td>\n",
       "      <td>3</td>\n",
       "      <td>3</td>\n",
       "      <td>3</td>\n",
       "      <td>3</td>\n",
       "      <td>3</td>\n",
       "      <td>3</td>\n",
       "      <td>3</td>\n",
       "      <td>3</td>\n",
       "      <td>3</td>\n",
       "      <td>2</td>\n",
       "      <td>4</td>\n",
       "      <td>NaN</td>\n",
       "      <td>NaN</td>\n",
       "      <td>2</td>\n",
       "    </tr>\n",
       "    <tr>\n",
       "      <th>top</th>\n",
       "      <td>7777-UNYHB</td>\n",
       "      <td>Male</td>\n",
       "      <td>NaN</td>\n",
       "      <td>No</td>\n",
       "      <td>No</td>\n",
       "      <td>NaN</td>\n",
       "      <td>Yes</td>\n",
       "      <td>No</td>\n",
       "      <td>Fiber optic</td>\n",
       "      <td>No</td>\n",
       "      <td>No</td>\n",
       "      <td>No</td>\n",
       "      <td>No</td>\n",
       "      <td>No</td>\n",
       "      <td>No</td>\n",
       "      <td>Month-to-month</td>\n",
       "      <td>Yes</td>\n",
       "      <td>Electronic check</td>\n",
       "      <td>NaN</td>\n",
       "      <td>NaN</td>\n",
       "      <td>No</td>\n",
       "    </tr>\n",
       "    <tr>\n",
       "      <th>freq</th>\n",
       "      <td>1</td>\n",
       "      <td>3555</td>\n",
       "      <td>NaN</td>\n",
       "      <td>3641</td>\n",
       "      <td>4933</td>\n",
       "      <td>NaN</td>\n",
       "      <td>6361</td>\n",
       "      <td>3390</td>\n",
       "      <td>3096</td>\n",
       "      <td>3498</td>\n",
       "      <td>3088</td>\n",
       "      <td>3095</td>\n",
       "      <td>3473</td>\n",
       "      <td>2810</td>\n",
       "      <td>2785</td>\n",
       "      <td>3875</td>\n",
       "      <td>4171</td>\n",
       "      <td>2365</td>\n",
       "      <td>NaN</td>\n",
       "      <td>NaN</td>\n",
       "      <td>5174</td>\n",
       "    </tr>\n",
       "    <tr>\n",
       "      <th>mean</th>\n",
       "      <td>NaN</td>\n",
       "      <td>NaN</td>\n",
       "      <td>0.162147</td>\n",
       "      <td>NaN</td>\n",
       "      <td>NaN</td>\n",
       "      <td>32.371149</td>\n",
       "      <td>NaN</td>\n",
       "      <td>NaN</td>\n",
       "      <td>NaN</td>\n",
       "      <td>NaN</td>\n",
       "      <td>NaN</td>\n",
       "      <td>NaN</td>\n",
       "      <td>NaN</td>\n",
       "      <td>NaN</td>\n",
       "      <td>NaN</td>\n",
       "      <td>NaN</td>\n",
       "      <td>NaN</td>\n",
       "      <td>NaN</td>\n",
       "      <td>64.761692</td>\n",
       "      <td>2279.734304</td>\n",
       "      <td>NaN</td>\n",
       "    </tr>\n",
       "    <tr>\n",
       "      <th>std</th>\n",
       "      <td>NaN</td>\n",
       "      <td>NaN</td>\n",
       "      <td>0.368612</td>\n",
       "      <td>NaN</td>\n",
       "      <td>NaN</td>\n",
       "      <td>24.559481</td>\n",
       "      <td>NaN</td>\n",
       "      <td>NaN</td>\n",
       "      <td>NaN</td>\n",
       "      <td>NaN</td>\n",
       "      <td>NaN</td>\n",
       "      <td>NaN</td>\n",
       "      <td>NaN</td>\n",
       "      <td>NaN</td>\n",
       "      <td>NaN</td>\n",
       "      <td>NaN</td>\n",
       "      <td>NaN</td>\n",
       "      <td>NaN</td>\n",
       "      <td>30.090047</td>\n",
       "      <td>2266.794470</td>\n",
       "      <td>NaN</td>\n",
       "    </tr>\n",
       "    <tr>\n",
       "      <th>min</th>\n",
       "      <td>NaN</td>\n",
       "      <td>NaN</td>\n",
       "      <td>0.000000</td>\n",
       "      <td>NaN</td>\n",
       "      <td>NaN</td>\n",
       "      <td>0.000000</td>\n",
       "      <td>NaN</td>\n",
       "      <td>NaN</td>\n",
       "      <td>NaN</td>\n",
       "      <td>NaN</td>\n",
       "      <td>NaN</td>\n",
       "      <td>NaN</td>\n",
       "      <td>NaN</td>\n",
       "      <td>NaN</td>\n",
       "      <td>NaN</td>\n",
       "      <td>NaN</td>\n",
       "      <td>NaN</td>\n",
       "      <td>NaN</td>\n",
       "      <td>18.250000</td>\n",
       "      <td>0.000000</td>\n",
       "      <td>NaN</td>\n",
       "    </tr>\n",
       "    <tr>\n",
       "      <th>25%</th>\n",
       "      <td>NaN</td>\n",
       "      <td>NaN</td>\n",
       "      <td>0.000000</td>\n",
       "      <td>NaN</td>\n",
       "      <td>NaN</td>\n",
       "      <td>9.000000</td>\n",
       "      <td>NaN</td>\n",
       "      <td>NaN</td>\n",
       "      <td>NaN</td>\n",
       "      <td>NaN</td>\n",
       "      <td>NaN</td>\n",
       "      <td>NaN</td>\n",
       "      <td>NaN</td>\n",
       "      <td>NaN</td>\n",
       "      <td>NaN</td>\n",
       "      <td>NaN</td>\n",
       "      <td>NaN</td>\n",
       "      <td>NaN</td>\n",
       "      <td>35.500000</td>\n",
       "      <td>398.550000</td>\n",
       "      <td>NaN</td>\n",
       "    </tr>\n",
       "    <tr>\n",
       "      <th>50%</th>\n",
       "      <td>NaN</td>\n",
       "      <td>NaN</td>\n",
       "      <td>0.000000</td>\n",
       "      <td>NaN</td>\n",
       "      <td>NaN</td>\n",
       "      <td>29.000000</td>\n",
       "      <td>NaN</td>\n",
       "      <td>NaN</td>\n",
       "      <td>NaN</td>\n",
       "      <td>NaN</td>\n",
       "      <td>NaN</td>\n",
       "      <td>NaN</td>\n",
       "      <td>NaN</td>\n",
       "      <td>NaN</td>\n",
       "      <td>NaN</td>\n",
       "      <td>NaN</td>\n",
       "      <td>NaN</td>\n",
       "      <td>NaN</td>\n",
       "      <td>70.350000</td>\n",
       "      <td>1394.550000</td>\n",
       "      <td>NaN</td>\n",
       "    </tr>\n",
       "    <tr>\n",
       "      <th>75%</th>\n",
       "      <td>NaN</td>\n",
       "      <td>NaN</td>\n",
       "      <td>0.000000</td>\n",
       "      <td>NaN</td>\n",
       "      <td>NaN</td>\n",
       "      <td>55.000000</td>\n",
       "      <td>NaN</td>\n",
       "      <td>NaN</td>\n",
       "      <td>NaN</td>\n",
       "      <td>NaN</td>\n",
       "      <td>NaN</td>\n",
       "      <td>NaN</td>\n",
       "      <td>NaN</td>\n",
       "      <td>NaN</td>\n",
       "      <td>NaN</td>\n",
       "      <td>NaN</td>\n",
       "      <td>NaN</td>\n",
       "      <td>NaN</td>\n",
       "      <td>89.850000</td>\n",
       "      <td>3786.600000</td>\n",
       "      <td>NaN</td>\n",
       "    </tr>\n",
       "    <tr>\n",
       "      <th>max</th>\n",
       "      <td>NaN</td>\n",
       "      <td>NaN</td>\n",
       "      <td>1.000000</td>\n",
       "      <td>NaN</td>\n",
       "      <td>NaN</td>\n",
       "      <td>72.000000</td>\n",
       "      <td>NaN</td>\n",
       "      <td>NaN</td>\n",
       "      <td>NaN</td>\n",
       "      <td>NaN</td>\n",
       "      <td>NaN</td>\n",
       "      <td>NaN</td>\n",
       "      <td>NaN</td>\n",
       "      <td>NaN</td>\n",
       "      <td>NaN</td>\n",
       "      <td>NaN</td>\n",
       "      <td>NaN</td>\n",
       "      <td>NaN</td>\n",
       "      <td>118.750000</td>\n",
       "      <td>8684.800000</td>\n",
       "      <td>NaN</td>\n",
       "    </tr>\n",
       "  </tbody>\n",
       "</table>\n",
       "</div>"
      ],
      "text/plain": [
       "        customerID gender  SeniorCitizen Partner Dependents       tenure  \\\n",
       "count         7043   7043    7043.000000    7043       7043  7043.000000   \n",
       "unique        7043      2            NaN       2          2          NaN   \n",
       "top     7777-UNYHB   Male            NaN      No         No          NaN   \n",
       "freq             1   3555            NaN    3641       4933          NaN   \n",
       "mean           NaN    NaN       0.162147     NaN        NaN    32.371149   \n",
       "std            NaN    NaN       0.368612     NaN        NaN    24.559481   \n",
       "min            NaN    NaN       0.000000     NaN        NaN     0.000000   \n",
       "25%            NaN    NaN       0.000000     NaN        NaN     9.000000   \n",
       "50%            NaN    NaN       0.000000     NaN        NaN    29.000000   \n",
       "75%            NaN    NaN       0.000000     NaN        NaN    55.000000   \n",
       "max            NaN    NaN       1.000000     NaN        NaN    72.000000   \n",
       "\n",
       "       PhoneService MultipleLines InternetService OnlineSecurity OnlineBackup  \\\n",
       "count          7043          7043            7043           7043         7043   \n",
       "unique            2             3               3              3            3   \n",
       "top             Yes            No     Fiber optic             No           No   \n",
       "freq           6361          3390            3096           3498         3088   \n",
       "mean            NaN           NaN             NaN            NaN          NaN   \n",
       "std             NaN           NaN             NaN            NaN          NaN   \n",
       "min             NaN           NaN             NaN            NaN          NaN   \n",
       "25%             NaN           NaN             NaN            NaN          NaN   \n",
       "50%             NaN           NaN             NaN            NaN          NaN   \n",
       "75%             NaN           NaN             NaN            NaN          NaN   \n",
       "max             NaN           NaN             NaN            NaN          NaN   \n",
       "\n",
       "       DeviceProtection TechSupport StreamingTV StreamingMovies  \\\n",
       "count              7043        7043        7043            7043   \n",
       "unique                3           3           3               3   \n",
       "top                  No          No          No              No   \n",
       "freq               3095        3473        2810            2785   \n",
       "mean                NaN         NaN         NaN             NaN   \n",
       "std                 NaN         NaN         NaN             NaN   \n",
       "min                 NaN         NaN         NaN             NaN   \n",
       "25%                 NaN         NaN         NaN             NaN   \n",
       "50%                 NaN         NaN         NaN             NaN   \n",
       "75%                 NaN         NaN         NaN             NaN   \n",
       "max                 NaN         NaN         NaN             NaN   \n",
       "\n",
       "              Contract PaperlessBilling     PaymentMethod  MonthlyCharges  \\\n",
       "count             7043             7043              7043     7043.000000   \n",
       "unique               3                2                 4             NaN   \n",
       "top     Month-to-month              Yes  Electronic check             NaN   \n",
       "freq              3875             4171              2365             NaN   \n",
       "mean               NaN              NaN               NaN       64.761692   \n",
       "std                NaN              NaN               NaN       30.090047   \n",
       "min                NaN              NaN               NaN       18.250000   \n",
       "25%                NaN              NaN               NaN       35.500000   \n",
       "50%                NaN              NaN               NaN       70.350000   \n",
       "75%                NaN              NaN               NaN       89.850000   \n",
       "max                NaN              NaN               NaN      118.750000   \n",
       "\n",
       "        TotalCharges Churn  \n",
       "count    7043.000000  7043  \n",
       "unique           NaN     2  \n",
       "top              NaN    No  \n",
       "freq             NaN  5174  \n",
       "mean     2279.734304   NaN  \n",
       "std      2266.794470   NaN  \n",
       "min         0.000000   NaN  \n",
       "25%       398.550000   NaN  \n",
       "50%      1394.550000   NaN  \n",
       "75%      3786.600000   NaN  \n",
       "max      8684.800000   NaN  "
      ]
     },
     "execution_count": 12,
     "metadata": {},
     "output_type": "execute_result"
    }
   ],
   "source": [
    "tlc_db.describe(include='all')"
   ]
  },
  {
   "cell_type": "markdown",
   "metadata": {},
   "source": [
    "Now our Dataset is clean, there are no missing values"
   ]
  },
  {
   "cell_type": "markdown",
   "metadata": {},
   "source": [
    "## Analyzing columns"
   ]
  },
  {
   "cell_type": "code",
   "execution_count": 13,
   "metadata": {
    "ExecuteTime": {
     "end_time": "2019-03-26T18:21:37.635637Z",
     "start_time": "2019-03-26T18:21:37.624741Z"
    }
   },
   "outputs": [
    {
     "data": {
      "text/plain": [
       "Fiber optic    3096\n",
       "DSL            2421\n",
       "No             1526\n",
       "Name: InternetService, dtype: int64"
      ]
     },
     "execution_count": 13,
     "metadata": {},
     "output_type": "execute_result"
    }
   ],
   "source": [
    "tlc_db['InternetService'].value_counts()"
   ]
  },
  {
   "cell_type": "code",
   "execution_count": 14,
   "metadata": {
    "ExecuteTime": {
     "end_time": "2019-03-26T18:21:38.008888Z",
     "start_time": "2019-03-26T18:21:37.999812Z"
    }
   },
   "outputs": [
    {
     "data": {
      "text/plain": [
       "No                  3390\n",
       "Yes                 2971\n",
       "No phone service     682\n",
       "Name: MultipleLines, dtype: int64"
      ]
     },
     "execution_count": 14,
     "metadata": {},
     "output_type": "execute_result"
    }
   ],
   "source": [
    "tlc_db['MultipleLines'].value_counts()"
   ]
  },
  {
   "cell_type": "code",
   "execution_count": 15,
   "metadata": {
    "ExecuteTime": {
     "end_time": "2019-03-26T18:21:39.009834Z",
     "start_time": "2019-03-26T18:21:39.000542Z"
    }
   },
   "outputs": [
    {
     "data": {
      "text/plain": [
       "Electronic check             2365\n",
       "Mailed check                 1612\n",
       "Bank transfer (automatic)    1544\n",
       "Credit card (automatic)      1522\n",
       "Name: PaymentMethod, dtype: int64"
      ]
     },
     "execution_count": 15,
     "metadata": {},
     "output_type": "execute_result"
    }
   ],
   "source": [
    "tlc_db['PaymentMethod'].value_counts()"
   ]
  },
  {
   "cell_type": "markdown",
   "metadata": {},
   "source": [
    "* It's useful to deal with binary categorical variable by transforming to binary numerical (0/1) variable.\n",
    "* We're going to do it with *Partner,Dependents,PhoneService,PaperlessBilling,Churn*."
   ]
  },
  {
   "cell_type": "markdown",
   "metadata": {},
   "source": [
    "## Transforming \"yes/no\" into \"0/1\""
   ]
  },
  {
   "cell_type": "code",
   "execution_count": 16,
   "metadata": {
    "ExecuteTime": {
     "end_time": "2019-03-26T18:21:39.767171Z",
     "start_time": "2019-03-26T18:21:39.617007Z"
    }
   },
   "outputs": [
    {
     "data": {
      "text/html": [
       "<div>\n",
       "<style scoped>\n",
       "    .dataframe tbody tr th:only-of-type {\n",
       "        vertical-align: middle;\n",
       "    }\n",
       "\n",
       "    .dataframe tbody tr th {\n",
       "        vertical-align: top;\n",
       "    }\n",
       "\n",
       "    .dataframe thead th {\n",
       "        text-align: right;\n",
       "    }\n",
       "</style>\n",
       "<table border=\"1\" class=\"dataframe\">\n",
       "  <thead>\n",
       "    <tr style=\"text-align: right;\">\n",
       "      <th></th>\n",
       "      <th>customerID</th>\n",
       "      <th>gender</th>\n",
       "      <th>SeniorCitizen</th>\n",
       "      <th>Partner</th>\n",
       "      <th>Dependents</th>\n",
       "      <th>tenure</th>\n",
       "      <th>PhoneService</th>\n",
       "      <th>MultipleLines</th>\n",
       "      <th>InternetService</th>\n",
       "      <th>OnlineSecurity</th>\n",
       "      <th>OnlineBackup</th>\n",
       "      <th>DeviceProtection</th>\n",
       "      <th>TechSupport</th>\n",
       "      <th>StreamingTV</th>\n",
       "      <th>StreamingMovies</th>\n",
       "      <th>Contract</th>\n",
       "      <th>PaperlessBilling</th>\n",
       "      <th>PaymentMethod</th>\n",
       "      <th>MonthlyCharges</th>\n",
       "      <th>TotalCharges</th>\n",
       "      <th>Churn</th>\n",
       "    </tr>\n",
       "  </thead>\n",
       "  <tbody>\n",
       "    <tr>\n",
       "      <th>count</th>\n",
       "      <td>7043</td>\n",
       "      <td>7043.000000</td>\n",
       "      <td>7043.000000</td>\n",
       "      <td>7043.000000</td>\n",
       "      <td>7043.000000</td>\n",
       "      <td>7043.000000</td>\n",
       "      <td>7043.000000</td>\n",
       "      <td>7043</td>\n",
       "      <td>7043</td>\n",
       "      <td>7043</td>\n",
       "      <td>7043</td>\n",
       "      <td>7043</td>\n",
       "      <td>7043</td>\n",
       "      <td>7043</td>\n",
       "      <td>7043</td>\n",
       "      <td>7043</td>\n",
       "      <td>7043.000000</td>\n",
       "      <td>7043</td>\n",
       "      <td>7043.000000</td>\n",
       "      <td>7043.000000</td>\n",
       "      <td>7043.000000</td>\n",
       "    </tr>\n",
       "    <tr>\n",
       "      <th>unique</th>\n",
       "      <td>7043</td>\n",
       "      <td>NaN</td>\n",
       "      <td>NaN</td>\n",
       "      <td>NaN</td>\n",
       "      <td>NaN</td>\n",
       "      <td>NaN</td>\n",
       "      <td>NaN</td>\n",
       "      <td>3</td>\n",
       "      <td>3</td>\n",
       "      <td>3</td>\n",
       "      <td>3</td>\n",
       "      <td>3</td>\n",
       "      <td>3</td>\n",
       "      <td>3</td>\n",
       "      <td>3</td>\n",
       "      <td>3</td>\n",
       "      <td>NaN</td>\n",
       "      <td>4</td>\n",
       "      <td>NaN</td>\n",
       "      <td>NaN</td>\n",
       "      <td>NaN</td>\n",
       "    </tr>\n",
       "    <tr>\n",
       "      <th>top</th>\n",
       "      <td>7777-UNYHB</td>\n",
       "      <td>NaN</td>\n",
       "      <td>NaN</td>\n",
       "      <td>NaN</td>\n",
       "      <td>NaN</td>\n",
       "      <td>NaN</td>\n",
       "      <td>NaN</td>\n",
       "      <td>No</td>\n",
       "      <td>Fiber optic</td>\n",
       "      <td>No</td>\n",
       "      <td>No</td>\n",
       "      <td>No</td>\n",
       "      <td>No</td>\n",
       "      <td>No</td>\n",
       "      <td>No</td>\n",
       "      <td>Month-to-month</td>\n",
       "      <td>NaN</td>\n",
       "      <td>Electronic check</td>\n",
       "      <td>NaN</td>\n",
       "      <td>NaN</td>\n",
       "      <td>NaN</td>\n",
       "    </tr>\n",
       "    <tr>\n",
       "      <th>freq</th>\n",
       "      <td>1</td>\n",
       "      <td>NaN</td>\n",
       "      <td>NaN</td>\n",
       "      <td>NaN</td>\n",
       "      <td>NaN</td>\n",
       "      <td>NaN</td>\n",
       "      <td>NaN</td>\n",
       "      <td>3390</td>\n",
       "      <td>3096</td>\n",
       "      <td>3498</td>\n",
       "      <td>3088</td>\n",
       "      <td>3095</td>\n",
       "      <td>3473</td>\n",
       "      <td>2810</td>\n",
       "      <td>2785</td>\n",
       "      <td>3875</td>\n",
       "      <td>NaN</td>\n",
       "      <td>2365</td>\n",
       "      <td>NaN</td>\n",
       "      <td>NaN</td>\n",
       "      <td>NaN</td>\n",
       "    </tr>\n",
       "    <tr>\n",
       "      <th>mean</th>\n",
       "      <td>NaN</td>\n",
       "      <td>0.495244</td>\n",
       "      <td>0.162147</td>\n",
       "      <td>0.483033</td>\n",
       "      <td>0.299588</td>\n",
       "      <td>32.371149</td>\n",
       "      <td>0.903166</td>\n",
       "      <td>NaN</td>\n",
       "      <td>NaN</td>\n",
       "      <td>NaN</td>\n",
       "      <td>NaN</td>\n",
       "      <td>NaN</td>\n",
       "      <td>NaN</td>\n",
       "      <td>NaN</td>\n",
       "      <td>NaN</td>\n",
       "      <td>NaN</td>\n",
       "      <td>0.592219</td>\n",
       "      <td>NaN</td>\n",
       "      <td>64.761692</td>\n",
       "      <td>2279.734304</td>\n",
       "      <td>0.265370</td>\n",
       "    </tr>\n",
       "    <tr>\n",
       "      <th>std</th>\n",
       "      <td>NaN</td>\n",
       "      <td>0.500013</td>\n",
       "      <td>0.368612</td>\n",
       "      <td>0.499748</td>\n",
       "      <td>0.458110</td>\n",
       "      <td>24.559481</td>\n",
       "      <td>0.295752</td>\n",
       "      <td>NaN</td>\n",
       "      <td>NaN</td>\n",
       "      <td>NaN</td>\n",
       "      <td>NaN</td>\n",
       "      <td>NaN</td>\n",
       "      <td>NaN</td>\n",
       "      <td>NaN</td>\n",
       "      <td>NaN</td>\n",
       "      <td>NaN</td>\n",
       "      <td>0.491457</td>\n",
       "      <td>NaN</td>\n",
       "      <td>30.090047</td>\n",
       "      <td>2266.794470</td>\n",
       "      <td>0.441561</td>\n",
       "    </tr>\n",
       "    <tr>\n",
       "      <th>min</th>\n",
       "      <td>NaN</td>\n",
       "      <td>0.000000</td>\n",
       "      <td>0.000000</td>\n",
       "      <td>0.000000</td>\n",
       "      <td>0.000000</td>\n",
       "      <td>0.000000</td>\n",
       "      <td>0.000000</td>\n",
       "      <td>NaN</td>\n",
       "      <td>NaN</td>\n",
       "      <td>NaN</td>\n",
       "      <td>NaN</td>\n",
       "      <td>NaN</td>\n",
       "      <td>NaN</td>\n",
       "      <td>NaN</td>\n",
       "      <td>NaN</td>\n",
       "      <td>NaN</td>\n",
       "      <td>0.000000</td>\n",
       "      <td>NaN</td>\n",
       "      <td>18.250000</td>\n",
       "      <td>0.000000</td>\n",
       "      <td>0.000000</td>\n",
       "    </tr>\n",
       "    <tr>\n",
       "      <th>25%</th>\n",
       "      <td>NaN</td>\n",
       "      <td>0.000000</td>\n",
       "      <td>0.000000</td>\n",
       "      <td>0.000000</td>\n",
       "      <td>0.000000</td>\n",
       "      <td>9.000000</td>\n",
       "      <td>1.000000</td>\n",
       "      <td>NaN</td>\n",
       "      <td>NaN</td>\n",
       "      <td>NaN</td>\n",
       "      <td>NaN</td>\n",
       "      <td>NaN</td>\n",
       "      <td>NaN</td>\n",
       "      <td>NaN</td>\n",
       "      <td>NaN</td>\n",
       "      <td>NaN</td>\n",
       "      <td>0.000000</td>\n",
       "      <td>NaN</td>\n",
       "      <td>35.500000</td>\n",
       "      <td>398.550000</td>\n",
       "      <td>0.000000</td>\n",
       "    </tr>\n",
       "    <tr>\n",
       "      <th>50%</th>\n",
       "      <td>NaN</td>\n",
       "      <td>0.000000</td>\n",
       "      <td>0.000000</td>\n",
       "      <td>0.000000</td>\n",
       "      <td>0.000000</td>\n",
       "      <td>29.000000</td>\n",
       "      <td>1.000000</td>\n",
       "      <td>NaN</td>\n",
       "      <td>NaN</td>\n",
       "      <td>NaN</td>\n",
       "      <td>NaN</td>\n",
       "      <td>NaN</td>\n",
       "      <td>NaN</td>\n",
       "      <td>NaN</td>\n",
       "      <td>NaN</td>\n",
       "      <td>NaN</td>\n",
       "      <td>1.000000</td>\n",
       "      <td>NaN</td>\n",
       "      <td>70.350000</td>\n",
       "      <td>1394.550000</td>\n",
       "      <td>0.000000</td>\n",
       "    </tr>\n",
       "    <tr>\n",
       "      <th>75%</th>\n",
       "      <td>NaN</td>\n",
       "      <td>1.000000</td>\n",
       "      <td>0.000000</td>\n",
       "      <td>1.000000</td>\n",
       "      <td>1.000000</td>\n",
       "      <td>55.000000</td>\n",
       "      <td>1.000000</td>\n",
       "      <td>NaN</td>\n",
       "      <td>NaN</td>\n",
       "      <td>NaN</td>\n",
       "      <td>NaN</td>\n",
       "      <td>NaN</td>\n",
       "      <td>NaN</td>\n",
       "      <td>NaN</td>\n",
       "      <td>NaN</td>\n",
       "      <td>NaN</td>\n",
       "      <td>1.000000</td>\n",
       "      <td>NaN</td>\n",
       "      <td>89.850000</td>\n",
       "      <td>3786.600000</td>\n",
       "      <td>1.000000</td>\n",
       "    </tr>\n",
       "    <tr>\n",
       "      <th>max</th>\n",
       "      <td>NaN</td>\n",
       "      <td>1.000000</td>\n",
       "      <td>1.000000</td>\n",
       "      <td>1.000000</td>\n",
       "      <td>1.000000</td>\n",
       "      <td>72.000000</td>\n",
       "      <td>1.000000</td>\n",
       "      <td>NaN</td>\n",
       "      <td>NaN</td>\n",
       "      <td>NaN</td>\n",
       "      <td>NaN</td>\n",
       "      <td>NaN</td>\n",
       "      <td>NaN</td>\n",
       "      <td>NaN</td>\n",
       "      <td>NaN</td>\n",
       "      <td>NaN</td>\n",
       "      <td>1.000000</td>\n",
       "      <td>NaN</td>\n",
       "      <td>118.750000</td>\n",
       "      <td>8684.800000</td>\n",
       "      <td>1.000000</td>\n",
       "    </tr>\n",
       "  </tbody>\n",
       "</table>\n",
       "</div>"
      ],
      "text/plain": [
       "        customerID       gender  SeniorCitizen      Partner   Dependents  \\\n",
       "count         7043  7043.000000    7043.000000  7043.000000  7043.000000   \n",
       "unique        7043          NaN            NaN          NaN          NaN   \n",
       "top     7777-UNYHB          NaN            NaN          NaN          NaN   \n",
       "freq             1          NaN            NaN          NaN          NaN   \n",
       "mean           NaN     0.495244       0.162147     0.483033     0.299588   \n",
       "std            NaN     0.500013       0.368612     0.499748     0.458110   \n",
       "min            NaN     0.000000       0.000000     0.000000     0.000000   \n",
       "25%            NaN     0.000000       0.000000     0.000000     0.000000   \n",
       "50%            NaN     0.000000       0.000000     0.000000     0.000000   \n",
       "75%            NaN     1.000000       0.000000     1.000000     1.000000   \n",
       "max            NaN     1.000000       1.000000     1.000000     1.000000   \n",
       "\n",
       "             tenure  PhoneService MultipleLines InternetService  \\\n",
       "count   7043.000000   7043.000000          7043            7043   \n",
       "unique          NaN           NaN             3               3   \n",
       "top             NaN           NaN            No     Fiber optic   \n",
       "freq            NaN           NaN          3390            3096   \n",
       "mean      32.371149      0.903166           NaN             NaN   \n",
       "std       24.559481      0.295752           NaN             NaN   \n",
       "min        0.000000      0.000000           NaN             NaN   \n",
       "25%        9.000000      1.000000           NaN             NaN   \n",
       "50%       29.000000      1.000000           NaN             NaN   \n",
       "75%       55.000000      1.000000           NaN             NaN   \n",
       "max       72.000000      1.000000           NaN             NaN   \n",
       "\n",
       "       OnlineSecurity OnlineBackup DeviceProtection TechSupport StreamingTV  \\\n",
       "count            7043         7043             7043        7043        7043   \n",
       "unique              3            3                3           3           3   \n",
       "top                No           No               No          No          No   \n",
       "freq             3498         3088             3095        3473        2810   \n",
       "mean              NaN          NaN              NaN         NaN         NaN   \n",
       "std               NaN          NaN              NaN         NaN         NaN   \n",
       "min               NaN          NaN              NaN         NaN         NaN   \n",
       "25%               NaN          NaN              NaN         NaN         NaN   \n",
       "50%               NaN          NaN              NaN         NaN         NaN   \n",
       "75%               NaN          NaN              NaN         NaN         NaN   \n",
       "max               NaN          NaN              NaN         NaN         NaN   \n",
       "\n",
       "       StreamingMovies        Contract  PaperlessBilling     PaymentMethod  \\\n",
       "count             7043            7043       7043.000000              7043   \n",
       "unique               3               3               NaN                 4   \n",
       "top                 No  Month-to-month               NaN  Electronic check   \n",
       "freq              2785            3875               NaN              2365   \n",
       "mean               NaN             NaN          0.592219               NaN   \n",
       "std                NaN             NaN          0.491457               NaN   \n",
       "min                NaN             NaN          0.000000               NaN   \n",
       "25%                NaN             NaN          0.000000               NaN   \n",
       "50%                NaN             NaN          1.000000               NaN   \n",
       "75%                NaN             NaN          1.000000               NaN   \n",
       "max                NaN             NaN          1.000000               NaN   \n",
       "\n",
       "        MonthlyCharges  TotalCharges        Churn  \n",
       "count      7043.000000   7043.000000  7043.000000  \n",
       "unique             NaN           NaN          NaN  \n",
       "top                NaN           NaN          NaN  \n",
       "freq               NaN           NaN          NaN  \n",
       "mean         64.761692   2279.734304     0.265370  \n",
       "std          30.090047   2266.794470     0.441561  \n",
       "min          18.250000      0.000000     0.000000  \n",
       "25%          35.500000    398.550000     0.000000  \n",
       "50%          70.350000   1394.550000     0.000000  \n",
       "75%          89.850000   3786.600000     1.000000  \n",
       "max         118.750000   8684.800000     1.000000  "
      ]
     },
     "execution_count": 16,
     "metadata": {},
     "output_type": "execute_result"
    }
   ],
   "source": [
    "tlc_db[['Partner','Dependents','PhoneService','PaperlessBilling','Churn']] = tlc_db[['Partner','Dependents','PhoneService','PaperlessBilling','Churn']].replace({'No': 0, 'Yes': 1})\n",
    "tlc_db['gender'] = tlc_db['gender'].replace({'Male': 0, 'Female': 1})\n",
    "tlc_db.describe(include='all')"
   ]
  },
  {
   "cell_type": "markdown",
   "metadata": {},
   "source": [
    "* With categorical variable that have more than 2 catgories have to be trasformed using the so called **One hot encoding** techinque"
   ]
  },
  {
   "cell_type": "markdown",
   "metadata": {},
   "source": [
    "## Our 'One hot encoding' code"
   ]
  },
  {
   "cell_type": "code",
   "execution_count": 17,
   "metadata": {
    "ExecuteTime": {
     "end_time": "2019-03-26T18:21:41.048983Z",
     "start_time": "2019-03-26T18:21:40.963652Z"
    }
   },
   "outputs": [],
   "source": [
    "tlc_db1 = tlc_db.copy()\n",
    "\n",
    "columns1 = ['MultipleLines', 'InternetService', 'OnlineSecurity', 'OnlineBackup', 'DeviceProtection', \n",
    "            'TechSupport', 'StreamingTV', 'StreamingMovies', 'Contract', 'PaymentMethod']\n",
    "\n",
    "for colnames in columns1:\n",
    "    mlt = pd.get_dummies(tlc_db1[colnames])\n",
    "    list1 = list(mlt.columns.values)\n",
    "    listaname = []\n",
    "    for i in list1:\n",
    "        string = \"\" \n",
    "        for y in i.split():\n",
    "            string += y.capitalize()\n",
    "        listaname.append(colnames+'_'+string)\n",
    "\n",
    "    mlt.set_axis(listaname, axis='columns', inplace=True)\n",
    "    tlc_db1.drop(colnames, axis = 1, inplace=True)\n",
    "    tlc_db1 = pd.concat([tlc_db1, mlt], axis = 1)"
   ]
  },
  {
   "cell_type": "markdown",
   "metadata": {},
   "source": [
    "**We do not need to leave the column 'customerID' as a predictor, because it is obviously not relevant, so we drop it**"
   ]
  },
  {
   "cell_type": "code",
   "execution_count": 18,
   "metadata": {
    "ExecuteTime": {
     "end_time": "2019-03-26T18:21:41.944649Z",
     "start_time": "2019-03-26T18:21:41.917102Z"
    }
   },
   "outputs": [
    {
     "data": {
      "text/html": [
       "<div>\n",
       "<style scoped>\n",
       "    .dataframe tbody tr th:only-of-type {\n",
       "        vertical-align: middle;\n",
       "    }\n",
       "\n",
       "    .dataframe tbody tr th {\n",
       "        vertical-align: top;\n",
       "    }\n",
       "\n",
       "    .dataframe thead th {\n",
       "        text-align: right;\n",
       "    }\n",
       "</style>\n",
       "<table border=\"1\" class=\"dataframe\">\n",
       "  <thead>\n",
       "    <tr style=\"text-align: right;\">\n",
       "      <th></th>\n",
       "      <th>gender</th>\n",
       "      <th>SeniorCitizen</th>\n",
       "      <th>Partner</th>\n",
       "      <th>Dependents</th>\n",
       "      <th>tenure</th>\n",
       "      <th>PhoneService</th>\n",
       "      <th>PaperlessBilling</th>\n",
       "      <th>MonthlyCharges</th>\n",
       "      <th>TotalCharges</th>\n",
       "      <th>Churn</th>\n",
       "      <th>MultipleLines_No</th>\n",
       "      <th>MultipleLines_NoPhoneService</th>\n",
       "      <th>MultipleLines_Yes</th>\n",
       "      <th>InternetService_Dsl</th>\n",
       "      <th>InternetService_FiberOptic</th>\n",
       "      <th>InternetService_No</th>\n",
       "      <th>OnlineSecurity_No</th>\n",
       "      <th>OnlineSecurity_NoInternetService</th>\n",
       "      <th>OnlineSecurity_Yes</th>\n",
       "      <th>OnlineBackup_No</th>\n",
       "      <th>OnlineBackup_NoInternetService</th>\n",
       "      <th>OnlineBackup_Yes</th>\n",
       "      <th>DeviceProtection_No</th>\n",
       "      <th>DeviceProtection_NoInternetService</th>\n",
       "      <th>DeviceProtection_Yes</th>\n",
       "      <th>TechSupport_No</th>\n",
       "      <th>TechSupport_NoInternetService</th>\n",
       "      <th>TechSupport_Yes</th>\n",
       "      <th>StreamingTV_No</th>\n",
       "      <th>StreamingTV_NoInternetService</th>\n",
       "      <th>StreamingTV_Yes</th>\n",
       "      <th>StreamingMovies_No</th>\n",
       "      <th>StreamingMovies_NoInternetService</th>\n",
       "      <th>StreamingMovies_Yes</th>\n",
       "      <th>Contract_Month-to-month</th>\n",
       "      <th>Contract_OneYear</th>\n",
       "      <th>Contract_TwoYear</th>\n",
       "      <th>PaymentMethod_BankTransfer(automatic)</th>\n",
       "      <th>PaymentMethod_CreditCard(automatic)</th>\n",
       "      <th>PaymentMethod_ElectronicCheck</th>\n",
       "      <th>PaymentMethod_MailedCheck</th>\n",
       "    </tr>\n",
       "  </thead>\n",
       "  <tbody>\n",
       "    <tr>\n",
       "      <th>0</th>\n",
       "      <td>1</td>\n",
       "      <td>0</td>\n",
       "      <td>1</td>\n",
       "      <td>0</td>\n",
       "      <td>1</td>\n",
       "      <td>0</td>\n",
       "      <td>1</td>\n",
       "      <td>29.85</td>\n",
       "      <td>29.85</td>\n",
       "      <td>0</td>\n",
       "      <td>0</td>\n",
       "      <td>1</td>\n",
       "      <td>0</td>\n",
       "      <td>1</td>\n",
       "      <td>0</td>\n",
       "      <td>0</td>\n",
       "      <td>1</td>\n",
       "      <td>0</td>\n",
       "      <td>0</td>\n",
       "      <td>0</td>\n",
       "      <td>0</td>\n",
       "      <td>1</td>\n",
       "      <td>1</td>\n",
       "      <td>0</td>\n",
       "      <td>0</td>\n",
       "      <td>1</td>\n",
       "      <td>0</td>\n",
       "      <td>0</td>\n",
       "      <td>1</td>\n",
       "      <td>0</td>\n",
       "      <td>0</td>\n",
       "      <td>1</td>\n",
       "      <td>0</td>\n",
       "      <td>0</td>\n",
       "      <td>1</td>\n",
       "      <td>0</td>\n",
       "      <td>0</td>\n",
       "      <td>0</td>\n",
       "      <td>0</td>\n",
       "      <td>1</td>\n",
       "      <td>0</td>\n",
       "    </tr>\n",
       "    <tr>\n",
       "      <th>1</th>\n",
       "      <td>0</td>\n",
       "      <td>0</td>\n",
       "      <td>0</td>\n",
       "      <td>0</td>\n",
       "      <td>34</td>\n",
       "      <td>1</td>\n",
       "      <td>0</td>\n",
       "      <td>56.95</td>\n",
       "      <td>1889.50</td>\n",
       "      <td>0</td>\n",
       "      <td>1</td>\n",
       "      <td>0</td>\n",
       "      <td>0</td>\n",
       "      <td>1</td>\n",
       "      <td>0</td>\n",
       "      <td>0</td>\n",
       "      <td>0</td>\n",
       "      <td>0</td>\n",
       "      <td>1</td>\n",
       "      <td>1</td>\n",
       "      <td>0</td>\n",
       "      <td>0</td>\n",
       "      <td>0</td>\n",
       "      <td>0</td>\n",
       "      <td>1</td>\n",
       "      <td>1</td>\n",
       "      <td>0</td>\n",
       "      <td>0</td>\n",
       "      <td>1</td>\n",
       "      <td>0</td>\n",
       "      <td>0</td>\n",
       "      <td>1</td>\n",
       "      <td>0</td>\n",
       "      <td>0</td>\n",
       "      <td>0</td>\n",
       "      <td>1</td>\n",
       "      <td>0</td>\n",
       "      <td>0</td>\n",
       "      <td>0</td>\n",
       "      <td>0</td>\n",
       "      <td>1</td>\n",
       "    </tr>\n",
       "    <tr>\n",
       "      <th>2</th>\n",
       "      <td>0</td>\n",
       "      <td>0</td>\n",
       "      <td>0</td>\n",
       "      <td>0</td>\n",
       "      <td>2</td>\n",
       "      <td>1</td>\n",
       "      <td>1</td>\n",
       "      <td>53.85</td>\n",
       "      <td>108.15</td>\n",
       "      <td>1</td>\n",
       "      <td>1</td>\n",
       "      <td>0</td>\n",
       "      <td>0</td>\n",
       "      <td>1</td>\n",
       "      <td>0</td>\n",
       "      <td>0</td>\n",
       "      <td>0</td>\n",
       "      <td>0</td>\n",
       "      <td>1</td>\n",
       "      <td>0</td>\n",
       "      <td>0</td>\n",
       "      <td>1</td>\n",
       "      <td>1</td>\n",
       "      <td>0</td>\n",
       "      <td>0</td>\n",
       "      <td>1</td>\n",
       "      <td>0</td>\n",
       "      <td>0</td>\n",
       "      <td>1</td>\n",
       "      <td>0</td>\n",
       "      <td>0</td>\n",
       "      <td>1</td>\n",
       "      <td>0</td>\n",
       "      <td>0</td>\n",
       "      <td>1</td>\n",
       "      <td>0</td>\n",
       "      <td>0</td>\n",
       "      <td>0</td>\n",
       "      <td>0</td>\n",
       "      <td>0</td>\n",
       "      <td>1</td>\n",
       "    </tr>\n",
       "    <tr>\n",
       "      <th>3</th>\n",
       "      <td>0</td>\n",
       "      <td>0</td>\n",
       "      <td>0</td>\n",
       "      <td>0</td>\n",
       "      <td>45</td>\n",
       "      <td>0</td>\n",
       "      <td>0</td>\n",
       "      <td>42.30</td>\n",
       "      <td>1840.75</td>\n",
       "      <td>0</td>\n",
       "      <td>0</td>\n",
       "      <td>1</td>\n",
       "      <td>0</td>\n",
       "      <td>1</td>\n",
       "      <td>0</td>\n",
       "      <td>0</td>\n",
       "      <td>0</td>\n",
       "      <td>0</td>\n",
       "      <td>1</td>\n",
       "      <td>1</td>\n",
       "      <td>0</td>\n",
       "      <td>0</td>\n",
       "      <td>0</td>\n",
       "      <td>0</td>\n",
       "      <td>1</td>\n",
       "      <td>0</td>\n",
       "      <td>0</td>\n",
       "      <td>1</td>\n",
       "      <td>1</td>\n",
       "      <td>0</td>\n",
       "      <td>0</td>\n",
       "      <td>1</td>\n",
       "      <td>0</td>\n",
       "      <td>0</td>\n",
       "      <td>0</td>\n",
       "      <td>1</td>\n",
       "      <td>0</td>\n",
       "      <td>1</td>\n",
       "      <td>0</td>\n",
       "      <td>0</td>\n",
       "      <td>0</td>\n",
       "    </tr>\n",
       "    <tr>\n",
       "      <th>4</th>\n",
       "      <td>1</td>\n",
       "      <td>0</td>\n",
       "      <td>0</td>\n",
       "      <td>0</td>\n",
       "      <td>2</td>\n",
       "      <td>1</td>\n",
       "      <td>1</td>\n",
       "      <td>70.70</td>\n",
       "      <td>151.65</td>\n",
       "      <td>1</td>\n",
       "      <td>1</td>\n",
       "      <td>0</td>\n",
       "      <td>0</td>\n",
       "      <td>0</td>\n",
       "      <td>1</td>\n",
       "      <td>0</td>\n",
       "      <td>1</td>\n",
       "      <td>0</td>\n",
       "      <td>0</td>\n",
       "      <td>1</td>\n",
       "      <td>0</td>\n",
       "      <td>0</td>\n",
       "      <td>1</td>\n",
       "      <td>0</td>\n",
       "      <td>0</td>\n",
       "      <td>1</td>\n",
       "      <td>0</td>\n",
       "      <td>0</td>\n",
       "      <td>1</td>\n",
       "      <td>0</td>\n",
       "      <td>0</td>\n",
       "      <td>1</td>\n",
       "      <td>0</td>\n",
       "      <td>0</td>\n",
       "      <td>1</td>\n",
       "      <td>0</td>\n",
       "      <td>0</td>\n",
       "      <td>0</td>\n",
       "      <td>0</td>\n",
       "      <td>1</td>\n",
       "      <td>0</td>\n",
       "    </tr>\n",
       "  </tbody>\n",
       "</table>\n",
       "</div>"
      ],
      "text/plain": [
       "   gender  SeniorCitizen  Partner  Dependents  tenure  PhoneService  \\\n",
       "0       1              0        1           0       1             0   \n",
       "1       0              0        0           0      34             1   \n",
       "2       0              0        0           0       2             1   \n",
       "3       0              0        0           0      45             0   \n",
       "4       1              0        0           0       2             1   \n",
       "\n",
       "   PaperlessBilling  MonthlyCharges  TotalCharges  Churn  MultipleLines_No  \\\n",
       "0                 1           29.85         29.85      0                 0   \n",
       "1                 0           56.95       1889.50      0                 1   \n",
       "2                 1           53.85        108.15      1                 1   \n",
       "3                 0           42.30       1840.75      0                 0   \n",
       "4                 1           70.70        151.65      1                 1   \n",
       "\n",
       "   MultipleLines_NoPhoneService  MultipleLines_Yes  InternetService_Dsl  \\\n",
       "0                             1                  0                    1   \n",
       "1                             0                  0                    1   \n",
       "2                             0                  0                    1   \n",
       "3                             1                  0                    1   \n",
       "4                             0                  0                    0   \n",
       "\n",
       "   InternetService_FiberOptic  InternetService_No  OnlineSecurity_No  \\\n",
       "0                           0                   0                  1   \n",
       "1                           0                   0                  0   \n",
       "2                           0                   0                  0   \n",
       "3                           0                   0                  0   \n",
       "4                           1                   0                  1   \n",
       "\n",
       "   OnlineSecurity_NoInternetService  OnlineSecurity_Yes  OnlineBackup_No  \\\n",
       "0                                 0                   0                0   \n",
       "1                                 0                   1                1   \n",
       "2                                 0                   1                0   \n",
       "3                                 0                   1                1   \n",
       "4                                 0                   0                1   \n",
       "\n",
       "   OnlineBackup_NoInternetService  OnlineBackup_Yes  DeviceProtection_No  \\\n",
       "0                               0                 1                    1   \n",
       "1                               0                 0                    0   \n",
       "2                               0                 1                    1   \n",
       "3                               0                 0                    0   \n",
       "4                               0                 0                    1   \n",
       "\n",
       "   DeviceProtection_NoInternetService  DeviceProtection_Yes  TechSupport_No  \\\n",
       "0                                   0                     0               1   \n",
       "1                                   0                     1               1   \n",
       "2                                   0                     0               1   \n",
       "3                                   0                     1               0   \n",
       "4                                   0                     0               1   \n",
       "\n",
       "   TechSupport_NoInternetService  TechSupport_Yes  StreamingTV_No  \\\n",
       "0                              0                0               1   \n",
       "1                              0                0               1   \n",
       "2                              0                0               1   \n",
       "3                              0                1               1   \n",
       "4                              0                0               1   \n",
       "\n",
       "   StreamingTV_NoInternetService  StreamingTV_Yes  StreamingMovies_No  \\\n",
       "0                              0                0                   1   \n",
       "1                              0                0                   1   \n",
       "2                              0                0                   1   \n",
       "3                              0                0                   1   \n",
       "4                              0                0                   1   \n",
       "\n",
       "   StreamingMovies_NoInternetService  StreamingMovies_Yes  \\\n",
       "0                                  0                    0   \n",
       "1                                  0                    0   \n",
       "2                                  0                    0   \n",
       "3                                  0                    0   \n",
       "4                                  0                    0   \n",
       "\n",
       "   Contract_Month-to-month  Contract_OneYear  Contract_TwoYear  \\\n",
       "0                        1                 0                 0   \n",
       "1                        0                 1                 0   \n",
       "2                        1                 0                 0   \n",
       "3                        0                 1                 0   \n",
       "4                        1                 0                 0   \n",
       "\n",
       "   PaymentMethod_BankTransfer(automatic)  PaymentMethod_CreditCard(automatic)  \\\n",
       "0                                      0                                    0   \n",
       "1                                      0                                    0   \n",
       "2                                      0                                    0   \n",
       "3                                      1                                    0   \n",
       "4                                      0                                    0   \n",
       "\n",
       "   PaymentMethod_ElectronicCheck  PaymentMethod_MailedCheck  \n",
       "0                              1                          0  \n",
       "1                              0                          1  \n",
       "2                              0                          1  \n",
       "3                              0                          0  \n",
       "4                              1                          0  "
      ]
     },
     "execution_count": 18,
     "metadata": {},
     "output_type": "execute_result"
    }
   ],
   "source": [
    "tlc_db1.drop('customerID',1,inplace=True)\n",
    "tlc_db1.head()"
   ]
  },
  {
   "cell_type": "code",
   "execution_count": 19,
   "metadata": {
    "ExecuteTime": {
     "end_time": "2019-03-26T18:21:43.028534Z",
     "start_time": "2019-03-26T18:21:42.847778Z"
    }
   },
   "outputs": [
    {
     "data": {
      "text/html": [
       "<div>\n",
       "<style scoped>\n",
       "    .dataframe tbody tr th:only-of-type {\n",
       "        vertical-align: middle;\n",
       "    }\n",
       "\n",
       "    .dataframe tbody tr th {\n",
       "        vertical-align: top;\n",
       "    }\n",
       "\n",
       "    .dataframe thead th {\n",
       "        text-align: right;\n",
       "    }\n",
       "</style>\n",
       "<table border=\"1\" class=\"dataframe\">\n",
       "  <thead>\n",
       "    <tr style=\"text-align: right;\">\n",
       "      <th></th>\n",
       "      <th>gender</th>\n",
       "      <th>SeniorCitizen</th>\n",
       "      <th>Partner</th>\n",
       "      <th>Dependents</th>\n",
       "      <th>tenure</th>\n",
       "      <th>PhoneService</th>\n",
       "      <th>PaperlessBilling</th>\n",
       "      <th>MonthlyCharges</th>\n",
       "      <th>TotalCharges</th>\n",
       "      <th>Churn</th>\n",
       "      <th>MultipleLines_No</th>\n",
       "      <th>MultipleLines_NoPhoneService</th>\n",
       "      <th>MultipleLines_Yes</th>\n",
       "      <th>InternetService_Dsl</th>\n",
       "      <th>InternetService_FiberOptic</th>\n",
       "      <th>InternetService_No</th>\n",
       "      <th>OnlineSecurity_No</th>\n",
       "      <th>OnlineSecurity_NoInternetService</th>\n",
       "      <th>OnlineSecurity_Yes</th>\n",
       "      <th>OnlineBackup_No</th>\n",
       "      <th>OnlineBackup_NoInternetService</th>\n",
       "      <th>OnlineBackup_Yes</th>\n",
       "      <th>DeviceProtection_No</th>\n",
       "      <th>DeviceProtection_NoInternetService</th>\n",
       "      <th>DeviceProtection_Yes</th>\n",
       "      <th>TechSupport_No</th>\n",
       "      <th>TechSupport_NoInternetService</th>\n",
       "      <th>TechSupport_Yes</th>\n",
       "      <th>StreamingTV_No</th>\n",
       "      <th>StreamingTV_NoInternetService</th>\n",
       "      <th>StreamingTV_Yes</th>\n",
       "      <th>StreamingMovies_No</th>\n",
       "      <th>StreamingMovies_NoInternetService</th>\n",
       "      <th>StreamingMovies_Yes</th>\n",
       "      <th>Contract_Month-to-month</th>\n",
       "      <th>Contract_OneYear</th>\n",
       "      <th>Contract_TwoYear</th>\n",
       "      <th>PaymentMethod_BankTransfer(automatic)</th>\n",
       "      <th>PaymentMethod_CreditCard(automatic)</th>\n",
       "      <th>PaymentMethod_ElectronicCheck</th>\n",
       "      <th>PaymentMethod_MailedCheck</th>\n",
       "    </tr>\n",
       "  </thead>\n",
       "  <tbody>\n",
       "    <tr>\n",
       "      <th>count</th>\n",
       "      <td>7043.000000</td>\n",
       "      <td>7043.000000</td>\n",
       "      <td>7043.000000</td>\n",
       "      <td>7043.000000</td>\n",
       "      <td>7043.000000</td>\n",
       "      <td>7043.000000</td>\n",
       "      <td>7043.000000</td>\n",
       "      <td>7043.000000</td>\n",
       "      <td>7043.000000</td>\n",
       "      <td>7043.000000</td>\n",
       "      <td>7043.000000</td>\n",
       "      <td>7043.000000</td>\n",
       "      <td>7043.000000</td>\n",
       "      <td>7043.000000</td>\n",
       "      <td>7043.000000</td>\n",
       "      <td>7043.000000</td>\n",
       "      <td>7043.000000</td>\n",
       "      <td>7043.000000</td>\n",
       "      <td>7043.000000</td>\n",
       "      <td>7043.000000</td>\n",
       "      <td>7043.000000</td>\n",
       "      <td>7043.000000</td>\n",
       "      <td>7043.000000</td>\n",
       "      <td>7043.000000</td>\n",
       "      <td>7043.000000</td>\n",
       "      <td>7043.000000</td>\n",
       "      <td>7043.000000</td>\n",
       "      <td>7043.000000</td>\n",
       "      <td>7043.000000</td>\n",
       "      <td>7043.000000</td>\n",
       "      <td>7043.000000</td>\n",
       "      <td>7043.000000</td>\n",
       "      <td>7043.000000</td>\n",
       "      <td>7043.000000</td>\n",
       "      <td>7043.000000</td>\n",
       "      <td>7043.000000</td>\n",
       "      <td>7043.000000</td>\n",
       "      <td>7043.000000</td>\n",
       "      <td>7043.000000</td>\n",
       "      <td>7043.000000</td>\n",
       "      <td>7043.000000</td>\n",
       "    </tr>\n",
       "    <tr>\n",
       "      <th>mean</th>\n",
       "      <td>0.495244</td>\n",
       "      <td>0.162147</td>\n",
       "      <td>0.483033</td>\n",
       "      <td>0.299588</td>\n",
       "      <td>32.371149</td>\n",
       "      <td>0.903166</td>\n",
       "      <td>0.592219</td>\n",
       "      <td>64.761692</td>\n",
       "      <td>2279.734304</td>\n",
       "      <td>0.265370</td>\n",
       "      <td>0.481329</td>\n",
       "      <td>0.096834</td>\n",
       "      <td>0.421837</td>\n",
       "      <td>0.343746</td>\n",
       "      <td>0.439585</td>\n",
       "      <td>0.216669</td>\n",
       "      <td>0.496663</td>\n",
       "      <td>0.216669</td>\n",
       "      <td>0.286668</td>\n",
       "      <td>0.438450</td>\n",
       "      <td>0.216669</td>\n",
       "      <td>0.344881</td>\n",
       "      <td>0.439443</td>\n",
       "      <td>0.216669</td>\n",
       "      <td>0.343888</td>\n",
       "      <td>0.493114</td>\n",
       "      <td>0.216669</td>\n",
       "      <td>0.290217</td>\n",
       "      <td>0.398978</td>\n",
       "      <td>0.216669</td>\n",
       "      <td>0.384353</td>\n",
       "      <td>0.395428</td>\n",
       "      <td>0.216669</td>\n",
       "      <td>0.387903</td>\n",
       "      <td>0.550192</td>\n",
       "      <td>0.209144</td>\n",
       "      <td>0.240664</td>\n",
       "      <td>0.219225</td>\n",
       "      <td>0.216101</td>\n",
       "      <td>0.335794</td>\n",
       "      <td>0.228880</td>\n",
       "    </tr>\n",
       "    <tr>\n",
       "      <th>std</th>\n",
       "      <td>0.500013</td>\n",
       "      <td>0.368612</td>\n",
       "      <td>0.499748</td>\n",
       "      <td>0.458110</td>\n",
       "      <td>24.559481</td>\n",
       "      <td>0.295752</td>\n",
       "      <td>0.491457</td>\n",
       "      <td>30.090047</td>\n",
       "      <td>2266.794470</td>\n",
       "      <td>0.441561</td>\n",
       "      <td>0.499687</td>\n",
       "      <td>0.295752</td>\n",
       "      <td>0.493888</td>\n",
       "      <td>0.474991</td>\n",
       "      <td>0.496372</td>\n",
       "      <td>0.412004</td>\n",
       "      <td>0.500024</td>\n",
       "      <td>0.412004</td>\n",
       "      <td>0.452237</td>\n",
       "      <td>0.496232</td>\n",
       "      <td>0.412004</td>\n",
       "      <td>0.475363</td>\n",
       "      <td>0.496355</td>\n",
       "      <td>0.412004</td>\n",
       "      <td>0.475038</td>\n",
       "      <td>0.499988</td>\n",
       "      <td>0.412004</td>\n",
       "      <td>0.453895</td>\n",
       "      <td>0.489723</td>\n",
       "      <td>0.412004</td>\n",
       "      <td>0.486477</td>\n",
       "      <td>0.488977</td>\n",
       "      <td>0.412004</td>\n",
       "      <td>0.487307</td>\n",
       "      <td>0.497510</td>\n",
       "      <td>0.406726</td>\n",
       "      <td>0.427517</td>\n",
       "      <td>0.413751</td>\n",
       "      <td>0.411613</td>\n",
       "      <td>0.472301</td>\n",
       "      <td>0.420141</td>\n",
       "    </tr>\n",
       "    <tr>\n",
       "      <th>min</th>\n",
       "      <td>0.000000</td>\n",
       "      <td>0.000000</td>\n",
       "      <td>0.000000</td>\n",
       "      <td>0.000000</td>\n",
       "      <td>0.000000</td>\n",
       "      <td>0.000000</td>\n",
       "      <td>0.000000</td>\n",
       "      <td>18.250000</td>\n",
       "      <td>0.000000</td>\n",
       "      <td>0.000000</td>\n",
       "      <td>0.000000</td>\n",
       "      <td>0.000000</td>\n",
       "      <td>0.000000</td>\n",
       "      <td>0.000000</td>\n",
       "      <td>0.000000</td>\n",
       "      <td>0.000000</td>\n",
       "      <td>0.000000</td>\n",
       "      <td>0.000000</td>\n",
       "      <td>0.000000</td>\n",
       "      <td>0.000000</td>\n",
       "      <td>0.000000</td>\n",
       "      <td>0.000000</td>\n",
       "      <td>0.000000</td>\n",
       "      <td>0.000000</td>\n",
       "      <td>0.000000</td>\n",
       "      <td>0.000000</td>\n",
       "      <td>0.000000</td>\n",
       "      <td>0.000000</td>\n",
       "      <td>0.000000</td>\n",
       "      <td>0.000000</td>\n",
       "      <td>0.000000</td>\n",
       "      <td>0.000000</td>\n",
       "      <td>0.000000</td>\n",
       "      <td>0.000000</td>\n",
       "      <td>0.000000</td>\n",
       "      <td>0.000000</td>\n",
       "      <td>0.000000</td>\n",
       "      <td>0.000000</td>\n",
       "      <td>0.000000</td>\n",
       "      <td>0.000000</td>\n",
       "      <td>0.000000</td>\n",
       "    </tr>\n",
       "    <tr>\n",
       "      <th>25%</th>\n",
       "      <td>0.000000</td>\n",
       "      <td>0.000000</td>\n",
       "      <td>0.000000</td>\n",
       "      <td>0.000000</td>\n",
       "      <td>9.000000</td>\n",
       "      <td>1.000000</td>\n",
       "      <td>0.000000</td>\n",
       "      <td>35.500000</td>\n",
       "      <td>398.550000</td>\n",
       "      <td>0.000000</td>\n",
       "      <td>0.000000</td>\n",
       "      <td>0.000000</td>\n",
       "      <td>0.000000</td>\n",
       "      <td>0.000000</td>\n",
       "      <td>0.000000</td>\n",
       "      <td>0.000000</td>\n",
       "      <td>0.000000</td>\n",
       "      <td>0.000000</td>\n",
       "      <td>0.000000</td>\n",
       "      <td>0.000000</td>\n",
       "      <td>0.000000</td>\n",
       "      <td>0.000000</td>\n",
       "      <td>0.000000</td>\n",
       "      <td>0.000000</td>\n",
       "      <td>0.000000</td>\n",
       "      <td>0.000000</td>\n",
       "      <td>0.000000</td>\n",
       "      <td>0.000000</td>\n",
       "      <td>0.000000</td>\n",
       "      <td>0.000000</td>\n",
       "      <td>0.000000</td>\n",
       "      <td>0.000000</td>\n",
       "      <td>0.000000</td>\n",
       "      <td>0.000000</td>\n",
       "      <td>0.000000</td>\n",
       "      <td>0.000000</td>\n",
       "      <td>0.000000</td>\n",
       "      <td>0.000000</td>\n",
       "      <td>0.000000</td>\n",
       "      <td>0.000000</td>\n",
       "      <td>0.000000</td>\n",
       "    </tr>\n",
       "    <tr>\n",
       "      <th>50%</th>\n",
       "      <td>0.000000</td>\n",
       "      <td>0.000000</td>\n",
       "      <td>0.000000</td>\n",
       "      <td>0.000000</td>\n",
       "      <td>29.000000</td>\n",
       "      <td>1.000000</td>\n",
       "      <td>1.000000</td>\n",
       "      <td>70.350000</td>\n",
       "      <td>1394.550000</td>\n",
       "      <td>0.000000</td>\n",
       "      <td>0.000000</td>\n",
       "      <td>0.000000</td>\n",
       "      <td>0.000000</td>\n",
       "      <td>0.000000</td>\n",
       "      <td>0.000000</td>\n",
       "      <td>0.000000</td>\n",
       "      <td>0.000000</td>\n",
       "      <td>0.000000</td>\n",
       "      <td>0.000000</td>\n",
       "      <td>0.000000</td>\n",
       "      <td>0.000000</td>\n",
       "      <td>0.000000</td>\n",
       "      <td>0.000000</td>\n",
       "      <td>0.000000</td>\n",
       "      <td>0.000000</td>\n",
       "      <td>0.000000</td>\n",
       "      <td>0.000000</td>\n",
       "      <td>0.000000</td>\n",
       "      <td>0.000000</td>\n",
       "      <td>0.000000</td>\n",
       "      <td>0.000000</td>\n",
       "      <td>0.000000</td>\n",
       "      <td>0.000000</td>\n",
       "      <td>0.000000</td>\n",
       "      <td>1.000000</td>\n",
       "      <td>0.000000</td>\n",
       "      <td>0.000000</td>\n",
       "      <td>0.000000</td>\n",
       "      <td>0.000000</td>\n",
       "      <td>0.000000</td>\n",
       "      <td>0.000000</td>\n",
       "    </tr>\n",
       "    <tr>\n",
       "      <th>75%</th>\n",
       "      <td>1.000000</td>\n",
       "      <td>0.000000</td>\n",
       "      <td>1.000000</td>\n",
       "      <td>1.000000</td>\n",
       "      <td>55.000000</td>\n",
       "      <td>1.000000</td>\n",
       "      <td>1.000000</td>\n",
       "      <td>89.850000</td>\n",
       "      <td>3786.600000</td>\n",
       "      <td>1.000000</td>\n",
       "      <td>1.000000</td>\n",
       "      <td>0.000000</td>\n",
       "      <td>1.000000</td>\n",
       "      <td>1.000000</td>\n",
       "      <td>1.000000</td>\n",
       "      <td>0.000000</td>\n",
       "      <td>1.000000</td>\n",
       "      <td>0.000000</td>\n",
       "      <td>1.000000</td>\n",
       "      <td>1.000000</td>\n",
       "      <td>0.000000</td>\n",
       "      <td>1.000000</td>\n",
       "      <td>1.000000</td>\n",
       "      <td>0.000000</td>\n",
       "      <td>1.000000</td>\n",
       "      <td>1.000000</td>\n",
       "      <td>0.000000</td>\n",
       "      <td>1.000000</td>\n",
       "      <td>1.000000</td>\n",
       "      <td>0.000000</td>\n",
       "      <td>1.000000</td>\n",
       "      <td>1.000000</td>\n",
       "      <td>0.000000</td>\n",
       "      <td>1.000000</td>\n",
       "      <td>1.000000</td>\n",
       "      <td>0.000000</td>\n",
       "      <td>0.000000</td>\n",
       "      <td>0.000000</td>\n",
       "      <td>0.000000</td>\n",
       "      <td>1.000000</td>\n",
       "      <td>0.000000</td>\n",
       "    </tr>\n",
       "    <tr>\n",
       "      <th>max</th>\n",
       "      <td>1.000000</td>\n",
       "      <td>1.000000</td>\n",
       "      <td>1.000000</td>\n",
       "      <td>1.000000</td>\n",
       "      <td>72.000000</td>\n",
       "      <td>1.000000</td>\n",
       "      <td>1.000000</td>\n",
       "      <td>118.750000</td>\n",
       "      <td>8684.800000</td>\n",
       "      <td>1.000000</td>\n",
       "      <td>1.000000</td>\n",
       "      <td>1.000000</td>\n",
       "      <td>1.000000</td>\n",
       "      <td>1.000000</td>\n",
       "      <td>1.000000</td>\n",
       "      <td>1.000000</td>\n",
       "      <td>1.000000</td>\n",
       "      <td>1.000000</td>\n",
       "      <td>1.000000</td>\n",
       "      <td>1.000000</td>\n",
       "      <td>1.000000</td>\n",
       "      <td>1.000000</td>\n",
       "      <td>1.000000</td>\n",
       "      <td>1.000000</td>\n",
       "      <td>1.000000</td>\n",
       "      <td>1.000000</td>\n",
       "      <td>1.000000</td>\n",
       "      <td>1.000000</td>\n",
       "      <td>1.000000</td>\n",
       "      <td>1.000000</td>\n",
       "      <td>1.000000</td>\n",
       "      <td>1.000000</td>\n",
       "      <td>1.000000</td>\n",
       "      <td>1.000000</td>\n",
       "      <td>1.000000</td>\n",
       "      <td>1.000000</td>\n",
       "      <td>1.000000</td>\n",
       "      <td>1.000000</td>\n",
       "      <td>1.000000</td>\n",
       "      <td>1.000000</td>\n",
       "      <td>1.000000</td>\n",
       "    </tr>\n",
       "  </tbody>\n",
       "</table>\n",
       "</div>"
      ],
      "text/plain": [
       "            gender  SeniorCitizen      Partner   Dependents       tenure  \\\n",
       "count  7043.000000    7043.000000  7043.000000  7043.000000  7043.000000   \n",
       "mean      0.495244       0.162147     0.483033     0.299588    32.371149   \n",
       "std       0.500013       0.368612     0.499748     0.458110    24.559481   \n",
       "min       0.000000       0.000000     0.000000     0.000000     0.000000   \n",
       "25%       0.000000       0.000000     0.000000     0.000000     9.000000   \n",
       "50%       0.000000       0.000000     0.000000     0.000000    29.000000   \n",
       "75%       1.000000       0.000000     1.000000     1.000000    55.000000   \n",
       "max       1.000000       1.000000     1.000000     1.000000    72.000000   \n",
       "\n",
       "       PhoneService  PaperlessBilling  MonthlyCharges  TotalCharges  \\\n",
       "count   7043.000000       7043.000000     7043.000000   7043.000000   \n",
       "mean       0.903166          0.592219       64.761692   2279.734304   \n",
       "std        0.295752          0.491457       30.090047   2266.794470   \n",
       "min        0.000000          0.000000       18.250000      0.000000   \n",
       "25%        1.000000          0.000000       35.500000    398.550000   \n",
       "50%        1.000000          1.000000       70.350000   1394.550000   \n",
       "75%        1.000000          1.000000       89.850000   3786.600000   \n",
       "max        1.000000          1.000000      118.750000   8684.800000   \n",
       "\n",
       "             Churn  MultipleLines_No  MultipleLines_NoPhoneService  \\\n",
       "count  7043.000000       7043.000000                   7043.000000   \n",
       "mean      0.265370          0.481329                      0.096834   \n",
       "std       0.441561          0.499687                      0.295752   \n",
       "min       0.000000          0.000000                      0.000000   \n",
       "25%       0.000000          0.000000                      0.000000   \n",
       "50%       0.000000          0.000000                      0.000000   \n",
       "75%       1.000000          1.000000                      0.000000   \n",
       "max       1.000000          1.000000                      1.000000   \n",
       "\n",
       "       MultipleLines_Yes  InternetService_Dsl  InternetService_FiberOptic  \\\n",
       "count        7043.000000          7043.000000                 7043.000000   \n",
       "mean            0.421837             0.343746                    0.439585   \n",
       "std             0.493888             0.474991                    0.496372   \n",
       "min             0.000000             0.000000                    0.000000   \n",
       "25%             0.000000             0.000000                    0.000000   \n",
       "50%             0.000000             0.000000                    0.000000   \n",
       "75%             1.000000             1.000000                    1.000000   \n",
       "max             1.000000             1.000000                    1.000000   \n",
       "\n",
       "       InternetService_No  OnlineSecurity_No  \\\n",
       "count         7043.000000        7043.000000   \n",
       "mean             0.216669           0.496663   \n",
       "std              0.412004           0.500024   \n",
       "min              0.000000           0.000000   \n",
       "25%              0.000000           0.000000   \n",
       "50%              0.000000           0.000000   \n",
       "75%              0.000000           1.000000   \n",
       "max              1.000000           1.000000   \n",
       "\n",
       "       OnlineSecurity_NoInternetService  OnlineSecurity_Yes  OnlineBackup_No  \\\n",
       "count                       7043.000000         7043.000000      7043.000000   \n",
       "mean                           0.216669            0.286668         0.438450   \n",
       "std                            0.412004            0.452237         0.496232   \n",
       "min                            0.000000            0.000000         0.000000   \n",
       "25%                            0.000000            0.000000         0.000000   \n",
       "50%                            0.000000            0.000000         0.000000   \n",
       "75%                            0.000000            1.000000         1.000000   \n",
       "max                            1.000000            1.000000         1.000000   \n",
       "\n",
       "       OnlineBackup_NoInternetService  OnlineBackup_Yes  DeviceProtection_No  \\\n",
       "count                     7043.000000       7043.000000          7043.000000   \n",
       "mean                         0.216669          0.344881             0.439443   \n",
       "std                          0.412004          0.475363             0.496355   \n",
       "min                          0.000000          0.000000             0.000000   \n",
       "25%                          0.000000          0.000000             0.000000   \n",
       "50%                          0.000000          0.000000             0.000000   \n",
       "75%                          0.000000          1.000000             1.000000   \n",
       "max                          1.000000          1.000000             1.000000   \n",
       "\n",
       "       DeviceProtection_NoInternetService  DeviceProtection_Yes  \\\n",
       "count                         7043.000000           7043.000000   \n",
       "mean                             0.216669              0.343888   \n",
       "std                              0.412004              0.475038   \n",
       "min                              0.000000              0.000000   \n",
       "25%                              0.000000              0.000000   \n",
       "50%                              0.000000              0.000000   \n",
       "75%                              0.000000              1.000000   \n",
       "max                              1.000000              1.000000   \n",
       "\n",
       "       TechSupport_No  TechSupport_NoInternetService  TechSupport_Yes  \\\n",
       "count     7043.000000                    7043.000000      7043.000000   \n",
       "mean         0.493114                       0.216669         0.290217   \n",
       "std          0.499988                       0.412004         0.453895   \n",
       "min          0.000000                       0.000000         0.000000   \n",
       "25%          0.000000                       0.000000         0.000000   \n",
       "50%          0.000000                       0.000000         0.000000   \n",
       "75%          1.000000                       0.000000         1.000000   \n",
       "max          1.000000                       1.000000         1.000000   \n",
       "\n",
       "       StreamingTV_No  StreamingTV_NoInternetService  StreamingTV_Yes  \\\n",
       "count     7043.000000                    7043.000000      7043.000000   \n",
       "mean         0.398978                       0.216669         0.384353   \n",
       "std          0.489723                       0.412004         0.486477   \n",
       "min          0.000000                       0.000000         0.000000   \n",
       "25%          0.000000                       0.000000         0.000000   \n",
       "50%          0.000000                       0.000000         0.000000   \n",
       "75%          1.000000                       0.000000         1.000000   \n",
       "max          1.000000                       1.000000         1.000000   \n",
       "\n",
       "       StreamingMovies_No  StreamingMovies_NoInternetService  \\\n",
       "count         7043.000000                        7043.000000   \n",
       "mean             0.395428                           0.216669   \n",
       "std              0.488977                           0.412004   \n",
       "min              0.000000                           0.000000   \n",
       "25%              0.000000                           0.000000   \n",
       "50%              0.000000                           0.000000   \n",
       "75%              1.000000                           0.000000   \n",
       "max              1.000000                           1.000000   \n",
       "\n",
       "       StreamingMovies_Yes  Contract_Month-to-month  Contract_OneYear  \\\n",
       "count          7043.000000              7043.000000       7043.000000   \n",
       "mean              0.387903                 0.550192          0.209144   \n",
       "std               0.487307                 0.497510          0.406726   \n",
       "min               0.000000                 0.000000          0.000000   \n",
       "25%               0.000000                 0.000000          0.000000   \n",
       "50%               0.000000                 1.000000          0.000000   \n",
       "75%               1.000000                 1.000000          0.000000   \n",
       "max               1.000000                 1.000000          1.000000   \n",
       "\n",
       "       Contract_TwoYear  PaymentMethod_BankTransfer(automatic)  \\\n",
       "count       7043.000000                            7043.000000   \n",
       "mean           0.240664                               0.219225   \n",
       "std            0.427517                               0.413751   \n",
       "min            0.000000                               0.000000   \n",
       "25%            0.000000                               0.000000   \n",
       "50%            0.000000                               0.000000   \n",
       "75%            0.000000                               0.000000   \n",
       "max            1.000000                               1.000000   \n",
       "\n",
       "       PaymentMethod_CreditCard(automatic)  PaymentMethod_ElectronicCheck  \\\n",
       "count                          7043.000000                    7043.000000   \n",
       "mean                              0.216101                       0.335794   \n",
       "std                               0.411613                       0.472301   \n",
       "min                               0.000000                       0.000000   \n",
       "25%                               0.000000                       0.000000   \n",
       "50%                               0.000000                       0.000000   \n",
       "75%                               0.000000                       1.000000   \n",
       "max                               1.000000                       1.000000   \n",
       "\n",
       "       PaymentMethod_MailedCheck  \n",
       "count                7043.000000  \n",
       "mean                    0.228880  \n",
       "std                     0.420141  \n",
       "min                     0.000000  \n",
       "25%                     0.000000  \n",
       "50%                     0.000000  \n",
       "75%                     0.000000  \n",
       "max                     1.000000  "
      ]
     },
     "execution_count": 19,
     "metadata": {},
     "output_type": "execute_result"
    }
   ],
   "source": [
    "tlc_db1.describe()"
   ]
  },
  {
   "cell_type": "markdown",
   "metadata": {},
   "source": [
    "# Data Exploration"
   ]
  },
  {
   "cell_type": "code",
   "execution_count": 20,
   "metadata": {
    "ExecuteTime": {
     "end_time": "2019-03-26T18:21:44.753041Z",
     "start_time": "2019-03-26T18:21:43.769924Z"
    }
   },
   "outputs": [
    {
     "data": {
      "text/html": [
       "<script type=\"text/javascript\">window.PlotlyConfig = {MathJaxConfig: 'local'};</script><script type=\"text/javascript\">if (window.MathJax) {MathJax.Hub.Config({SVG: {font: \"STIX-Web\"}});}</script><script>requirejs.config({paths: { 'plotly': ['https://cdn.plot.ly/plotly-latest.min']},});if(!window._Plotly) {require(['plotly'],function(plotly) {window._Plotly=plotly;});}</script>"
      ],
      "text/vnd.plotly.v1+html": [
       "<script type=\"text/javascript\">window.PlotlyConfig = {MathJaxConfig: 'local'};</script><script type=\"text/javascript\">if (window.MathJax) {MathJax.Hub.Config({SVG: {font: \"STIX-Web\"}});}</script><script>requirejs.config({paths: { 'plotly': ['https://cdn.plot.ly/plotly-latest.min']},});if(!window._Plotly) {require(['plotly'],function(plotly) {window._Plotly=plotly;});}</script>"
      ]
     },
     "metadata": {},
     "output_type": "display_data"
    },
    {
     "data": {
      "application/vnd.plotly.v1+json": {
       "config": {
        "linkText": "Export to plot.ly",
        "plotlyServerURL": "https://plot.ly",
        "showLink": false
       },
       "data": [
        {
         "hole": 0.4,
         "hoverinfo": "label+value+text",
         "labels": [
          0,
          1
         ],
         "marker": {
          "colors": [
           "orangered",
           "darkviolet"
          ],
          "line": {
           "color": "white",
           "width": 1.5
          }
         },
         "rotation": 180,
         "type": "pie",
         "uid": "133096c0-1f97-478d-ba15-e2ace6183808",
         "values": [
          5174,
          1869
         ]
        }
       ],
       "layout": {
        "paper_bgcolor": "rgb(243,243,243)",
        "plot_bgcolor": "rgb(243,243,243)",
        "title": {
         "text": "Churn Rate"
        }
       }
      },
      "text/html": [
       "<div id=\"0fa87ad0-9f0f-4322-a135-412291e2165b\" style=\"height: 525px; width: 100%;\" class=\"plotly-graph-div\"></div><script type=\"text/javascript\">require([\"plotly\"], function(Plotly) { window.PLOTLYENV=window.PLOTLYENV || {};window.PLOTLYENV.BASE_URL=\"https://plot.ly\";\n",
       "if (document.getElementById(\"0fa87ad0-9f0f-4322-a135-412291e2165b\")) {\n",
       "    Plotly.newPlot(\"0fa87ad0-9f0f-4322-a135-412291e2165b\", [{\"hole\": 0.4, \"hoverinfo\": \"label+value+text\", \"labels\": [0, 1], \"marker\": {\"colors\": [\"orangered\", \"darkviolet\"], \"line\": {\"color\": \"white\", \"width\": 1.5}}, \"rotation\": 180, \"values\": [5174, 1869], \"type\": \"pie\", \"uid\": \"133096c0-1f97-478d-ba15-e2ace6183808\"}], {\"paper_bgcolor\": \"rgb(243,243,243)\", \"plot_bgcolor\": \"rgb(243,243,243)\", \"title\": {\"text\": \"Churn Rate\"}}, {\"showLink\": false, \"linkText\": \"Export to plot.ly\", \"plotlyServerURL\": \"https://plot.ly\"}); \n",
       "}\n",
       "});</script><script type=\"text/javascript\">window.addEventListener(\"resize\", function(){if (document.getElementById(\"0fa87ad0-9f0f-4322-a135-412291e2165b\")) {window._Plotly.Plots.resize(document.getElementById(\"0fa87ad0-9f0f-4322-a135-412291e2165b\"));};})</script>"
      ],
      "text/vnd.plotly.v1+html": [
       "<div id=\"0fa87ad0-9f0f-4322-a135-412291e2165b\" style=\"height: 525px; width: 100%;\" class=\"plotly-graph-div\"></div><script type=\"text/javascript\">require([\"plotly\"], function(Plotly) { window.PLOTLYENV=window.PLOTLYENV || {};window.PLOTLYENV.BASE_URL=\"https://plot.ly\";\n",
       "if (document.getElementById(\"0fa87ad0-9f0f-4322-a135-412291e2165b\")) {\n",
       "    Plotly.newPlot(\"0fa87ad0-9f0f-4322-a135-412291e2165b\", [{\"hole\": 0.4, \"hoverinfo\": \"label+value+text\", \"labels\": [0, 1], \"marker\": {\"colors\": [\"orangered\", \"darkviolet\"], \"line\": {\"color\": \"white\", \"width\": 1.5}}, \"rotation\": 180, \"values\": [5174, 1869], \"type\": \"pie\", \"uid\": \"133096c0-1f97-478d-ba15-e2ace6183808\"}], {\"paper_bgcolor\": \"rgb(243,243,243)\", \"plot_bgcolor\": \"rgb(243,243,243)\", \"title\": {\"text\": \"Churn Rate\"}}, {\"showLink\": false, \"linkText\": \"Export to plot.ly\", \"plotlyServerURL\": \"https://plot.ly\"}); \n",
       "}\n",
       "});</script><script type=\"text/javascript\">window.addEventListener(\"resize\", function(){if (document.getElementById(\"0fa87ad0-9f0f-4322-a135-412291e2165b\")) {window._Plotly.Plots.resize(document.getElementById(\"0fa87ad0-9f0f-4322-a135-412291e2165b\"));};})</script>"
      ]
     },
     "metadata": {},
     "output_type": "display_data"
    }
   ],
   "source": [
    "import plotly.offline as py\n",
    "py.init_notebook_mode(connected=True)\n",
    "import plotly.graph_objs as pgo\n",
    "\n",
    "lab = tlc_db[\"Churn\"].value_counts().keys().tolist()\n",
    "#values\n",
    "val = tlc_db[\"Churn\"].value_counts().values.tolist()\n",
    "\n",
    "trace = pgo.Pie(labels = lab ,\n",
    "               values = val ,\n",
    "               marker = dict(colors =  [ 'orangered' ,'darkviolet'],\n",
    "                             line = dict(color = \"white\",\n",
    "                                         width =  1.5)\n",
    "                            ),\n",
    "               rotation = 180,\n",
    "               hoverinfo = \"label+value+text\",\n",
    "               hole = .4\n",
    "              )\n",
    "layout = pgo.Layout(dict(title = \"Churn Rate\",\n",
    "                        plot_bgcolor  = \"rgb(243,243,243)\",\n",
    "                        paper_bgcolor = \"rgb(243,243,243)\",\n",
    "                       )\n",
    "                  )\n",
    "\n",
    "data = [trace]\n",
    "fig = pgo.Figure(data = data,layout = layout)\n",
    "py.iplot(fig)"
   ]
  },
  {
   "cell_type": "markdown",
   "metadata": {},
   "source": []
  },
  {
   "cell_type": "code",
   "execution_count": 21,
   "metadata": {
    "ExecuteTime": {
     "end_time": "2019-03-26T18:21:46.135784Z",
     "start_time": "2019-03-26T18:21:45.647597Z"
    }
   },
   "outputs": [],
   "source": [
    "def grouptenure(tlc_db) :\n",
    "    \n",
    "    if tlc_db[\"tenure\"] <= 3 :\n",
    "        return \"[0-3] Months\"\n",
    "    elif (tlc_db[\"tenure\"] > 3) & (tlc_db[\"tenure\"] <= 6 ):\n",
    "        return \"[3-6] Months\"\n",
    "    elif (tlc_db[\"tenure\"] > 6) & (tlc_db[\"tenure\"] <= 12) :\n",
    "        return \"[6-12] Months\"\n",
    "    elif (tlc_db[\"tenure\"] > 12) & (tlc_db[\"tenure\"] <= 24) :\n",
    "        return \"[12-24] Months\"\n",
    "    elif (tlc_db[\"tenure\"] > 24) & (tlc_db[\"tenure\"] <= 48) :\n",
    "        return \"[24-48] Months\"\n",
    "    elif (tlc_db[\"tenure\"] > 48) & (tlc_db[\"tenure\"] <= 60) :\n",
    "        return \"[48-60] Months\"\n",
    "    elif tlc_db[\"tenure\"] > 60 :\n",
    "        return \"More than 60 Months\"\n",
    "tlc_db[\"tenure_grouped\"] = tlc_db.apply(lambda tlc_db:grouptenure(tlc_db), axis = 1)"
   ]
  },
  {
   "cell_type": "code",
   "execution_count": 22,
   "metadata": {
    "ExecuteTime": {
     "end_time": "2019-03-26T18:21:47.044424Z",
     "start_time": "2019-03-26T18:21:46.948089Z"
    }
   },
   "outputs": [
    {
     "data": {
      "application/vnd.plotly.v1+json": {
       "config": {
        "linkText": "Export to plot.ly",
        "plotlyServerURL": "https://plot.ly",
        "showLink": false
       },
       "data": [
        {
         "hole": 0.4,
         "hoverinfo": "label+value+text",
         "labels": [
          "[24-48] Months",
          "More than 60 Months",
          "[0-3] Months",
          "[12-24] Months",
          "[48-60] Months",
          "[6-12] Months",
          "[3-6] Months"
         ],
         "marker": {
          "colors": [
           "orangered",
           "darkviolet"
          ],
          "line": {
           "color": "white",
           "width": 1.3
          }
         },
         "rotation": 180,
         "type": "pie",
         "uid": "e402e587-0a9f-4eaa-a613-36ea9d2730a3",
         "values": [
          1594,
          1407,
          1062,
          1024,
          832,
          705,
          419
         ]
        }
       ],
       "layout": {
        "paper_bgcolor": "rgb(243,243,243)",
        "plot_bgcolor": "rgb(243,243,243)",
        "title": {
         "text": "How does Tenure influence the churn rate?"
        }
       }
      },
      "text/html": [
       "<div id=\"47e0a7b9-0ce0-4ab5-9477-cbcc6628ac58\" style=\"height: 525px; width: 100%;\" class=\"plotly-graph-div\"></div><script type=\"text/javascript\">require([\"plotly\"], function(Plotly) { window.PLOTLYENV=window.PLOTLYENV || {};window.PLOTLYENV.BASE_URL=\"https://plot.ly\";\n",
       "if (document.getElementById(\"47e0a7b9-0ce0-4ab5-9477-cbcc6628ac58\")) {\n",
       "    Plotly.newPlot(\"47e0a7b9-0ce0-4ab5-9477-cbcc6628ac58\", [{\"hole\": 0.4, \"hoverinfo\": \"label+value+text\", \"labels\": [\"[24-48] Months\", \"More than 60 Months\", \"[0-3] Months\", \"[12-24] Months\", \"[48-60] Months\", \"[6-12] Months\", \"[3-6] Months\"], \"marker\": {\"colors\": [\"orangered\", \"darkviolet\"], \"line\": {\"color\": \"white\", \"width\": 1.3}}, \"rotation\": 180, \"values\": [1594, 1407, 1062, 1024, 832, 705, 419], \"type\": \"pie\", \"uid\": \"e402e587-0a9f-4eaa-a613-36ea9d2730a3\"}], {\"paper_bgcolor\": \"rgb(243,243,243)\", \"plot_bgcolor\": \"rgb(243,243,243)\", \"title\": {\"text\": \"How does Tenure influence the churn rate?\"}}, {\"showLink\": false, \"linkText\": \"Export to plot.ly\", \"plotlyServerURL\": \"https://plot.ly\"}); \n",
       "}\n",
       "});</script><script type=\"text/javascript\">window.addEventListener(\"resize\", function(){if (document.getElementById(\"47e0a7b9-0ce0-4ab5-9477-cbcc6628ac58\")) {window._Plotly.Plots.resize(document.getElementById(\"47e0a7b9-0ce0-4ab5-9477-cbcc6628ac58\"));};})</script>"
      ],
      "text/vnd.plotly.v1+html": [
       "<div id=\"47e0a7b9-0ce0-4ab5-9477-cbcc6628ac58\" style=\"height: 525px; width: 100%;\" class=\"plotly-graph-div\"></div><script type=\"text/javascript\">require([\"plotly\"], function(Plotly) { window.PLOTLYENV=window.PLOTLYENV || {};window.PLOTLYENV.BASE_URL=\"https://plot.ly\";\n",
       "if (document.getElementById(\"47e0a7b9-0ce0-4ab5-9477-cbcc6628ac58\")) {\n",
       "    Plotly.newPlot(\"47e0a7b9-0ce0-4ab5-9477-cbcc6628ac58\", [{\"hole\": 0.4, \"hoverinfo\": \"label+value+text\", \"labels\": [\"[24-48] Months\", \"More than 60 Months\", \"[0-3] Months\", \"[12-24] Months\", \"[48-60] Months\", \"[6-12] Months\", \"[3-6] Months\"], \"marker\": {\"colors\": [\"orangered\", \"darkviolet\"], \"line\": {\"color\": \"white\", \"width\": 1.3}}, \"rotation\": 180, \"values\": [1594, 1407, 1062, 1024, 832, 705, 419], \"type\": \"pie\", \"uid\": \"e402e587-0a9f-4eaa-a613-36ea9d2730a3\"}], {\"paper_bgcolor\": \"rgb(243,243,243)\", \"plot_bgcolor\": \"rgb(243,243,243)\", \"title\": {\"text\": \"How does Tenure influence the churn rate?\"}}, {\"showLink\": false, \"linkText\": \"Export to plot.ly\", \"plotlyServerURL\": \"https://plot.ly\"}); \n",
       "}\n",
       "});</script><script type=\"text/javascript\">window.addEventListener(\"resize\", function(){if (document.getElementById(\"47e0a7b9-0ce0-4ab5-9477-cbcc6628ac58\")) {window._Plotly.Plots.resize(document.getElementById(\"47e0a7b9-0ce0-4ab5-9477-cbcc6628ac58\"));};})</script>"
      ]
     },
     "metadata": {},
     "output_type": "display_data"
    }
   ],
   "source": [
    "lab = tlc_db[\"tenure_grouped\"].value_counts().keys().tolist()\n",
    "#values\n",
    "val = tlc_db[\"tenure_grouped\"].value_counts().values.tolist()\n",
    "\n",
    "trace = pgo.Pie(labels = lab ,\n",
    "               values = val ,\n",
    "               marker = dict(colors =  [ 'orangered' ,'darkviolet'],\n",
    "                             line = dict(color = \"white\",\n",
    "                                         width =  1.3)\n",
    "                            ),\n",
    "               rotation = 180,\n",
    "               hoverinfo = \"label+value+text\",\n",
    "               hole = .4\n",
    "              )\n",
    "layout = pgo.Layout(dict(title = \"How does Tenure influence the churn rate?\",\n",
    "                        plot_bgcolor  = \"rgb(243,243,243)\",\n",
    "                        paper_bgcolor = \"rgb(243,243,243)\",\n",
    "                       )\n",
    "                  )\n",
    "\n",
    "data = [trace]\n",
    "fig = pgo.Figure(data = data,layout = layout)\n",
    "py.iplot(fig)"
   ]
  },
  {
   "cell_type": "code",
   "execution_count": 23,
   "metadata": {
    "ExecuteTime": {
     "end_time": "2019-03-26T18:21:48.478740Z",
     "start_time": "2019-03-26T18:21:47.829026Z"
    }
   },
   "outputs": [
    {
     "data": {
      "application/vnd.plotly.v1+json": {
       "config": {
        "linkText": "Export to plot.ly",
        "plotlyServerURL": "https://plot.ly",
        "showLink": false
       },
       "data": [
        {
         "hole": 0.4,
         "hoverinfo": "label+value+text",
         "labels": [
          "Charges [18-30]",
          "Charges [80-90]",
          "Charges [70-80]",
          "Charges [90-100]",
          "Charges [100-110]",
          "Charges [50-60]",
          "Charges [60-70]",
          "Charges [40-50]",
          "Charges > 110",
          "Charges [30-40]"
         ],
         "marker": {
          "colors": [
           "orangered",
           "darkviolet"
          ],
          "line": {
           "color": "white",
           "width": 1.3
          }
         },
         "rotation": 180,
         "type": "pie",
         "uid": "3ad22774-ac55-4bca-8427-d5f54f3eec39",
         "values": [
          1653,
          927,
          917,
          837,
          687,
          619,
          542,
          461,
          215,
          185
         ]
        }
       ],
       "layout": {
        "paper_bgcolor": "rgb(243,243,243)",
        "plot_bgcolor": "rgb(243,243,243)",
        "title": {
         "text": "Monthly Charges division"
        }
       }
      },
      "text/html": [
       "<div id=\"102ac987-2f8c-4f61-935c-2a9d6c6be124\" style=\"height: 525px; width: 100%;\" class=\"plotly-graph-div\"></div><script type=\"text/javascript\">require([\"plotly\"], function(Plotly) { window.PLOTLYENV=window.PLOTLYENV || {};window.PLOTLYENV.BASE_URL=\"https://plot.ly\";\n",
       "if (document.getElementById(\"102ac987-2f8c-4f61-935c-2a9d6c6be124\")) {\n",
       "    Plotly.newPlot(\"102ac987-2f8c-4f61-935c-2a9d6c6be124\", [{\"hole\": 0.4, \"hoverinfo\": \"label+value+text\", \"labels\": [\"Charges [18-30]\", \"Charges [80-90]\", \"Charges [70-80]\", \"Charges [90-100]\", \"Charges [100-110]\", \"Charges [50-60]\", \"Charges [60-70]\", \"Charges [40-50]\", \"Charges > 110\", \"Charges [30-40]\"], \"marker\": {\"colors\": [\"orangered\", \"darkviolet\"], \"line\": {\"color\": \"white\", \"width\": 1.3}}, \"rotation\": 180, \"values\": [1653, 927, 917, 837, 687, 619, 542, 461, 215, 185], \"type\": \"pie\", \"uid\": \"3ad22774-ac55-4bca-8427-d5f54f3eec39\"}], {\"paper_bgcolor\": \"rgb(243,243,243)\", \"plot_bgcolor\": \"rgb(243,243,243)\", \"title\": {\"text\": \"Monthly Charges division\"}}, {\"showLink\": false, \"linkText\": \"Export to plot.ly\", \"plotlyServerURL\": \"https://plot.ly\"}); \n",
       "}\n",
       "});</script><script type=\"text/javascript\">window.addEventListener(\"resize\", function(){if (document.getElementById(\"102ac987-2f8c-4f61-935c-2a9d6c6be124\")) {window._Plotly.Plots.resize(document.getElementById(\"102ac987-2f8c-4f61-935c-2a9d6c6be124\"));};})</script>"
      ],
      "text/vnd.plotly.v1+html": [
       "<div id=\"102ac987-2f8c-4f61-935c-2a9d6c6be124\" style=\"height: 525px; width: 100%;\" class=\"plotly-graph-div\"></div><script type=\"text/javascript\">require([\"plotly\"], function(Plotly) { window.PLOTLYENV=window.PLOTLYENV || {};window.PLOTLYENV.BASE_URL=\"https://plot.ly\";\n",
       "if (document.getElementById(\"102ac987-2f8c-4f61-935c-2a9d6c6be124\")) {\n",
       "    Plotly.newPlot(\"102ac987-2f8c-4f61-935c-2a9d6c6be124\", [{\"hole\": 0.4, \"hoverinfo\": \"label+value+text\", \"labels\": [\"Charges [18-30]\", \"Charges [80-90]\", \"Charges [70-80]\", \"Charges [90-100]\", \"Charges [100-110]\", \"Charges [50-60]\", \"Charges [60-70]\", \"Charges [40-50]\", \"Charges > 110\", \"Charges [30-40]\"], \"marker\": {\"colors\": [\"orangered\", \"darkviolet\"], \"line\": {\"color\": \"white\", \"width\": 1.3}}, \"rotation\": 180, \"values\": [1653, 927, 917, 837, 687, 619, 542, 461, 215, 185], \"type\": \"pie\", \"uid\": \"3ad22774-ac55-4bca-8427-d5f54f3eec39\"}], {\"paper_bgcolor\": \"rgb(243,243,243)\", \"plot_bgcolor\": \"rgb(243,243,243)\", \"title\": {\"text\": \"Monthly Charges division\"}}, {\"showLink\": false, \"linkText\": \"Export to plot.ly\", \"plotlyServerURL\": \"https://plot.ly\"}); \n",
       "}\n",
       "});</script><script type=\"text/javascript\">window.addEventListener(\"resize\", function(){if (document.getElementById(\"102ac987-2f8c-4f61-935c-2a9d6c6be124\")) {window._Plotly.Plots.resize(document.getElementById(\"102ac987-2f8c-4f61-935c-2a9d6c6be124\"));};})</script>"
      ]
     },
     "metadata": {},
     "output_type": "display_data"
    }
   ],
   "source": [
    "def groupcharges(tlc_db) :\n",
    "    \n",
    "    if tlc_db[\"MonthlyCharges\"] <= 30 :\n",
    "        return \"Charges [18-30]\"\n",
    "    elif (tlc_db[\"MonthlyCharges\"] > 30) & (tlc_db[\"MonthlyCharges\"] <= 40 ):\n",
    "        return \"Charges [30-40]\"\n",
    "    elif (tlc_db[\"MonthlyCharges\"] > 40) & (tlc_db[\"MonthlyCharges\"] <= 50) :\n",
    "        return \"Charges [40-50]\"\n",
    "    elif (tlc_db[\"MonthlyCharges\"] > 50) & (tlc_db[\"MonthlyCharges\"] <= 60) :\n",
    "        return \"Charges [50-60]\"\n",
    "    elif (tlc_db[\"MonthlyCharges\"] > 60) & (tlc_db[\"MonthlyCharges\"] <= 70) :\n",
    "        return \"Charges [60-70]\"\n",
    "    elif (tlc_db[\"MonthlyCharges\"] > 70) & (tlc_db[\"MonthlyCharges\"] <= 80) :\n",
    "        return \"Charges [70-80]\"\n",
    "    elif (tlc_db[\"MonthlyCharges\"] > 80) & (tlc_db[\"MonthlyCharges\"] <= 90) :\n",
    "        return \"Charges [80-90]\"\n",
    "    elif (tlc_db[\"MonthlyCharges\"] > 90) & (tlc_db[\"MonthlyCharges\"] <= 100) :\n",
    "        return \"Charges [90-100]\"\n",
    "    elif (tlc_db[\"MonthlyCharges\"] > 100) & (tlc_db[\"MonthlyCharges\"] <= 110) :\n",
    "        return \"Charges [100-110]\"\n",
    "    elif tlc_db[\"MonthlyCharges\"] > 110 :\n",
    "        return \"Charges > 110\"\n",
    "tlc_db[\"Charges_grouped\"] = tlc_db.apply(lambda tlc_db:groupcharges(tlc_db),\n",
    "                                      axis = 1)\n",
    "\n",
    "lab = tlc_db[\"Charges_grouped\"].value_counts().keys().tolist()\n",
    "#values\n",
    "val = tlc_db[\"Charges_grouped\"].value_counts().values.tolist()\n",
    "\n",
    "trace = pgo.Pie(labels = lab ,\n",
    "               values = val ,\n",
    "               marker = dict(colors =  [ 'orangered' ,'darkviolet'],\n",
    "                             line = dict(color = \"white\",\n",
    "                                         width =  1.3)\n",
    "                            ),\n",
    "               rotation = 180,\n",
    "               hoverinfo = \"label+value+text\",\n",
    "               hole = .4\n",
    "              )\n",
    "layout = pgo.Layout(dict(title = \"Monthly Charges division\",\n",
    "                        plot_bgcolor  = \"rgb(243,243,243)\",\n",
    "                        paper_bgcolor = \"rgb(243,243,243)\",\n",
    "                       )\n",
    "                  )\n",
    "\n",
    "data = [trace]\n",
    "fig = pgo.Figure(data = data,layout = layout)\n",
    "py.iplot(fig)"
   ]
  },
  {
   "cell_type": "code",
   "execution_count": 24,
   "metadata": {
    "ExecuteTime": {
     "end_time": "2019-03-26T18:21:49.315888Z",
     "start_time": "2019-03-26T18:21:49.285618Z"
    }
   },
   "outputs": [
    {
     "data": {
      "text/html": [
       "<div>\n",
       "<style scoped>\n",
       "    .dataframe tbody tr th:only-of-type {\n",
       "        vertical-align: middle;\n",
       "    }\n",
       "\n",
       "    .dataframe tbody tr th {\n",
       "        vertical-align: top;\n",
       "    }\n",
       "\n",
       "    .dataframe thead tr th {\n",
       "        text-align: left;\n",
       "    }\n",
       "\n",
       "    .dataframe thead tr:last-of-type th {\n",
       "        text-align: right;\n",
       "    }\n",
       "</style>\n",
       "<table border=\"1\" class=\"dataframe\">\n",
       "  <thead>\n",
       "    <tr>\n",
       "      <th></th>\n",
       "      <th colspan=\"3\" halign=\"left\">Churn</th>\n",
       "    </tr>\n",
       "    <tr>\n",
       "      <th></th>\n",
       "      <th>count</th>\n",
       "      <th>sum</th>\n",
       "      <th>mean</th>\n",
       "    </tr>\n",
       "    <tr>\n",
       "      <th>tenure</th>\n",
       "      <th></th>\n",
       "      <th></th>\n",
       "      <th></th>\n",
       "    </tr>\n",
       "  </thead>\n",
       "  <tbody>\n",
       "    <tr>\n",
       "      <th>0</th>\n",
       "      <td>11</td>\n",
       "      <td>0</td>\n",
       "      <td>0.000000</td>\n",
       "    </tr>\n",
       "    <tr>\n",
       "      <th>1</th>\n",
       "      <td>613</td>\n",
       "      <td>380</td>\n",
       "      <td>0.619902</td>\n",
       "    </tr>\n",
       "    <tr>\n",
       "      <th>2</th>\n",
       "      <td>238</td>\n",
       "      <td>123</td>\n",
       "      <td>0.516807</td>\n",
       "    </tr>\n",
       "    <tr>\n",
       "      <th>3</th>\n",
       "      <td>200</td>\n",
       "      <td>94</td>\n",
       "      <td>0.470000</td>\n",
       "    </tr>\n",
       "    <tr>\n",
       "      <th>4</th>\n",
       "      <td>176</td>\n",
       "      <td>83</td>\n",
       "      <td>0.471591</td>\n",
       "    </tr>\n",
       "    <tr>\n",
       "      <th>5</th>\n",
       "      <td>133</td>\n",
       "      <td>64</td>\n",
       "      <td>0.481203</td>\n",
       "    </tr>\n",
       "    <tr>\n",
       "      <th>6</th>\n",
       "      <td>110</td>\n",
       "      <td>40</td>\n",
       "      <td>0.363636</td>\n",
       "    </tr>\n",
       "    <tr>\n",
       "      <th>7</th>\n",
       "      <td>131</td>\n",
       "      <td>51</td>\n",
       "      <td>0.389313</td>\n",
       "    </tr>\n",
       "    <tr>\n",
       "      <th>8</th>\n",
       "      <td>123</td>\n",
       "      <td>42</td>\n",
       "      <td>0.341463</td>\n",
       "    </tr>\n",
       "    <tr>\n",
       "      <th>9</th>\n",
       "      <td>119</td>\n",
       "      <td>46</td>\n",
       "      <td>0.386555</td>\n",
       "    </tr>\n",
       "    <tr>\n",
       "      <th>10</th>\n",
       "      <td>116</td>\n",
       "      <td>45</td>\n",
       "      <td>0.387931</td>\n",
       "    </tr>\n",
       "    <tr>\n",
       "      <th>11</th>\n",
       "      <td>99</td>\n",
       "      <td>31</td>\n",
       "      <td>0.313131</td>\n",
       "    </tr>\n",
       "    <tr>\n",
       "      <th>12</th>\n",
       "      <td>117</td>\n",
       "      <td>38</td>\n",
       "      <td>0.324786</td>\n",
       "    </tr>\n",
       "    <tr>\n",
       "      <th>13</th>\n",
       "      <td>109</td>\n",
       "      <td>38</td>\n",
       "      <td>0.348624</td>\n",
       "    </tr>\n",
       "    <tr>\n",
       "      <th>14</th>\n",
       "      <td>76</td>\n",
       "      <td>24</td>\n",
       "      <td>0.315789</td>\n",
       "    </tr>\n",
       "    <tr>\n",
       "      <th>15</th>\n",
       "      <td>99</td>\n",
       "      <td>37</td>\n",
       "      <td>0.373737</td>\n",
       "    </tr>\n",
       "    <tr>\n",
       "      <th>16</th>\n",
       "      <td>80</td>\n",
       "      <td>28</td>\n",
       "      <td>0.350000</td>\n",
       "    </tr>\n",
       "    <tr>\n",
       "      <th>17</th>\n",
       "      <td>87</td>\n",
       "      <td>26</td>\n",
       "      <td>0.298851</td>\n",
       "    </tr>\n",
       "    <tr>\n",
       "      <th>18</th>\n",
       "      <td>97</td>\n",
       "      <td>24</td>\n",
       "      <td>0.247423</td>\n",
       "    </tr>\n",
       "    <tr>\n",
       "      <th>19</th>\n",
       "      <td>73</td>\n",
       "      <td>19</td>\n",
       "      <td>0.260274</td>\n",
       "    </tr>\n",
       "    <tr>\n",
       "      <th>20</th>\n",
       "      <td>71</td>\n",
       "      <td>18</td>\n",
       "      <td>0.253521</td>\n",
       "    </tr>\n",
       "    <tr>\n",
       "      <th>21</th>\n",
       "      <td>63</td>\n",
       "      <td>17</td>\n",
       "      <td>0.269841</td>\n",
       "    </tr>\n",
       "    <tr>\n",
       "      <th>22</th>\n",
       "      <td>90</td>\n",
       "      <td>27</td>\n",
       "      <td>0.300000</td>\n",
       "    </tr>\n",
       "    <tr>\n",
       "      <th>23</th>\n",
       "      <td>85</td>\n",
       "      <td>13</td>\n",
       "      <td>0.152941</td>\n",
       "    </tr>\n",
       "    <tr>\n",
       "      <th>24</th>\n",
       "      <td>94</td>\n",
       "      <td>23</td>\n",
       "      <td>0.244681</td>\n",
       "    </tr>\n",
       "    <tr>\n",
       "      <th>25</th>\n",
       "      <td>79</td>\n",
       "      <td>23</td>\n",
       "      <td>0.291139</td>\n",
       "    </tr>\n",
       "    <tr>\n",
       "      <th>26</th>\n",
       "      <td>79</td>\n",
       "      <td>15</td>\n",
       "      <td>0.189873</td>\n",
       "    </tr>\n",
       "    <tr>\n",
       "      <th>27</th>\n",
       "      <td>72</td>\n",
       "      <td>13</td>\n",
       "      <td>0.180556</td>\n",
       "    </tr>\n",
       "    <tr>\n",
       "      <th>28</th>\n",
       "      <td>57</td>\n",
       "      <td>12</td>\n",
       "      <td>0.210526</td>\n",
       "    </tr>\n",
       "    <tr>\n",
       "      <th>29</th>\n",
       "      <td>72</td>\n",
       "      <td>15</td>\n",
       "      <td>0.208333</td>\n",
       "    </tr>\n",
       "    <tr>\n",
       "      <th>...</th>\n",
       "      <td>...</td>\n",
       "      <td>...</td>\n",
       "      <td>...</td>\n",
       "    </tr>\n",
       "    <tr>\n",
       "      <th>43</th>\n",
       "      <td>65</td>\n",
       "      <td>15</td>\n",
       "      <td>0.230769</td>\n",
       "    </tr>\n",
       "    <tr>\n",
       "      <th>44</th>\n",
       "      <td>51</td>\n",
       "      <td>6</td>\n",
       "      <td>0.117647</td>\n",
       "    </tr>\n",
       "    <tr>\n",
       "      <th>45</th>\n",
       "      <td>61</td>\n",
       "      <td>6</td>\n",
       "      <td>0.098361</td>\n",
       "    </tr>\n",
       "    <tr>\n",
       "      <th>46</th>\n",
       "      <td>74</td>\n",
       "      <td>12</td>\n",
       "      <td>0.162162</td>\n",
       "    </tr>\n",
       "    <tr>\n",
       "      <th>47</th>\n",
       "      <td>68</td>\n",
       "      <td>14</td>\n",
       "      <td>0.205882</td>\n",
       "    </tr>\n",
       "    <tr>\n",
       "      <th>48</th>\n",
       "      <td>64</td>\n",
       "      <td>9</td>\n",
       "      <td>0.140625</td>\n",
       "    </tr>\n",
       "    <tr>\n",
       "      <th>49</th>\n",
       "      <td>66</td>\n",
       "      <td>15</td>\n",
       "      <td>0.227273</td>\n",
       "    </tr>\n",
       "    <tr>\n",
       "      <th>50</th>\n",
       "      <td>68</td>\n",
       "      <td>10</td>\n",
       "      <td>0.147059</td>\n",
       "    </tr>\n",
       "    <tr>\n",
       "      <th>51</th>\n",
       "      <td>68</td>\n",
       "      <td>8</td>\n",
       "      <td>0.117647</td>\n",
       "    </tr>\n",
       "    <tr>\n",
       "      <th>52</th>\n",
       "      <td>80</td>\n",
       "      <td>8</td>\n",
       "      <td>0.100000</td>\n",
       "    </tr>\n",
       "    <tr>\n",
       "      <th>53</th>\n",
       "      <td>70</td>\n",
       "      <td>14</td>\n",
       "      <td>0.200000</td>\n",
       "    </tr>\n",
       "    <tr>\n",
       "      <th>54</th>\n",
       "      <td>68</td>\n",
       "      <td>13</td>\n",
       "      <td>0.191176</td>\n",
       "    </tr>\n",
       "    <tr>\n",
       "      <th>55</th>\n",
       "      <td>64</td>\n",
       "      <td>9</td>\n",
       "      <td>0.140625</td>\n",
       "    </tr>\n",
       "    <tr>\n",
       "      <th>56</th>\n",
       "      <td>80</td>\n",
       "      <td>10</td>\n",
       "      <td>0.125000</td>\n",
       "    </tr>\n",
       "    <tr>\n",
       "      <th>57</th>\n",
       "      <td>65</td>\n",
       "      <td>8</td>\n",
       "      <td>0.123077</td>\n",
       "    </tr>\n",
       "    <tr>\n",
       "      <th>58</th>\n",
       "      <td>67</td>\n",
       "      <td>11</td>\n",
       "      <td>0.164179</td>\n",
       "    </tr>\n",
       "    <tr>\n",
       "      <th>59</th>\n",
       "      <td>60</td>\n",
       "      <td>8</td>\n",
       "      <td>0.133333</td>\n",
       "    </tr>\n",
       "    <tr>\n",
       "      <th>60</th>\n",
       "      <td>76</td>\n",
       "      <td>6</td>\n",
       "      <td>0.078947</td>\n",
       "    </tr>\n",
       "    <tr>\n",
       "      <th>61</th>\n",
       "      <td>76</td>\n",
       "      <td>8</td>\n",
       "      <td>0.105263</td>\n",
       "    </tr>\n",
       "    <tr>\n",
       "      <th>62</th>\n",
       "      <td>70</td>\n",
       "      <td>5</td>\n",
       "      <td>0.071429</td>\n",
       "    </tr>\n",
       "    <tr>\n",
       "      <th>63</th>\n",
       "      <td>72</td>\n",
       "      <td>4</td>\n",
       "      <td>0.055556</td>\n",
       "    </tr>\n",
       "    <tr>\n",
       "      <th>64</th>\n",
       "      <td>80</td>\n",
       "      <td>4</td>\n",
       "      <td>0.050000</td>\n",
       "    </tr>\n",
       "    <tr>\n",
       "      <th>65</th>\n",
       "      <td>76</td>\n",
       "      <td>9</td>\n",
       "      <td>0.118421</td>\n",
       "    </tr>\n",
       "    <tr>\n",
       "      <th>66</th>\n",
       "      <td>89</td>\n",
       "      <td>13</td>\n",
       "      <td>0.146067</td>\n",
       "    </tr>\n",
       "    <tr>\n",
       "      <th>67</th>\n",
       "      <td>98</td>\n",
       "      <td>10</td>\n",
       "      <td>0.102041</td>\n",
       "    </tr>\n",
       "    <tr>\n",
       "      <th>68</th>\n",
       "      <td>100</td>\n",
       "      <td>9</td>\n",
       "      <td>0.090000</td>\n",
       "    </tr>\n",
       "    <tr>\n",
       "      <th>69</th>\n",
       "      <td>95</td>\n",
       "      <td>8</td>\n",
       "      <td>0.084211</td>\n",
       "    </tr>\n",
       "    <tr>\n",
       "      <th>70</th>\n",
       "      <td>119</td>\n",
       "      <td>11</td>\n",
       "      <td>0.092437</td>\n",
       "    </tr>\n",
       "    <tr>\n",
       "      <th>71</th>\n",
       "      <td>170</td>\n",
       "      <td>6</td>\n",
       "      <td>0.035294</td>\n",
       "    </tr>\n",
       "    <tr>\n",
       "      <th>72</th>\n",
       "      <td>362</td>\n",
       "      <td>6</td>\n",
       "      <td>0.016575</td>\n",
       "    </tr>\n",
       "  </tbody>\n",
       "</table>\n",
       "<p>73 rows × 3 columns</p>\n",
       "</div>"
      ],
      "text/plain": [
       "       Churn               \n",
       "       count  sum      mean\n",
       "tenure                     \n",
       "0         11    0  0.000000\n",
       "1        613  380  0.619902\n",
       "2        238  123  0.516807\n",
       "3        200   94  0.470000\n",
       "4        176   83  0.471591\n",
       "5        133   64  0.481203\n",
       "6        110   40  0.363636\n",
       "7        131   51  0.389313\n",
       "8        123   42  0.341463\n",
       "9        119   46  0.386555\n",
       "10       116   45  0.387931\n",
       "11        99   31  0.313131\n",
       "12       117   38  0.324786\n",
       "13       109   38  0.348624\n",
       "14        76   24  0.315789\n",
       "15        99   37  0.373737\n",
       "16        80   28  0.350000\n",
       "17        87   26  0.298851\n",
       "18        97   24  0.247423\n",
       "19        73   19  0.260274\n",
       "20        71   18  0.253521\n",
       "21        63   17  0.269841\n",
       "22        90   27  0.300000\n",
       "23        85   13  0.152941\n",
       "24        94   23  0.244681\n",
       "25        79   23  0.291139\n",
       "26        79   15  0.189873\n",
       "27        72   13  0.180556\n",
       "28        57   12  0.210526\n",
       "29        72   15  0.208333\n",
       "...      ...  ...       ...\n",
       "43        65   15  0.230769\n",
       "44        51    6  0.117647\n",
       "45        61    6  0.098361\n",
       "46        74   12  0.162162\n",
       "47        68   14  0.205882\n",
       "48        64    9  0.140625\n",
       "49        66   15  0.227273\n",
       "50        68   10  0.147059\n",
       "51        68    8  0.117647\n",
       "52        80    8  0.100000\n",
       "53        70   14  0.200000\n",
       "54        68   13  0.191176\n",
       "55        64    9  0.140625\n",
       "56        80   10  0.125000\n",
       "57        65    8  0.123077\n",
       "58        67   11  0.164179\n",
       "59        60    8  0.133333\n",
       "60        76    6  0.078947\n",
       "61        76    8  0.105263\n",
       "62        70    5  0.071429\n",
       "63        72    4  0.055556\n",
       "64        80    4  0.050000\n",
       "65        76    9  0.118421\n",
       "66        89   13  0.146067\n",
       "67        98   10  0.102041\n",
       "68       100    9  0.090000\n",
       "69        95    8  0.084211\n",
       "70       119   11  0.092437\n",
       "71       170    6  0.035294\n",
       "72       362    6  0.016575\n",
       "\n",
       "[73 rows x 3 columns]"
      ]
     },
     "execution_count": 24,
     "metadata": {},
     "output_type": "execute_result"
    }
   ],
   "source": [
    "pd.DataFrame(tlc_db1.groupby('tenure').agg({'Churn': ['count', 'sum', 'mean']}))"
   ]
  },
  {
   "cell_type": "markdown",
   "metadata": {},
   "source": [
    "We can notice that more the number of *tenure* grows the *Churn* rate decrease"
   ]
  },
  {
   "cell_type": "code",
   "execution_count": 25,
   "metadata": {
    "ExecuteTime": {
     "end_time": "2019-03-26T18:21:50.092074Z",
     "start_time": "2019-03-26T18:21:50.070760Z"
    }
   },
   "outputs": [
    {
     "data": {
      "text/html": [
       "<div>\n",
       "<style scoped>\n",
       "    .dataframe tbody tr th:only-of-type {\n",
       "        vertical-align: middle;\n",
       "    }\n",
       "\n",
       "    .dataframe tbody tr th {\n",
       "        vertical-align: top;\n",
       "    }\n",
       "\n",
       "    .dataframe thead tr th {\n",
       "        text-align: left;\n",
       "    }\n",
       "\n",
       "    .dataframe thead tr:last-of-type th {\n",
       "        text-align: right;\n",
       "    }\n",
       "</style>\n",
       "<table border=\"1\" class=\"dataframe\">\n",
       "  <thead>\n",
       "    <tr>\n",
       "      <th></th>\n",
       "      <th colspan=\"3\" halign=\"left\">Churn</th>\n",
       "    </tr>\n",
       "    <tr>\n",
       "      <th></th>\n",
       "      <th>count</th>\n",
       "      <th>sum</th>\n",
       "      <th>mean</th>\n",
       "    </tr>\n",
       "    <tr>\n",
       "      <th>Contract</th>\n",
       "      <th></th>\n",
       "      <th></th>\n",
       "      <th></th>\n",
       "    </tr>\n",
       "  </thead>\n",
       "  <tbody>\n",
       "    <tr>\n",
       "      <th>Month-to-month</th>\n",
       "      <td>3875</td>\n",
       "      <td>1655</td>\n",
       "      <td>0.427097</td>\n",
       "    </tr>\n",
       "    <tr>\n",
       "      <th>One year</th>\n",
       "      <td>1473</td>\n",
       "      <td>166</td>\n",
       "      <td>0.112695</td>\n",
       "    </tr>\n",
       "    <tr>\n",
       "      <th>Two year</th>\n",
       "      <td>1695</td>\n",
       "      <td>48</td>\n",
       "      <td>0.028319</td>\n",
       "    </tr>\n",
       "  </tbody>\n",
       "</table>\n",
       "</div>"
      ],
      "text/plain": [
       "               Churn                \n",
       "               count   sum      mean\n",
       "Contract                            \n",
       "Month-to-month  3875  1655  0.427097\n",
       "One year        1473   166  0.112695\n",
       "Two year        1695    48  0.028319"
      ]
     },
     "execution_count": 25,
     "metadata": {},
     "output_type": "execute_result"
    }
   ],
   "source": [
    "pd.DataFrame(tlc_db.groupby('Contract').agg({'Churn': ['count', 'sum', 'mean']}))"
   ]
  },
  {
   "cell_type": "markdown",
   "metadata": {},
   "source": [
    "We can notice that who subscribe a *Month-to-month* contract as a higher *Churn rate* respect to the pther type of contract"
   ]
  },
  {
   "cell_type": "markdown",
   "metadata": {},
   "source": [
    "Plot of Contract distribution."
   ]
  },
  {
   "cell_type": "code",
   "execution_count": 26,
   "metadata": {
    "ExecuteTime": {
     "end_time": "2019-03-26T18:21:50.973325Z",
     "start_time": "2019-03-26T18:21:50.875570Z"
    }
   },
   "outputs": [
    {
     "data": {
      "application/vnd.plotly.v1+json": {
       "config": {
        "linkText": "Export to plot.ly",
        "plotlyServerURL": "https://plot.ly",
        "showLink": false
       },
       "data": [
        {
         "hole": 0.4,
         "hoverinfo": "label+value+text",
         "labels": [
          "Month-to-month",
          "Two year",
          "One year"
         ],
         "marker": {
          "colors": [
           "Blue",
           "red",
           "green"
          ],
          "line": {
           "color": "white",
           "width": 1.3
          }
         },
         "rotation": 180,
         "type": "pie",
         "uid": "93b03ec5-18b8-4765-a924-f28cafd7c8dd",
         "values": [
          3875,
          1695,
          1473
         ]
        }
       ],
       "layout": {
        "paper_bgcolor": "rgb(243,243,243)",
        "plot_bgcolor": "rgb(243,243,243)",
        "title": {
         "text": "Contract division"
        }
       }
      },
      "text/html": [
       "<div id=\"b833fda5-5dc8-4d94-aa8e-e07f47038465\" style=\"height: 525px; width: 100%;\" class=\"plotly-graph-div\"></div><script type=\"text/javascript\">require([\"plotly\"], function(Plotly) { window.PLOTLYENV=window.PLOTLYENV || {};window.PLOTLYENV.BASE_URL=\"https://plot.ly\";\n",
       "if (document.getElementById(\"b833fda5-5dc8-4d94-aa8e-e07f47038465\")) {\n",
       "    Plotly.newPlot(\"b833fda5-5dc8-4d94-aa8e-e07f47038465\", [{\"hole\": 0.4, \"hoverinfo\": \"label+value+text\", \"labels\": [\"Month-to-month\", \"Two year\", \"One year\"], \"marker\": {\"colors\": [\"Blue\", \"red\", \"green\"], \"line\": {\"color\": \"white\", \"width\": 1.3}}, \"rotation\": 180, \"values\": [3875, 1695, 1473], \"type\": \"pie\", \"uid\": \"93b03ec5-18b8-4765-a924-f28cafd7c8dd\"}], {\"paper_bgcolor\": \"rgb(243,243,243)\", \"plot_bgcolor\": \"rgb(243,243,243)\", \"title\": {\"text\": \"Contract division\"}}, {\"showLink\": false, \"linkText\": \"Export to plot.ly\", \"plotlyServerURL\": \"https://plot.ly\"}); \n",
       "}\n",
       "});</script><script type=\"text/javascript\">window.addEventListener(\"resize\", function(){if (document.getElementById(\"b833fda5-5dc8-4d94-aa8e-e07f47038465\")) {window._Plotly.Plots.resize(document.getElementById(\"b833fda5-5dc8-4d94-aa8e-e07f47038465\"));};})</script>"
      ],
      "text/vnd.plotly.v1+html": [
       "<div id=\"b833fda5-5dc8-4d94-aa8e-e07f47038465\" style=\"height: 525px; width: 100%;\" class=\"plotly-graph-div\"></div><script type=\"text/javascript\">require([\"plotly\"], function(Plotly) { window.PLOTLYENV=window.PLOTLYENV || {};window.PLOTLYENV.BASE_URL=\"https://plot.ly\";\n",
       "if (document.getElementById(\"b833fda5-5dc8-4d94-aa8e-e07f47038465\")) {\n",
       "    Plotly.newPlot(\"b833fda5-5dc8-4d94-aa8e-e07f47038465\", [{\"hole\": 0.4, \"hoverinfo\": \"label+value+text\", \"labels\": [\"Month-to-month\", \"Two year\", \"One year\"], \"marker\": {\"colors\": [\"Blue\", \"red\", \"green\"], \"line\": {\"color\": \"white\", \"width\": 1.3}}, \"rotation\": 180, \"values\": [3875, 1695, 1473], \"type\": \"pie\", \"uid\": \"93b03ec5-18b8-4765-a924-f28cafd7c8dd\"}], {\"paper_bgcolor\": \"rgb(243,243,243)\", \"plot_bgcolor\": \"rgb(243,243,243)\", \"title\": {\"text\": \"Contract division\"}}, {\"showLink\": false, \"linkText\": \"Export to plot.ly\", \"plotlyServerURL\": \"https://plot.ly\"}); \n",
       "}\n",
       "});</script><script type=\"text/javascript\">window.addEventListener(\"resize\", function(){if (document.getElementById(\"b833fda5-5dc8-4d94-aa8e-e07f47038465\")) {window._Plotly.Plots.resize(document.getElementById(\"b833fda5-5dc8-4d94-aa8e-e07f47038465\"));};})</script>"
      ]
     },
     "metadata": {},
     "output_type": "display_data"
    }
   ],
   "source": [
    "lab = tlc_db[\"Contract\"].value_counts().keys().tolist()\n",
    "#values\n",
    "val = tlc_db[\"Contract\"].value_counts().values.tolist()\n",
    "\n",
    "trace = pgo.Pie(labels = lab ,\n",
    "               values = val ,\n",
    "               marker = dict(colors =  [ 'Blue' ,'red', 'green'],\n",
    "                             line = dict(color = \"white\",\n",
    "                                         width =  1.3)\n",
    "                            ),\n",
    "               rotation = 180,\n",
    "               hoverinfo = \"label+value+text\",\n",
    "               hole = .4\n",
    "              )\n",
    "layout = pgo.Layout(dict(title = \"Contract division\",\n",
    "                        plot_bgcolor  = \"rgb(243,243,243)\",\n",
    "                        paper_bgcolor = \"rgb(243,243,243)\",\n",
    "                       )\n",
    "                  )\n",
    "\n",
    "data = [trace]\n",
    "fig = pgo.Figure(data = data,layout = layout)\n",
    "py.iplot(fig)"
   ]
  },
  {
   "cell_type": "markdown",
   "metadata": {},
   "source": [
    "We do the same we the variable *MonthlyCharges*"
   ]
  },
  {
   "cell_type": "markdown",
   "metadata": {},
   "source": [
    "As we can notice we cannot group this variable because it's more heterogenous and continuos respect the other type of variable, so the interpretation is not clear. We prefer to divide the distribution into n equally spaced groups."
   ]
  },
  {
   "cell_type": "code",
   "execution_count": 27,
   "metadata": {
    "ExecuteTime": {
     "end_time": "2019-03-26T18:21:51.840242Z",
     "start_time": "2019-03-26T18:21:51.794828Z"
    },
    "scrolled": true
   },
   "outputs": [
    {
     "data": {
      "text/html": [
       "<div>\n",
       "<style scoped>\n",
       "    .dataframe tbody tr th:only-of-type {\n",
       "        vertical-align: middle;\n",
       "    }\n",
       "\n",
       "    .dataframe tbody tr th {\n",
       "        vertical-align: top;\n",
       "    }\n",
       "\n",
       "    .dataframe thead th {\n",
       "        text-align: right;\n",
       "    }\n",
       "</style>\n",
       "<table border=\"1\" class=\"dataframe\">\n",
       "  <thead>\n",
       "    <tr style=\"text-align: right;\">\n",
       "      <th></th>\n",
       "      <th>0</th>\n",
       "      <th>1</th>\n",
       "    </tr>\n",
       "    <tr>\n",
       "      <th>MonthlyCharges</th>\n",
       "      <th></th>\n",
       "      <th></th>\n",
       "    </tr>\n",
       "  </thead>\n",
       "  <tbody>\n",
       "    <tr>\n",
       "      <th>(18.15, 28.3]</th>\n",
       "      <td>1458</td>\n",
       "      <td>148</td>\n",
       "    </tr>\n",
       "    <tr>\n",
       "      <th>(28.3, 38.35]</th>\n",
       "      <td>134</td>\n",
       "      <td>57</td>\n",
       "    </tr>\n",
       "    <tr>\n",
       "      <th>(38.35, 48.4]</th>\n",
       "      <td>246</td>\n",
       "      <td>119</td>\n",
       "    </tr>\n",
       "    <tr>\n",
       "      <th>(48.4, 58.45]</th>\n",
       "      <td>488</td>\n",
       "      <td>152</td>\n",
       "    </tr>\n",
       "    <tr>\n",
       "      <th>(58.45, 68.5]</th>\n",
       "      <td>420</td>\n",
       "      <td>54</td>\n",
       "    </tr>\n",
       "    <tr>\n",
       "      <th>(68.5, 78.55]</th>\n",
       "      <td>544</td>\n",
       "      <td>349</td>\n",
       "    </tr>\n",
       "    <tr>\n",
       "      <th>(78.55, 88.6]</th>\n",
       "      <td>598</td>\n",
       "      <td>355</td>\n",
       "    </tr>\n",
       "    <tr>\n",
       "      <th>(88.6, 98.65]</th>\n",
       "      <td>553</td>\n",
       "      <td>320</td>\n",
       "    </tr>\n",
       "    <tr>\n",
       "      <th>(98.65, 108.7]</th>\n",
       "      <td>482</td>\n",
       "      <td>272</td>\n",
       "    </tr>\n",
       "    <tr>\n",
       "      <th>(108.7, 118.75]</th>\n",
       "      <td>251</td>\n",
       "      <td>43</td>\n",
       "    </tr>\n",
       "  </tbody>\n",
       "</table>\n",
       "</div>"
      ],
      "text/plain": [
       "                    0    1\n",
       "MonthlyCharges            \n",
       "(18.15, 28.3]    1458  148\n",
       "(28.3, 38.35]     134   57\n",
       "(38.35, 48.4]     246  119\n",
       "(48.4, 58.45]     488  152\n",
       "(58.45, 68.5]     420   54\n",
       "(68.5, 78.55]     544  349\n",
       "(78.55, 88.6]     598  355\n",
       "(88.6, 98.65]     553  320\n",
       "(98.65, 108.7]    482  272\n",
       "(108.7, 118.75]   251   43"
      ]
     },
     "metadata": {},
     "output_type": "display_data"
    },
    {
     "data": {
      "text/html": [
       "<div>\n",
       "<style scoped>\n",
       "    .dataframe tbody tr th:only-of-type {\n",
       "        vertical-align: middle;\n",
       "    }\n",
       "\n",
       "    .dataframe tbody tr th {\n",
       "        vertical-align: top;\n",
       "    }\n",
       "\n",
       "    .dataframe thead th {\n",
       "        text-align: right;\n",
       "    }\n",
       "</style>\n",
       "<table border=\"1\" class=\"dataframe\">\n",
       "  <thead>\n",
       "    <tr style=\"text-align: right;\">\n",
       "      <th></th>\n",
       "      <th>0</th>\n",
       "      <th>1</th>\n",
       "      <th>tot</th>\n",
       "    </tr>\n",
       "    <tr>\n",
       "      <th>MonthlyCharges</th>\n",
       "      <th></th>\n",
       "      <th></th>\n",
       "      <th></th>\n",
       "    </tr>\n",
       "  </thead>\n",
       "  <tbody>\n",
       "    <tr>\n",
       "      <th>(18.15, 28.3]</th>\n",
       "      <td>0.907846</td>\n",
       "      <td>0.092154</td>\n",
       "      <td>1.0</td>\n",
       "    </tr>\n",
       "    <tr>\n",
       "      <th>(28.3, 38.35]</th>\n",
       "      <td>0.701571</td>\n",
       "      <td>0.298429</td>\n",
       "      <td>1.0</td>\n",
       "    </tr>\n",
       "    <tr>\n",
       "      <th>(38.35, 48.4]</th>\n",
       "      <td>0.673973</td>\n",
       "      <td>0.326027</td>\n",
       "      <td>1.0</td>\n",
       "    </tr>\n",
       "    <tr>\n",
       "      <th>(48.4, 58.45]</th>\n",
       "      <td>0.762500</td>\n",
       "      <td>0.237500</td>\n",
       "      <td>1.0</td>\n",
       "    </tr>\n",
       "    <tr>\n",
       "      <th>(58.45, 68.5]</th>\n",
       "      <td>0.886076</td>\n",
       "      <td>0.113924</td>\n",
       "      <td>1.0</td>\n",
       "    </tr>\n",
       "    <tr>\n",
       "      <th>(68.5, 78.55]</th>\n",
       "      <td>0.609183</td>\n",
       "      <td>0.390817</td>\n",
       "      <td>1.0</td>\n",
       "    </tr>\n",
       "    <tr>\n",
       "      <th>(78.55, 88.6]</th>\n",
       "      <td>0.627492</td>\n",
       "      <td>0.372508</td>\n",
       "      <td>1.0</td>\n",
       "    </tr>\n",
       "    <tr>\n",
       "      <th>(88.6, 98.65]</th>\n",
       "      <td>0.633448</td>\n",
       "      <td>0.366552</td>\n",
       "      <td>1.0</td>\n",
       "    </tr>\n",
       "    <tr>\n",
       "      <th>(98.65, 108.7]</th>\n",
       "      <td>0.639257</td>\n",
       "      <td>0.360743</td>\n",
       "      <td>1.0</td>\n",
       "    </tr>\n",
       "    <tr>\n",
       "      <th>(108.7, 118.75]</th>\n",
       "      <td>0.853741</td>\n",
       "      <td>0.146259</td>\n",
       "      <td>1.0</td>\n",
       "    </tr>\n",
       "  </tbody>\n",
       "</table>\n",
       "</div>"
      ],
      "text/plain": [
       "                        0         1  tot\n",
       "MonthlyCharges                          \n",
       "(18.15, 28.3]    0.907846  0.092154  1.0\n",
       "(28.3, 38.35]    0.701571  0.298429  1.0\n",
       "(38.35, 48.4]    0.673973  0.326027  1.0\n",
       "(48.4, 58.45]    0.762500  0.237500  1.0\n",
       "(58.45, 68.5]    0.886076  0.113924  1.0\n",
       "(68.5, 78.55]    0.609183  0.390817  1.0\n",
       "(78.55, 88.6]    0.627492  0.372508  1.0\n",
       "(88.6, 98.65]    0.633448  0.366552  1.0\n",
       "(98.65, 108.7]   0.639257  0.360743  1.0\n",
       "(108.7, 118.75]  0.853741  0.146259  1.0"
      ]
     },
     "execution_count": 27,
     "metadata": {},
     "output_type": "execute_result"
    }
   ],
   "source": [
    "ct = pd.crosstab(pd.cut(tlc_db1.loc[tlc_db1['MonthlyCharges'].between(18,120), 'MonthlyCharges'], bins=10), tlc_db1['Churn'])\n",
    "ct.columns = ['0', '1']\n",
    "display(ct)\n",
    "ct['tot'] = ct['0'] + ct['1']\n",
    "ct.div(ct['tot'], 0)"
   ]
  },
  {
   "cell_type": "markdown",
   "metadata": {},
   "source": [
    "Then we prefer to analyze only lower *MonthlyCharges* from 18 to 25, because they are those with the highest number."
   ]
  },
  {
   "cell_type": "code",
   "execution_count": 28,
   "metadata": {
    "ExecuteTime": {
     "end_time": "2019-03-26T18:21:53.328437Z",
     "start_time": "2019-03-26T18:21:53.210687Z"
    }
   },
   "outputs": [
    {
     "data": {
      "text/html": [
       "<div>\n",
       "<style scoped>\n",
       "    .dataframe tbody tr th:only-of-type {\n",
       "        vertical-align: middle;\n",
       "    }\n",
       "\n",
       "    .dataframe tbody tr th {\n",
       "        vertical-align: top;\n",
       "    }\n",
       "\n",
       "    .dataframe thead th {\n",
       "        text-align: right;\n",
       "    }\n",
       "</style>\n",
       "<table border=\"1\" class=\"dataframe\">\n",
       "  <thead>\n",
       "    <tr style=\"text-align: right;\">\n",
       "      <th></th>\n",
       "      <th>0</th>\n",
       "      <th>1</th>\n",
       "    </tr>\n",
       "    <tr>\n",
       "      <th>MonthlyCharges</th>\n",
       "      <th></th>\n",
       "      <th></th>\n",
       "    </tr>\n",
       "  </thead>\n",
       "  <tbody>\n",
       "    <tr>\n",
       "      <th>(18.243, 18.925]</th>\n",
       "      <td>19</td>\n",
       "      <td>1</td>\n",
       "    </tr>\n",
       "    <tr>\n",
       "      <th>(18.925, 19.6]</th>\n",
       "      <td>270</td>\n",
       "      <td>27</td>\n",
       "    </tr>\n",
       "    <tr>\n",
       "      <th>(19.6, 20.275]</th>\n",
       "      <td>498</td>\n",
       "      <td>53</td>\n",
       "    </tr>\n",
       "    <tr>\n",
       "      <th>(20.275, 20.95]</th>\n",
       "      <td>271</td>\n",
       "      <td>20</td>\n",
       "    </tr>\n",
       "    <tr>\n",
       "      <th>(20.95, 21.625]</th>\n",
       "      <td>23</td>\n",
       "      <td>2</td>\n",
       "    </tr>\n",
       "    <tr>\n",
       "      <th>(22.3, 22.975]</th>\n",
       "      <td>1</td>\n",
       "      <td>0</td>\n",
       "    </tr>\n",
       "    <tr>\n",
       "      <th>(22.975, 23.65]</th>\n",
       "      <td>9</td>\n",
       "      <td>2</td>\n",
       "    </tr>\n",
       "    <tr>\n",
       "      <th>(23.65, 24.325]</th>\n",
       "      <td>55</td>\n",
       "      <td>6</td>\n",
       "    </tr>\n",
       "    <tr>\n",
       "      <th>(24.325, 25.0]</th>\n",
       "      <td>133</td>\n",
       "      <td>16</td>\n",
       "    </tr>\n",
       "  </tbody>\n",
       "</table>\n",
       "</div>"
      ],
      "text/plain": [
       "                    0   1\n",
       "MonthlyCharges           \n",
       "(18.243, 18.925]   19   1\n",
       "(18.925, 19.6]    270  27\n",
       "(19.6, 20.275]    498  53\n",
       "(20.275, 20.95]   271  20\n",
       "(20.95, 21.625]    23   2\n",
       "(22.3, 22.975]      1   0\n",
       "(22.975, 23.65]     9   2\n",
       "(23.65, 24.325]    55   6\n",
       "(24.325, 25.0]    133  16"
      ]
     },
     "metadata": {},
     "output_type": "display_data"
    },
    {
     "data": {
      "text/html": [
       "<div>\n",
       "<style scoped>\n",
       "    .dataframe tbody tr th:only-of-type {\n",
       "        vertical-align: middle;\n",
       "    }\n",
       "\n",
       "    .dataframe tbody tr th {\n",
       "        vertical-align: top;\n",
       "    }\n",
       "\n",
       "    .dataframe thead th {\n",
       "        text-align: right;\n",
       "    }\n",
       "</style>\n",
       "<table border=\"1\" class=\"dataframe\">\n",
       "  <thead>\n",
       "    <tr style=\"text-align: right;\">\n",
       "      <th></th>\n",
       "      <th>0</th>\n",
       "      <th>1</th>\n",
       "      <th>tot</th>\n",
       "    </tr>\n",
       "    <tr>\n",
       "      <th>MonthlyCharges</th>\n",
       "      <th></th>\n",
       "      <th></th>\n",
       "      <th></th>\n",
       "    </tr>\n",
       "  </thead>\n",
       "  <tbody>\n",
       "    <tr>\n",
       "      <th>(18.243, 18.925]</th>\n",
       "      <td>0.950000</td>\n",
       "      <td>0.050000</td>\n",
       "      <td>1.0</td>\n",
       "    </tr>\n",
       "    <tr>\n",
       "      <th>(18.925, 19.6]</th>\n",
       "      <td>0.909091</td>\n",
       "      <td>0.090909</td>\n",
       "      <td>1.0</td>\n",
       "    </tr>\n",
       "    <tr>\n",
       "      <th>(19.6, 20.275]</th>\n",
       "      <td>0.903811</td>\n",
       "      <td>0.096189</td>\n",
       "      <td>1.0</td>\n",
       "    </tr>\n",
       "    <tr>\n",
       "      <th>(20.275, 20.95]</th>\n",
       "      <td>0.931271</td>\n",
       "      <td>0.068729</td>\n",
       "      <td>1.0</td>\n",
       "    </tr>\n",
       "    <tr>\n",
       "      <th>(20.95, 21.625]</th>\n",
       "      <td>0.920000</td>\n",
       "      <td>0.080000</td>\n",
       "      <td>1.0</td>\n",
       "    </tr>\n",
       "    <tr>\n",
       "      <th>(22.3, 22.975]</th>\n",
       "      <td>1.000000</td>\n",
       "      <td>0.000000</td>\n",
       "      <td>1.0</td>\n",
       "    </tr>\n",
       "    <tr>\n",
       "      <th>(22.975, 23.65]</th>\n",
       "      <td>0.818182</td>\n",
       "      <td>0.181818</td>\n",
       "      <td>1.0</td>\n",
       "    </tr>\n",
       "    <tr>\n",
       "      <th>(23.65, 24.325]</th>\n",
       "      <td>0.901639</td>\n",
       "      <td>0.098361</td>\n",
       "      <td>1.0</td>\n",
       "    </tr>\n",
       "    <tr>\n",
       "      <th>(24.325, 25.0]</th>\n",
       "      <td>0.892617</td>\n",
       "      <td>0.107383</td>\n",
       "      <td>1.0</td>\n",
       "    </tr>\n",
       "  </tbody>\n",
       "</table>\n",
       "</div>"
      ],
      "text/plain": [
       "                         0         1  tot\n",
       "MonthlyCharges                           \n",
       "(18.243, 18.925]  0.950000  0.050000  1.0\n",
       "(18.925, 19.6]    0.909091  0.090909  1.0\n",
       "(19.6, 20.275]    0.903811  0.096189  1.0\n",
       "(20.275, 20.95]   0.931271  0.068729  1.0\n",
       "(20.95, 21.625]   0.920000  0.080000  1.0\n",
       "(22.3, 22.975]    1.000000  0.000000  1.0\n",
       "(22.975, 23.65]   0.818182  0.181818  1.0\n",
       "(23.65, 24.325]   0.901639  0.098361  1.0\n",
       "(24.325, 25.0]    0.892617  0.107383  1.0"
      ]
     },
     "execution_count": 28,
     "metadata": {},
     "output_type": "execute_result"
    }
   ],
   "source": [
    "ct = pd.crosstab(pd.cut(tlc_db1.loc[tlc_db1['MonthlyCharges'].between(18,25), 'MonthlyCharges'], bins=10), tlc_db1['Churn'])\n",
    "ct.columns = ['0', '1']\n",
    "display(ct)\n",
    "ct['tot'] = ct['0'] + ct['1']\n",
    "ct.div(ct['tot'], 0)"
   ]
  },
  {
   "cell_type": "code",
   "execution_count": 29,
   "metadata": {
    "ExecuteTime": {
     "end_time": "2019-03-26T18:21:56.357403Z",
     "start_time": "2019-03-26T18:21:54.139834Z"
    }
   },
   "outputs": [
    {
     "data": {
      "text/plain": [
       "Text(0.5, 1.0, 'Box Plot of Monthly Payments X Months of Loyalty')"
      ]
     },
     "execution_count": 29,
     "metadata": {},
     "output_type": "execute_result"
    },
    {
     "data": {
      "image/png": "[encoded data removed]",
      "text/plain": [
       "<Figure size 1080x720 with 1 Axes>"
      ]
     },
     "metadata": {
      "needs_background": "light"
     },
     "output_type": "display_data"
    }
   ],
   "source": [
    "import seaborn as sns\n",
    "plt.figure(figsize = (15,10))\n",
    "\n",
    "sns.boxplot(x = 'tenure', y = 'MonthlyCharges', data = tlc_db1)\n",
    "\n",
    "plt.title('Box Plot of Monthly Payments X Months of Loyalty')"
   ]
  },
  {
   "cell_type": "markdown",
   "metadata": {},
   "source": [
    "As this Boxplot graph chart shows, the Monthly Charge does not particularly affect the tenure of a customer. In fact we can see that, at every level of tenure, we have a high variability of tariffs (Monthly Charges), with a fluctuacting mean through the tenure levels (e.g. between ten.38 and ten.39). We can add that the 25-75% interval of the Monthly Charges is stable."
   ]
  },
  {
   "cell_type": "code",
   "execution_count": 30,
   "metadata": {
    "ExecuteTime": {
     "end_time": "2019-03-26T18:21:57.542684Z",
     "start_time": "2019-03-26T18:21:57.216214Z"
    }
   },
   "outputs": [],
   "source": [
    "tlc_db1.to_csv(\"Tlc.csv\")"
   ]
  },
  {
   "cell_type": "markdown",
   "metadata": {},
   "source": [
    "## Train/Test Split\n",
    "\n",
    "In order to develop our model we need to split our data set into a training set and a test set to evalute the model itself.\n",
    "\n",
    "We use an ad hoc function to do it. It allows us to have the same churn rate in the two different dataset."
   ]
  },
  {
   "cell_type": "code",
   "execution_count": 31,
   "metadata": {
    "ExecuteTime": {
     "end_time": "2019-03-26T18:21:58.373314Z",
     "start_time": "2019-03-26T18:21:58.369745Z"
    }
   },
   "outputs": [],
   "source": [
    "from sklearn.model_selection import StratifiedShuffleSplit "
   ]
  },
  {
   "cell_type": "code",
   "execution_count": 32,
   "metadata": {
    "ExecuteTime": {
     "end_time": "2019-03-26T18:21:59.194822Z",
     "start_time": "2019-03-26T18:21:59.177476Z"
    }
   },
   "outputs": [
    {
     "name": "stdout",
     "output_type": "stream",
     "text": [
      "5282 1761\n",
      "0.2654297614539947 0.26519023282226006\n"
     ]
    }
   ],
   "source": [
    "sss = StratifiedShuffleSplit(test_size=0.25, n_splits=1, random_state=1234)\n",
    "\n",
    "for train_index, test_index in sss.split(tlc_db1, tlc_db1['Churn']):\n",
    "    print(len(train_index), len(test_index))\n",
    "    print(tlc_db1.loc[train_index, 'Churn'].mean(), tlc_db1.loc[test_index, 'Churn'].mean())\n",
    "    train = tlc_db1.loc[train_index]\n",
    "    test = tlc_db1.loc[test_index]"
   ]
  },
  {
   "cell_type": "code",
   "execution_count": 33,
   "metadata": {
    "ExecuteTime": {
     "end_time": "2019-03-26T18:22:01.417444Z",
     "start_time": "2019-03-26T18:22:01.128128Z"
    }
   },
   "outputs": [],
   "source": [
    "# We want to export the train and the test datasets for future convenience\n",
    "train.to_csv('train.csv')\n",
    "test.to_csv('test.csv')"
   ]
  },
  {
   "cell_type": "code",
   "execution_count": 34,
   "metadata": {
    "ExecuteTime": {
     "end_time": "2019-03-26T18:22:02.907275Z",
     "start_time": "2019-03-26T18:22:02.896529Z"
    }
   },
   "outputs": [
    {
     "name": "stdout",
     "output_type": "stream",
     "text": [
      "The number of records for the train dataset is 5282 and the number of columns 41\n",
      "The number of records for the test dataset is 1761 and the number of columns 41\n"
     ]
    }
   ],
   "source": [
    "print('The number of records for the train dataset is',train.shape[0],'and the number of columns',train.shape[1])\n",
    "print('The number of records for the test dataset is',test.shape[0],'and the number of columns',test.shape[1])"
   ]
  },
  {
   "cell_type": "markdown",
   "metadata": {},
   "source": [
    "## Correlation Matrix\n",
    "\n",
    "Useful to do feature selection in order to drop predictors correlated with each others."
   ]
  },
  {
   "cell_type": "code",
   "execution_count": null,
   "metadata": {
    "ExecuteTime": {
     "end_time": "2019-03-26T17:18:47.163300Z",
     "start_time": "2019-03-26T17:18:47.159219Z"
    }
   },
   "outputs": [],
   "source": [
    "import seaborn as sns\n",
    "import matplotlib.pyplot as plt"
   ]
  },
  {
   "cell_type": "code",
   "execution_count": 50,
   "metadata": {
    "ExecuteTime": {
     "end_time": "2019-03-26T18:33:19.849020Z",
     "start_time": "2019-03-26T18:33:19.375388Z"
    }
   },
   "outputs": [
    {
     "data": {
      "image/png": "[encoded data removed]",
      "text/plain": [
       "<Figure size 648x504 with 2 Axes>"
      ]
     },
     "metadata": {
      "needs_background": "light"
     },
     "output_type": "display_data"
    }
   ],
   "source": [
    "correlations = train.corr()\n",
    "\n",
    "plt.figure(figsize=(9, 7))\n",
    "sns.heatmap(correlations)\n",
    "plt.show()"
   ]
  },
  {
   "cell_type": "markdown",
   "metadata": {},
   "source": [
    "We create our two final dataset of train and test."
   ]
  },
  {
   "cell_type": "code",
   "execution_count": 51,
   "metadata": {
    "ExecuteTime": {
     "end_time": "2019-03-26T18:33:22.854526Z",
     "start_time": "2019-03-26T18:33:22.845366Z"
    }
   },
   "outputs": [],
   "source": [
    "X = train.drop('Churn', 1)\n",
    "y = train['Churn']\n",
    "X_test = test.drop('Churn', 1)\n",
    "y_test = test['Churn']"
   ]
  },
  {
   "cell_type": "markdown",
   "metadata": {},
   "source": [
    "### Dropping higly correlated features"
   ]
  },
  {
   "cell_type": "code",
   "execution_count": 52,
   "metadata": {
    "ExecuteTime": {
     "end_time": "2019-03-26T18:33:28.568617Z",
     "start_time": "2019-03-26T18:33:28.546469Z"
    },
    "scrolled": true
   },
   "outputs": [
    {
     "data": {
      "text/html": [
       "<div>\n",
       "<style scoped>\n",
       "    .dataframe tbody tr th:only-of-type {\n",
       "        vertical-align: middle;\n",
       "    }\n",
       "\n",
       "    .dataframe tbody tr th {\n",
       "        vertical-align: top;\n",
       "    }\n",
       "\n",
       "    .dataframe thead th {\n",
       "        text-align: right;\n",
       "    }\n",
       "</style>\n",
       "<table border=\"1\" class=\"dataframe\">\n",
       "  <thead>\n",
       "    <tr style=\"text-align: right;\">\n",
       "      <th></th>\n",
       "      <th></th>\n",
       "      <th>0</th>\n",
       "      <th>1</th>\n",
       "      <th>2</th>\n",
       "    </tr>\n",
       "  </thead>\n",
       "  <tbody>\n",
       "    <tr>\n",
       "      <th>PhoneService</th>\n",
       "      <th>MultipleLines_NoPhoneService</th>\n",
       "      <td>-1.0</td>\n",
       "      <td>0.019016</td>\n",
       "      <td>-0.019016</td>\n",
       "    </tr>\n",
       "    <tr>\n",
       "      <th rowspan=\"6\" valign=\"top\">InternetService_No</th>\n",
       "      <th>OnlineSecurity_NoInternetService</th>\n",
       "      <td>1.0</td>\n",
       "      <td>-0.231728</td>\n",
       "      <td>-0.231728</td>\n",
       "    </tr>\n",
       "    <tr>\n",
       "      <th>OnlineBackup_NoInternetService</th>\n",
       "      <td>1.0</td>\n",
       "      <td>-0.231728</td>\n",
       "      <td>-0.231728</td>\n",
       "    </tr>\n",
       "    <tr>\n",
       "      <th>DeviceProtection_NoInternetService</th>\n",
       "      <td>1.0</td>\n",
       "      <td>-0.231728</td>\n",
       "      <td>-0.231728</td>\n",
       "    </tr>\n",
       "    <tr>\n",
       "      <th>TechSupport_NoInternetService</th>\n",
       "      <td>1.0</td>\n",
       "      <td>-0.231728</td>\n",
       "      <td>-0.231728</td>\n",
       "    </tr>\n",
       "    <tr>\n",
       "      <th>StreamingTV_NoInternetService</th>\n",
       "      <td>1.0</td>\n",
       "      <td>-0.231728</td>\n",
       "      <td>-0.231728</td>\n",
       "    </tr>\n",
       "    <tr>\n",
       "      <th>StreamingMovies_NoInternetService</th>\n",
       "      <td>1.0</td>\n",
       "      <td>-0.231728</td>\n",
       "      <td>-0.231728</td>\n",
       "    </tr>\n",
       "  </tbody>\n",
       "</table>\n",
       "</div>"
      ],
      "text/plain": [
       "                                                         0         1         2\n",
       "PhoneService       MultipleLines_NoPhoneService       -1.0  0.019016 -0.019016\n",
       "InternetService_No OnlineSecurity_NoInternetService    1.0 -0.231728 -0.231728\n",
       "                   OnlineBackup_NoInternetService      1.0 -0.231728 -0.231728\n",
       "                   DeviceProtection_NoInternetService  1.0 -0.231728 -0.231728\n",
       "                   TechSupport_NoInternetService       1.0 -0.231728 -0.231728\n",
       "                   StreamingTV_NoInternetService       1.0 -0.231728 -0.231728\n",
       "                   StreamingMovies_NoInternetService   1.0 -0.231728 -0.231728"
      ]
     },
     "metadata": {},
     "output_type": "display_data"
    }
   ],
   "source": [
    "couples = {}\n",
    "drop_c = []\n",
    "for i, r in correlations.iterrows():\n",
    "    for j, x in r.iteritems():\n",
    "        if i != j and np.abs(x) > 0.9 and i not in drop_c and j not in drop_c:\n",
    "            couples[(i, j)] = (correlations.loc[i, j], correlations.loc[i, 'Churn'], correlations.loc[j, 'Churn'])\n",
    "            drop_c.append(j)\n",
    "\n",
    "display(pd.DataFrame(couples).T)"
   ]
  },
  {
   "cell_type": "markdown",
   "metadata": {},
   "source": [
    "# Machine Learning Models \n",
    "\n",
    "## Logistic Regression"
   ]
  },
  {
   "cell_type": "code",
   "execution_count": 58,
   "metadata": {
    "ExecuteTime": {
     "end_time": "2019-03-26T18:35:47.393294Z",
     "start_time": "2019-03-26T18:35:47.033201Z"
    }
   },
   "outputs": [],
   "source": [
    "from sklearn import metrics\n",
    "from sklearn.metrics import roc_auc_score, roc_curve\n",
    "from sklearn.metrics import accuracy_score, confusion_matrix, precision_score, recall_score, f1_score, roc_curve, roc_auc_score\n",
    "from sklearn.linear_model import LogisticRegression\n",
    "from sklearn.preprocessing import RobustScaler, StandardScaler\n",
    "from sklearn import metrics\n",
    "#R 'kernel' to run R chunk\n",
    "%load_ext rpy2.ipython\n",
    "\n",
    "# to run this cell use this commands on your console\n",
    "# --> conda install rpy2 \n",
    "# --> conda install tzlocal"
   ]
  },
  {
   "cell_type": "code",
   "execution_count": null,
   "metadata": {
    "ExecuteTime": {
     "end_time": "2019-03-26T17:18:55.207202Z",
     "start_time": "2019-03-26T17:18:54.884387Z"
    }
   },
   "outputs": [],
   "source": [
    "%%R\n",
    "data <- read.csv(\"Tlc.csv\")[2:42]\n",
    "train <- read.csv('train.csv')\n",
    "test <- read.csv('test.csv')\n",
    "\n",
    "lr <- glm(Churn~., data = train, family = \"binomial\")\n",
    "summary(lr)"
   ]
  },
  {
   "cell_type": "markdown",
   "metadata": {},
   "source": [
    "For the final Logistic Regression we will take only the significative variables"
   ]
  },
  {
   "cell_type": "code",
   "execution_count": null,
   "metadata": {
    "ExecuteTime": {
     "end_time": "2019-03-26T17:19:04.712790Z",
     "start_time": "2019-03-26T17:19:04.674543Z"
    }
   },
   "outputs": [],
   "source": [
    "%%R\n",
    "lr <- glm(Churn~tenure+PaperlessBilling+TotalCharges+MultipleLines_No+Contract_Month.to.month+Contract_OneYear+PaymentMethod_ElectronicCheck, data = train, family = \"binomial\")\n",
    "print(summary(lr))\n",
    "#saveRDS(lr, file = \"lr.rds\") #it could be useful to save the model"
   ]
  },
  {
   "cell_type": "code",
   "execution_count": null,
   "metadata": {
    "ExecuteTime": {
     "end_time": "2019-03-26T17:19:07.081961Z",
     "start_time": "2019-03-26T17:19:07.078466Z"
    }
   },
   "outputs": [],
   "source": [
    "import warnings\n",
    "warnings.filterwarnings('ignore')"
   ]
  },
  {
   "cell_type": "markdown",
   "metadata": {},
   "source": [
    "### Roc Auc result for Logistic Regression in R"
   ]
  },
  {
   "cell_type": "code",
   "execution_count": null,
   "metadata": {
    "ExecuteTime": {
     "end_time": "2019-03-26T17:19:59.474349Z",
     "start_time": "2019-03-26T17:19:53.592331Z"
    },
    "scrolled": false
   },
   "outputs": [],
   "source": [
    "%%R\n",
    "\n",
    "#to run this cell need to install --> $ conda install -c r r-rocr\n",
    "\n",
    "install.packages(\"ROCR\")\n",
    "library(ROCR) \n",
    "pred <- predict(lr, newdata = test, type=\"response\")\n",
    "pred1<-prediction(pred, test$Churn)\n",
    "perf <-performance(pred1, \"tpr\", \"fpr\")\n",
    "plot(perf,main='Test Logistic Regression - ROC Curve')\n",
    "\n",
    "# digit 1 in Selection"
   ]
  },
  {
   "cell_type": "markdown",
   "metadata": {},
   "source": [
    "## Logistic Regression in Python using Pipeline"
   ]
  },
  {
   "cell_type": "code",
   "execution_count": null,
   "metadata": {
    "ExecuteTime": {
     "end_time": "2019-03-26T17:20:02.272823Z",
     "start_time": "2019-03-26T17:20:02.269538Z"
    }
   },
   "outputs": [],
   "source": [
    "from sklearn.pipeline import Pipeline"
   ]
  },
  {
   "cell_type": "code",
   "execution_count": null,
   "metadata": {
    "ExecuteTime": {
     "end_time": "2019-03-26T17:20:03.109449Z",
     "start_time": "2019-03-26T17:20:03.102377Z"
    }
   },
   "outputs": [],
   "source": [
    "lr_model = Pipeline([('scaler', RobustScaler()), ('model', LogisticRegression())])"
   ]
  },
  {
   "cell_type": "code",
   "execution_count": null,
   "metadata": {
    "ExecuteTime": {
     "end_time": "2019-03-26T17:20:04.279708Z",
     "start_time": "2019-03-26T17:20:04.178122Z"
    }
   },
   "outputs": [],
   "source": [
    "lr_model.fit(X.drop(drop_c, 1), y)\n",
    "\n",
    "lr_probs = [y for (x, y) in lr_model.predict_proba(X.drop(drop_c, 1))]\n",
    "lr_probs_test = [y for (x, y) in lr_model.predict_proba(X_test.drop(drop_c, 1))]"
   ]
  },
  {
   "cell_type": "code",
   "execution_count": null,
   "metadata": {
    "ExecuteTime": {
     "end_time": "2019-03-26T17:20:05.128815Z",
     "start_time": "2019-03-26T17:20:05.119421Z"
    }
   },
   "outputs": [],
   "source": [
    "y2_pred = lr_model.predict(X_test.drop(drop_c, 1))\n",
    "print('Accuracy of logistic regression classifier on test set:',accuracy_score(y_test,y2_pred))"
   ]
  },
  {
   "cell_type": "code",
   "execution_count": null,
   "metadata": {
    "ExecuteTime": {
     "end_time": "2019-03-26T17:20:06.578905Z",
     "start_time": "2019-03-26T17:20:06.571868Z"
    }
   },
   "outputs": [],
   "source": [
    "print('\\n'.join([str((x, c)) for (x, c) in zip(X.drop(drop_c, 1).columns, lr_model.named_steps['model'].coef_[0])]))"
   ]
  },
  {
   "cell_type": "markdown",
   "metadata": {},
   "source": [
    "### Roc curve for Logistic Regression in python"
   ]
  },
  {
   "cell_type": "code",
   "execution_count": null,
   "metadata": {
    "ExecuteTime": {
     "end_time": "2019-03-26T17:20:33.427123Z",
     "start_time": "2019-03-26T17:20:33.413916Z"
    }
   },
   "outputs": [],
   "source": [
    "print(roc_auc_score(y, lr_probs))\n",
    "print(roc_auc_score(y_test, lr_probs_test))"
   ]
  },
  {
   "cell_type": "code",
   "execution_count": null,
   "metadata": {
    "ExecuteTime": {
     "end_time": "2019-03-26T17:20:34.518705Z",
     "start_time": "2019-03-26T17:20:34.296363Z"
    }
   },
   "outputs": [],
   "source": [
    "lr_fpr_train, lr_tpr_train, _ = roc_curve(y, lr_probs)\n",
    "lr_fpr, lr_tpr, _ = roc_curve(y_test, lr_probs_test)\n",
    "\n",
    "plt.figure(1, figsize=(10, 7))\n",
    "plt.plot([0, 1], [0, 1], 'k--')\n",
    "plt.plot(lr_fpr_train, lr_tpr_train, label='LogReg - train')\n",
    "plt.plot(lr_fpr, lr_tpr, label='LogReg - test')\n",
    "plt.xlabel('False positive rate')\n",
    "plt.ylabel('True positive rate')\n",
    "plt.title('Logistic Regresion - ROC curve')\n",
    "plt.legend(loc='best')\n",
    "plt.show()"
   ]
  },
  {
   "cell_type": "code",
   "execution_count": null,
   "metadata": {
    "ExecuteTime": {
     "end_time": "2019-03-26T17:20:35.170752Z",
     "start_time": "2019-03-26T17:20:35.165903Z"
    }
   },
   "outputs": [],
   "source": [
    "with open('./lr_model.pkl', 'wb') as f:\n",
    "    pkl.dump(lr_model, f)"
   ]
  },
  {
   "cell_type": "markdown",
   "metadata": {},
   "source": [
    "### Logistic Regression models comparison\n",
    "\n",
    "We want to compare the two models:\n",
    "\n",
    "* one, in R, with only the significative variables and\n",
    "* the second, in Python, with all the variables\n",
    "\n",
    "Depending on the business purpose, the choice between the two model can differ. It specifically depends on the trade off that we want to reach between the two errors 'False Positive' and 'False Negative'.\n"
   ]
  },
  {
   "cell_type": "code",
   "execution_count": null,
   "metadata": {
    "ExecuteTime": {
     "end_time": "2019-03-26T17:20:36.440533Z",
     "start_time": "2019-03-26T17:20:36.433795Z"
    }
   },
   "outputs": [],
   "source": [
    "def pretty_confusion_matrix(y, preds):\n",
    "    return pd.DataFrame(confusion_matrix(y, preds),\n",
    "                        columns=pd.MultiIndex(levels=[['prediction'], ['0', '1']], codes=[[0, 0], [0, 1]]),\n",
    "                        index=pd.MultiIndex(levels=[['target'], ['0', '1']], codes=[[0, 0], [0, 1]]))"
   ]
  },
  {
   "cell_type": "code",
   "execution_count": null,
   "metadata": {
    "ExecuteTime": {
     "end_time": "2019-03-26T17:20:39.420565Z",
     "start_time": "2019-03-26T17:20:38.863997Z"
    }
   },
   "outputs": [],
   "source": [
    "pretty_confusion_matrix(y_test, y2_pred)"
   ]
  },
  {
   "cell_type": "code",
   "execution_count": null,
   "metadata": {
    "ExecuteTime": {
     "end_time": "2019-03-26T17:20:39.658801Z",
     "start_time": "2019-03-26T17:20:39.645606Z"
    }
   },
   "outputs": [],
   "source": [
    "%%R\n",
    "final <- rep(0, times = length(pred))\n",
    "final[pred > 0.5] <- 1\n",
    "# first treshold 0.5 (standard threshold)\n",
    "print('Confusion Matrix with 0.5 threshold')\n",
    "print(addmargins(table(test$Churn, final)))\n",
    "#rsum(final[test$Churn == 0])\n",
    "\n",
    "final <- rep(0, times = length(pred))\n",
    "final[pred > 0.2] <- 1\n",
    "# Due to business request we prefer to minimize the FN error at the cost of the FP error. In words, we prefer to make mistakes \n",
    "# in predicting who is staying, but being almost sure in predicting who is going to churn. \n",
    "# Logistic regression allows us this by changing the threshold of classification from 0.5 to 0.2.\n",
    "print('Confusion Matrix with 0.2 threshold')\n",
    "print(addmargins(table(test$Churn, final)))"
   ]
  },
  {
   "cell_type": "markdown",
   "metadata": {},
   "source": [
    "* In the R result, we have a lower error on the False Negative, so with this model we minimize the FN to 64 on the churn prediction. On the other side, the cost is to have an higher error to the FP.\n",
    "* In the Python result, there is a low general error (224+150) but we have an higher FN error.\n",
    "\n",
    "**It's up to the business to choose which model fits better the company's request.**"
   ]
  },
  {
   "cell_type": "markdown",
   "metadata": {},
   "source": [
    "## Decision Tree"
   ]
  },
  {
   "cell_type": "code",
   "execution_count": null,
   "metadata": {
    "ExecuteTime": {
     "end_time": "2019-03-26T17:20:42.662305Z",
     "start_time": "2019-03-26T17:20:42.638838Z"
    }
   },
   "outputs": [],
   "source": [
    "from sklearn.tree import DecisionTreeClassifier"
   ]
  },
  {
   "cell_type": "code",
   "execution_count": null,
   "metadata": {
    "ExecuteTime": {
     "end_time": "2019-03-26T17:20:43.373173Z",
     "start_time": "2019-03-26T17:20:43.368118Z"
    }
   },
   "outputs": [],
   "source": [
    "dt = DecisionTreeClassifier(random_state=1234)"
   ]
  },
  {
   "cell_type": "markdown",
   "metadata": {},
   "source": [
    "### Hyperparameter tuning"
   ]
  },
  {
   "cell_type": "code",
   "execution_count": null,
   "metadata": {
    "ExecuteTime": {
     "end_time": "2019-03-26T17:20:44.450452Z",
     "start_time": "2019-03-26T17:20:44.446608Z"
    }
   },
   "outputs": [],
   "source": [
    "from sklearn.model_selection import GridSearchCV, RandomizedSearchCV"
   ]
  },
  {
   "cell_type": "code",
   "execution_count": null,
   "metadata": {
    "ExecuteTime": {
     "end_time": "2019-03-26T17:20:48.641288Z",
     "start_time": "2019-03-26T17:20:46.577740Z"
    }
   },
   "outputs": [],
   "source": [
    "params = {'criterion': ['gini', 'entropy'], 'max_depth': np.arange(3, 11, 2), 'min_samples_leaf': [0.1, 0.01, 0.001]}\n",
    "cv_tuning = RandomizedSearchCV(dt, params, random_state=1234, scoring='roc_auc', return_train_score=True, cv=5, n_iter=20)\n",
    "\n",
    "cv_tuning.fit(X, y)"
   ]
  },
  {
   "cell_type": "code",
   "execution_count": null,
   "metadata": {
    "ExecuteTime": {
     "end_time": "2019-03-26T17:20:50.776891Z",
     "start_time": "2019-03-26T17:20:50.771176Z"
    }
   },
   "outputs": [],
   "source": [
    "print('\\n'.join([str((x, y, z)) for (x, y, z) in zip(cv_tuning.cv_results_['params'], cv_tuning.cv_results_['mean_train_score'], cv_tuning.cv_results_['mean_test_score'])]))"
   ]
  },
  {
   "cell_type": "code",
   "execution_count": null,
   "metadata": {
    "ExecuteTime": {
     "end_time": "2019-03-26T17:20:52.333050Z",
     "start_time": "2019-03-26T17:20:51.508631Z"
    }
   },
   "outputs": [],
   "source": [
    "params = {'criterion': ['gini', 'entropy'], 'max_depth': [5,6], 'min_samples_leaf': [0.1, 0.01]}\n",
    "cv_tuning = RandomizedSearchCV(dt, params, random_state=1234, scoring='roc_auc', return_train_score=True, cv=5)\n",
    "\n",
    "cv_tuning.fit(X, y)"
   ]
  },
  {
   "cell_type": "code",
   "execution_count": null,
   "metadata": {
    "ExecuteTime": {
     "end_time": "2019-03-26T17:20:53.160150Z",
     "start_time": "2019-03-26T17:20:53.152470Z"
    }
   },
   "outputs": [],
   "source": [
    "print('\\n'.join([str((x, y, z)) for (x, y, z) in zip(cv_tuning.cv_results_['params'], cv_tuning.cv_results_['mean_train_score'], cv_tuning.cv_results_['mean_test_score'])]))"
   ]
  },
  {
   "cell_type": "markdown",
   "metadata": {},
   "source": [
    "The parameters that in our opinion are not so efficient are \"Gini Criterion\" and \"0.1 min sample leaf\"\n",
    "The best hyperparameters are min_samples_leaf= 0.01, max_depth = 6, criterion = \"entropy\""
   ]
  },
  {
   "cell_type": "code",
   "execution_count": null,
   "metadata": {
    "ExecuteTime": {
     "end_time": "2019-03-26T17:20:54.623906Z",
     "start_time": "2019-03-26T17:20:54.595335Z"
    }
   },
   "outputs": [],
   "source": [
    "dectree = DecisionTreeClassifier(random_state=1234, criterion= \"entropy\", max_depth=6, min_samples_leaf= 0.01)\n",
    "dectree.fit(X,y)"
   ]
  },
  {
   "cell_type": "markdown",
   "metadata": {},
   "source": [
    "### Roc Auc results"
   ]
  },
  {
   "cell_type": "code",
   "execution_count": null,
   "metadata": {
    "ExecuteTime": {
     "end_time": "2019-03-26T17:20:56.252127Z",
     "start_time": "2019-03-26T17:20:56.229436Z"
    }
   },
   "outputs": [],
   "source": [
    "dectree_probs = [y for (x, y) in dectree.predict_proba(X)]\n",
    "dectree_probs_test = [y for (x, y) in dectree.predict_proba(X_test)]\n",
    "\n",
    "print(roc_auc_score(y, dectree_probs))\n",
    "print(roc_auc_score(y_test, dectree_probs_test))"
   ]
  },
  {
   "cell_type": "code",
   "execution_count": null,
   "metadata": {
    "ExecuteTime": {
     "end_time": "2019-03-26T17:20:57.526374Z",
     "start_time": "2019-03-26T17:20:57.319187Z"
    }
   },
   "outputs": [],
   "source": [
    "dt_fpr_train, dt_tpr_train, _ = roc_curve(y, dectree_probs)\n",
    "dt_fpr, dt_tpr, _ = roc_curve(y_test, dectree_probs_test)\n",
    "\n",
    "plt.figure(1, figsize=(10, 7))\n",
    "plt.plot([0, 1], [0, 1], 'k--')\n",
    "plt.plot(dt_fpr_train, dt_tpr_train, label='DTree - train')\n",
    "plt.plot(dt_fpr, dt_tpr, label='DTree - test')\n",
    "plt.xlabel('False positive rate')\n",
    "plt.ylabel('True positive rate')\n",
    "plt.title('Decision Tree - ROC curve')\n",
    "plt.legend(loc='best')\n",
    "plt.show()"
   ]
  },
  {
   "cell_type": "code",
   "execution_count": null,
   "metadata": {
    "ExecuteTime": {
     "end_time": "2019-03-26T17:20:58.365717Z",
     "start_time": "2019-03-26T17:20:58.360046Z"
    }
   },
   "outputs": [],
   "source": [
    "with open('./dectree.pkl', 'wb') as f:\n",
    "    pkl.dump(dectree, f)"
   ]
  },
  {
   "cell_type": "markdown",
   "metadata": {},
   "source": [
    "## Random Forest"
   ]
  },
  {
   "cell_type": "code",
   "execution_count": null,
   "metadata": {
    "ExecuteTime": {
     "end_time": "2019-03-26T17:21:00.054305Z",
     "start_time": "2019-03-26T17:21:00.032723Z"
    }
   },
   "outputs": [],
   "source": [
    "from sklearn.ensemble import RandomForestClassifier\n",
    "\n",
    "rf = RandomForestClassifier(random_state=1234, n_estimators=50)"
   ]
  },
  {
   "cell_type": "markdown",
   "metadata": {},
   "source": [
    "### Hyperparameter tuning"
   ]
  },
  {
   "cell_type": "code",
   "execution_count": null,
   "metadata": {
    "ExecuteTime": {
     "end_time": "2019-03-26T17:21:14.414340Z",
     "start_time": "2019-03-26T17:21:01.413853Z"
    }
   },
   "outputs": [],
   "source": [
    "params = {'criterion': ['gini', 'entropy'], 'max_depth': np.arange(2, 6), 'min_samples_leaf': np.logspace(-1, -3, 3)}\n",
    "cv_tuning = RandomizedSearchCV(rf, params, random_state=1234, scoring='roc_auc', return_train_score=True, cv=5, n_iter=20)\n",
    "\n",
    "cv_tuning.fit(X, y)"
   ]
  },
  {
   "cell_type": "code",
   "execution_count": null,
   "metadata": {
    "ExecuteTime": {
     "end_time": "2019-03-26T17:21:14.947110Z",
     "start_time": "2019-03-26T17:21:14.938449Z"
    }
   },
   "outputs": [],
   "source": [
    "print('\\n'.join([str((x, y, z)) for (x, y, z) in zip(cv_tuning.cv_results_['params'], cv_tuning.cv_results_['mean_train_score'], cv_tuning.cv_results_['mean_test_score'])]))"
   ]
  },
  {
   "cell_type": "code",
   "execution_count": null,
   "metadata": {
    "ExecuteTime": {
     "end_time": "2019-03-26T17:21:23.877855Z",
     "start_time": "2019-03-26T17:21:15.467757Z"
    }
   },
   "outputs": [],
   "source": [
    "rf = RandomForestClassifier(random_state=1234, n_estimators=50, criterion='gini')\n",
    "\n",
    "params = {'max_depth': [3,4], 'min_samples_leaf': [0.01, 0.001], 'max_features': ['sqrt', 0.2, 0.5]}\n",
    "cv_tuning = RandomizedSearchCV(rf, params, random_state=1234, scoring='roc_auc', return_train_score=True, cv=5)\n",
    "\n",
    "cv_tuning.fit(X, y)"
   ]
  },
  {
   "cell_type": "code",
   "execution_count": null,
   "metadata": {
    "ExecuteTime": {
     "end_time": "2019-03-26T17:21:24.438550Z",
     "start_time": "2019-03-26T17:21:24.432912Z"
    }
   },
   "outputs": [],
   "source": [
    "print('\\n'.join([str((x, y, z)) for (x, y, z) in zip(cv_tuning.cv_results_['params'], cv_tuning.cv_results_['mean_train_score'], cv_tuning.cv_results_['mean_test_score'])]))"
   ]
  },
  {
   "cell_type": "code",
   "execution_count": null,
   "metadata": {
    "ExecuteTime": {
     "end_time": "2019-03-26T17:21:31.530156Z",
     "start_time": "2019-03-26T17:21:24.962164Z"
    }
   },
   "outputs": [],
   "source": [
    "rf = RandomForestClassifier(random_state=1234, n_estimators=50, criterion='gini', max_depth=3)\n",
    "\n",
    "params = {'min_samples_leaf': [0.01, 0.001], 'max_features': [0.2, 0.3, 0.4, 0.5]}\n",
    "cv_tuning = GridSearchCV(rf, params, scoring='roc_auc', return_train_score=True, cv=5)\n",
    "\n",
    "cv_tuning.fit(X, y)"
   ]
  },
  {
   "cell_type": "code",
   "execution_count": null,
   "metadata": {
    "ExecuteTime": {
     "end_time": "2019-03-26T17:21:32.179044Z",
     "start_time": "2019-03-26T17:21:32.172168Z"
    }
   },
   "outputs": [],
   "source": [
    "print('\\n'.join([str((x, y, z)) for (x, y, z) in zip(cv_tuning.cv_results_['params'], cv_tuning.cv_results_['mean_train_score'], cv_tuning.cv_results_['mean_test_score'])]))"
   ]
  },
  {
   "cell_type": "code",
   "execution_count": null,
   "metadata": {
    "ExecuteTime": {
     "end_time": "2019-03-26T17:21:34.037056Z",
     "start_time": "2019-03-26T17:21:32.758883Z"
    }
   },
   "outputs": [],
   "source": [
    "rf = RandomForestClassifier(random_state=1234, n_estimators=50, criterion='gini', max_depth=4, min_samples_leaf=0.01, max_features=0.2, warm_start=True)\n",
    "\n",
    "for i in range(5):\n",
    "    rf.fit(X, y)\n",
    "    probs = [y for (x, y) in rf.predict_proba(X)]\n",
    "    probs_test = [y for (x, y) in rf.predict_proba(X_test)]\n",
    "    print(rf.n_estimators, roc_auc_score(y, probs), roc_auc_score(y_test, probs_test))\n",
    "    rf.n_estimators += 50"
   ]
  },
  {
   "cell_type": "code",
   "execution_count": null,
   "metadata": {
    "ExecuteTime": {
     "end_time": "2019-03-26T17:21:37.379174Z",
     "start_time": "2019-03-26T17:21:34.576358Z"
    }
   },
   "outputs": [],
   "source": [
    "rf = RandomForestClassifier(random_state=1234, n_estimators=150, criterion='gini', max_depth=5, min_samples_leaf=0.001, max_features=0.4, warm_start=True)\n",
    "for i in range(5):\n",
    "    rf.fit(X, y)\n",
    "    probs = [y for (x, y) in rf.predict_proba(X)]\n",
    "    probs_test = [y for (x, y) in rf.predict_proba(X_test)]\n",
    "    print(rf.n_estimators, roc_auc_score(y, probs), roc_auc_score(y_test, probs_test))\n",
    "    rf.n_estimators += 50\n",
    "rf.fit(X, y)"
   ]
  },
  {
   "cell_type": "code",
   "execution_count": null,
   "metadata": {
    "ExecuteTime": {
     "end_time": "2019-03-26T17:21:38.184047Z",
     "start_time": "2019-03-26T17:21:37.897016Z"
    }
   },
   "outputs": [],
   "source": [
    "rf_probs = [y for (x, y) in rf.predict_proba(X)]\n",
    "rf_probs_test = [y for (x, y) in rf.predict_proba(X_test)]\n",
    "\n",
    "print(roc_auc_score(y, rf_probs))\n",
    "print(roc_auc_score(y_test, rf_probs_test))"
   ]
  },
  {
   "cell_type": "code",
   "execution_count": null,
   "metadata": {
    "ExecuteTime": {
     "end_time": "2019-03-26T17:21:38.738676Z",
     "start_time": "2019-03-26T17:21:38.703421Z"
    }
   },
   "outputs": [],
   "source": [
    "feats = [(x, y) for x, y in zip(X.columns, rf.feature_importances_) if y > 0]\n",
    "sorted(feats, reverse=True, key=lambda x: x[1])"
   ]
  },
  {
   "cell_type": "markdown",
   "metadata": {},
   "source": [
    "### Features importance"
   ]
  },
  {
   "cell_type": "code",
   "execution_count": null,
   "metadata": {
    "ExecuteTime": {
     "end_time": "2019-03-26T17:21:49.628014Z",
     "start_time": "2019-03-26T17:21:48.367678Z"
    }
   },
   "outputs": [],
   "source": [
    "params = {'random_state': 1234,'n_estimators': 150, 'max_depth': 5, 'criterion' :'gini',\n",
    "          'min_samples_leaf' :0.001, 'max_features':0.4}\n",
    "\n",
    "# Fit RandomForest Classifier\n",
    "clf = RandomForestClassifier(**params)\n",
    "clf = clf.fit(X, y)\n",
    "\n",
    "# Plot features importances\n",
    "imp = pd.Series(data=clf.feature_importances_, index=X.columns).sort_values(ascending=False)\n",
    "plt.figure(figsize=(10,12))\n",
    "plt.title(\"Feature importance\")\n",
    "ax = sns.barplot(y=imp.index, x=imp.values, palette=\"gist_rainbow\", orient='h')"
   ]
  },
  {
   "cell_type": "markdown",
   "metadata": {},
   "source": [
    "### Roc Auc results"
   ]
  },
  {
   "cell_type": "code",
   "execution_count": null,
   "metadata": {
    "ExecuteTime": {
     "end_time": "2019-03-26T17:22:09.420524Z",
     "start_time": "2019-03-26T17:22:09.206034Z"
    }
   },
   "outputs": [],
   "source": [
    "rf_fpr_train, rf_tpr_train, _ = roc_curve(y, rf_probs)\n",
    "rf_fpr, rf_tpr, _ = roc_curve(y_test, rf_probs_test)\n",
    "\n",
    "plt.figure(1, figsize=(10, 7))\n",
    "plt.plot([0, 1], [0, 1], 'k--')\n",
    "plt.plot(rf_fpr_train, rf_tpr_train, label='RForest - train')\n",
    "plt.plot(rf_fpr, rf_tpr, label='RForest - test')\n",
    "plt.xlabel('False positive rate')\n",
    "plt.ylabel('True positive rate')\n",
    "plt.title('Random Forest - ROC curve')\n",
    "plt.legend(loc='best')\n",
    "plt.show()"
   ]
  },
  {
   "cell_type": "code",
   "execution_count": null,
   "metadata": {
    "ExecuteTime": {
     "end_time": "2019-03-26T17:22:10.656048Z",
     "start_time": "2019-03-26T17:22:10.626831Z"
    }
   },
   "outputs": [],
   "source": [
    "with open('./rf_model.pkl', 'wb') as f:\n",
    "    pkl.dump(rf, f)"
   ]
  },
  {
   "cell_type": "markdown",
   "metadata": {},
   "source": [
    "## Gradient Boosting\n",
    "https://scikit-learn.org/stable/modules/generated/sklearn.ensemble.GradientBoostingClassifier.html\n",
    "\n",
    "- Same for the tree specific hyperparameters\n",
    "- **n_estimators, max_features**\n",
    "- **learning_rate:** shrinking rate of each tree's contribution. You can do a trade-off between this and # of estimators\n",
    "- **subsample:** percentage of records to use for each estimator's train phase; this is chosen by random subsampling"
   ]
  },
  {
   "cell_type": "code",
   "execution_count": null,
   "metadata": {
    "ExecuteTime": {
     "end_time": "2019-03-26T17:22:12.197728Z",
     "start_time": "2019-03-26T17:22:12.194510Z"
    }
   },
   "outputs": [],
   "source": [
    "from sklearn.ensemble import GradientBoostingClassifier\n",
    "\n",
    "gb = GradientBoostingClassifier(random_state=1234, n_estimators=50)"
   ]
  },
  {
   "cell_type": "code",
   "execution_count": null,
   "metadata": {
    "ExecuteTime": {
     "end_time": "2019-03-26T17:22:13.201454Z",
     "start_time": "2019-03-26T17:22:13.196352Z"
    }
   },
   "outputs": [],
   "source": [
    "\n",
    "# This is a useful function to print the results\n",
    "\n",
    "def print_cv(cv):\n",
    "  print('\\n'.join([str((x, y, z)) for (x, y, z) in zip(cv.cv_results_['params'], cv.cv_results_['mean_train_score'], cv.cv_results_['mean_test_score'])]))"
   ]
  },
  {
   "cell_type": "markdown",
   "metadata": {},
   "source": [
    "### Hyperparameter tuning"
   ]
  },
  {
   "cell_type": "code",
   "execution_count": null,
   "metadata": {
    "ExecuteTime": {
     "end_time": "2019-03-26T17:22:22.508274Z",
     "start_time": "2019-03-26T17:22:15.225733Z"
    }
   },
   "outputs": [],
   "source": [
    "params = {'learning_rate': np.logspace(-1, -4, 4)}\n",
    "cv_tuning = GridSearchCV(gb, params, scoring='roc_auc', return_train_score=True, cv=5)\n",
    "\n",
    "cv_tuning.fit(X, y)\n",
    "\n",
    "print_cv(cv_tuning)"
   ]
  },
  {
   "cell_type": "code",
   "execution_count": null,
   "metadata": {
    "ExecuteTime": {
     "end_time": "2019-03-26T17:22:36.112812Z",
     "start_time": "2019-03-26T17:22:23.091806Z"
    }
   },
   "outputs": [],
   "source": [
    "gb = GradientBoostingClassifier(random_state=1234, n_estimators=50, learning_rate=0.01, max_depth=2)\n",
    "\n",
    "params = {'min_samples_leaf': np.logspace(-1, -2, 4), 'max_features': ['sqrt', 0.2, 0.3, 0.5, 0.7, 0.8]}\n",
    "cv_tuning = RandomizedSearchCV(gb, params, random_state=1234, scoring='roc_auc', return_train_score=True, cv=5, n_iter=20)\n",
    "\n",
    "cv_tuning.fit(X, y)\n",
    "\n",
    "print_cv(cv_tuning)\n"
   ]
  },
  {
   "cell_type": "code",
   "execution_count": null,
   "metadata": {
    "ExecuteTime": {
     "end_time": "2019-03-26T17:22:49.468761Z",
     "start_time": "2019-03-26T17:22:36.750707Z"
    }
   },
   "outputs": [],
   "source": [
    "params = {'min_samples_leaf': [0.1, 0.01], 'max_features': ['sqrt', 0.2, 0.3, 0.4], 'subsample': [0.4, 0.8, 1]}\n",
    "cv_tuning = RandomizedSearchCV(gb, params, scoring='roc_auc', return_train_score=True, cv=5, random_state=1234, n_iter=20)\n",
    "\n",
    "cv_tuning.fit(X, y)\n",
    "\n",
    "print_cv(cv_tuning)"
   ]
  },
  {
   "cell_type": "code",
   "execution_count": null,
   "metadata": {
    "ExecuteTime": {
     "end_time": "2019-03-26T17:23:02.246511Z",
     "start_time": "2019-03-26T17:22:50.334024Z"
    }
   },
   "outputs": [],
   "source": [
    "gb = GradientBoostingClassifier(random_state=1234, max_depth=2, subsample=0.8, min_samples_leaf=0.01, max_features=0.3)\n",
    "\n",
    "params = [{'learning_rate': [0.01], 'n_estimators': [50, 100, 150]}, {'learning_rate': [0.01], 'n_estimators': [100, 200, 250]}]\n",
    "cv_tuning = GridSearchCV(gb, params, scoring='roc_auc', return_train_score=True, cv=5)\n",
    "\n",
    "cv_tuning.fit(X, y)\n",
    "\n",
    "print_cv(cv_tuning)"
   ]
  },
  {
   "cell_type": "code",
   "execution_count": null,
   "metadata": {
    "ExecuteTime": {
     "end_time": "2019-03-26T17:23:03.295653Z",
     "start_time": "2019-03-26T17:23:02.866212Z"
    }
   },
   "outputs": [],
   "source": [
    "gb = GradientBoostingClassifier(random_state=1234, max_depth=2, subsample=0.8, min_samples_leaf=0.01, max_features=0.3, learning_rate=0.01, n_estimators=150)\n",
    "\n",
    "gb.fit(X, y)\n"
   ]
  },
  {
   "cell_type": "markdown",
   "metadata": {},
   "source": [
    "### ROC-AUC Results"
   ]
  },
  {
   "cell_type": "code",
   "execution_count": null,
   "metadata": {
    "ExecuteTime": {
     "end_time": "2019-03-26T17:23:03.873835Z",
     "start_time": "2019-03-26T17:23:03.838699Z"
    }
   },
   "outputs": [],
   "source": [
    "gb_probs = [y for (x, y) in gb.predict_proba(X)]\n",
    "gb_probs_test = [y for (x, y) in gb.predict_proba(X_test)]\n",
    "\n",
    "print(roc_auc_score(y, gb_probs))\n",
    "print(roc_auc_score(y_test, gb_probs_test))"
   ]
  },
  {
   "cell_type": "code",
   "execution_count": null,
   "metadata": {
    "ExecuteTime": {
     "end_time": "2019-03-26T17:23:04.823515Z",
     "start_time": "2019-03-26T17:23:04.537968Z"
    }
   },
   "outputs": [],
   "source": [
    "gb_fpr_train, gb_tpr_train, _ = roc_curve(y, gb_probs)\n",
    "gb_fpr, gb_tpr, _ = roc_curve(y_test, gb_probs_test)\n",
    "\n",
    "plt.figure(1, figsize=(10, 7))\n",
    "plt.plot([0, 1], [0, 1], 'k--')\n",
    "plt.plot(gb_fpr_train, gb_tpr_train, label='GBoosting - train')\n",
    "plt.plot(gb_fpr, gb_tpr, label='GBoosting - test')\n",
    "plt.xlabel('False positive rate')\n",
    "plt.ylabel('True positive rate')\n",
    "plt.title('Gradient Boosting - ROC curve')\n",
    "plt.legend(loc='best')\n",
    "plt.show()"
   ]
  },
  {
   "cell_type": "code",
   "execution_count": null,
   "metadata": {
    "ExecuteTime": {
     "end_time": "2019-03-26T17:23:05.802531Z",
     "start_time": "2019-03-26T17:23:05.792559Z"
    }
   },
   "outputs": [],
   "source": [
    "with open('./gb_model.pkl', 'wb') as f:\n",
    "  pkl.dump(gb, f)"
   ]
  },
  {
   "cell_type": "markdown",
   "metadata": {},
   "source": [
    "## Neural Network"
   ]
  },
  {
   "cell_type": "code",
   "execution_count": null,
   "metadata": {
    "ExecuteTime": {
     "end_time": "2019-03-26T17:23:16.755494Z",
     "start_time": "2019-03-26T17:23:16.746707Z"
    }
   },
   "outputs": [],
   "source": [
    "from sklearn.neural_network import MLPClassifier\n",
    "\n",
    "nn = MLPClassifier(random_state=1234, max_iter=50)"
   ]
  },
  {
   "cell_type": "code",
   "execution_count": null,
   "metadata": {
    "ExecuteTime": {
     "end_time": "2019-03-26T17:23:18.044490Z",
     "start_time": "2019-03-26T17:23:18.039960Z"
    }
   },
   "outputs": [],
   "source": [
    "import warnings\n",
    "\n",
    "warnings.filterwarnings('ignore')"
   ]
  },
  {
   "cell_type": "markdown",
   "metadata": {},
   "source": [
    "### Hyperparameter tuning"
   ]
  },
  {
   "cell_type": "code",
   "execution_count": null,
   "metadata": {
    "ExecuteTime": {
     "start_time": "2019-03-26T17:23:19.762Z"
    }
   },
   "outputs": [],
   "source": [
    "params = {'activation': ['tanh', 'relu',\"logistic\"], 'learning_rate_init': np.logspace(-1, -4, 4), \n",
    "          'batch_size': [16, 32, 64, 128]}\n",
    "cv_tuning = RandomizedSearchCV(nn, params, random_state=1234, scoring='roc_auc', \n",
    "                               return_train_score=True, cv=5, n_iter=20)\n",
    "\n",
    "cv_tuning.fit(X, y)\n",
    "\n",
    "print_cv(cv_tuning)"
   ]
  },
  {
   "cell_type": "code",
   "execution_count": null,
   "metadata": {
    "ExecuteTime": {
     "start_time": "2019-03-26T17:24:06.468Z"
    }
   },
   "outputs": [],
   "source": [
    "nn = MLPClassifier(random_state=1234, activation='logistic', max_iter=50, learning_rate_init=0.001)\n",
    "params = {'batch_size': [64,128,256], 'hidden_layer_sizes': np.arange(20, 101, 20)}\n",
    "cv_tuning = RandomizedSearchCV(nn, params, random_state=1234, scoring='roc_auc', return_train_score=True, cv=5, n_iter=10)\n",
    "\n",
    "cv_tuning.fit(X, y)\n",
    "\n",
    "print_cv(cv_tuning)"
   ]
  },
  {
   "cell_type": "code",
   "execution_count": null,
   "metadata": {
    "ExecuteTime": {
     "start_time": "2019-03-26T17:24:07.372Z"
    }
   },
   "outputs": [],
   "source": [
    "params = {'batch_size': [128,256], 'hidden_layer_sizes': [20, 40, 80]}\n",
    "cv_tuning = GridSearchCV(nn, params, scoring='roc_auc', return_train_score=True, cv=5)\n",
    "\n",
    "cv_tuning.fit(X, y)\n",
    "\n",
    "print_cv(cv_tuning)"
   ]
  },
  {
   "cell_type": "code",
   "execution_count": null,
   "metadata": {
    "ExecuteTime": {
     "start_time": "2019-03-26T17:24:09.820Z"
    }
   },
   "outputs": [],
   "source": [
    "nn = MLPClassifier(random_state=1234, activation='logistic', max_iter=500, \n",
    "                   learning_rate_init=0.001, batch_size=256, hidden_layer_sizes=(20,), \n",
    "                   verbose=True, n_iter_no_change=100, tol=1e-5)\n",
    "\n",
    "nn.fit(X, y)"
   ]
  },
  {
   "cell_type": "markdown",
   "metadata": {},
   "source": [
    "### ROC-AUC Results"
   ]
  },
  {
   "cell_type": "code",
   "execution_count": null,
   "metadata": {},
   "outputs": [],
   "source": [
    "nn_probs = [y for (x, y) in nn.predict_proba(X)]\n",
    "nn_probs_test = [y for (x, y) in nn.predict_proba(X_test)]\n",
    "\n",
    "print(roc_auc_score(y, nn_probs))\n",
    "print(roc_auc_score(y_test, nn_probs_test))"
   ]
  },
  {
   "cell_type": "code",
   "execution_count": null,
   "metadata": {},
   "outputs": [],
   "source": [
    "nn_fpr_train, nn_tpr_train, _ = roc_curve(y, nn_probs)\n",
    "nn_fpr, nn_tpr, _ = roc_curve(y_test, nn_probs_test)\n",
    "\n",
    "plt.figure(1, figsize=(10, 7))\n",
    "plt.plot([0, 1], [0, 1], 'k--')\n",
    "plt.plot(nn_fpr_train, nn_tpr_train, label='NNetwork - train')\n",
    "plt.plot(nn_fpr, nn_tpr, label='NNetwork - test')\n",
    "plt.xlabel('False positive rate')\n",
    "plt.ylabel('True positive rate')\n",
    "plt.title('Neural Network - ROC curve')\n",
    "plt.legend(loc='best')\n",
    "plt.show()"
   ]
  },
  {
   "cell_type": "code",
   "execution_count": null,
   "metadata": {},
   "outputs": [],
   "source": [
    "with open('./nn_model.pkl', 'wb') as f:\n",
    "    pkl.dump(nn, f)\n",
    "    # save the model in the file"
   ]
  },
  {
   "cell_type": "markdown",
   "metadata": {},
   "source": [
    "## Neural Network with Keras"
   ]
  },
  {
   "cell_type": "code",
   "execution_count": 35,
   "metadata": {
    "ExecuteTime": {
     "end_time": "2019-03-26T18:23:00.766039Z",
     "start_time": "2019-03-26T18:22:59.169091Z"
    }
   },
   "outputs": [
    {
     "name": "stderr",
     "output_type": "stream",
     "text": [
      "Using TensorFlow backend.\n"
     ]
    }
   ],
   "source": [
    "import pandas as pd\n",
    "import numpy as np\n",
    "import matplotlib.pyplot as plt\n",
    "import pickle as pkl\n",
    "from sklearn.model_selection import StratifiedShuffleSplit \n",
    "from sklearn.model_selection import RandomizedSearchCV\n",
    "\n",
    "from keras.wrappers.scikit_learn import KerasRegressor\n",
    "from keras.models import Sequential\n",
    "from keras.layers import Dense, Dropout\n",
    "from keras.layers import advanced_activations\n",
    "from keras.optimizers import Adam\n",
    "import keras\n",
    "\n",
    "Y = tlc_db1[\"Churn\"]\n",
    "X = tlc_db1.drop(columns=['Churn'])\n",
    "\n",
    "x_train = train.drop(columns=['Churn'])\n",
    "y_train = train[\"Churn\"]\n",
    "x_test = test.drop(columns=['Churn'])\n",
    "y_test = test[\"Churn\"]"
   ]
  },
  {
   "cell_type": "markdown",
   "metadata": {},
   "source": [
    "### Model definition"
   ]
  },
  {
   "cell_type": "code",
   "execution_count": null,
   "metadata": {
    "ExecuteTime": {
     "end_time": "2019-03-26T17:26:47.159630Z",
     "start_time": "2019-03-26T17:26:47.151136Z"
    }
   },
   "outputs": [],
   "source": [
    "def create_model(n_hidden_1 = 30, n_hidden_2 = 10, activation_fun = 'relu', lr = 0.01):\n",
    "    print(\"lr \" + str(lr) + \"| n_hidden_1 \" + str(n_hidden_1) + \"| n_hidden_2 \" + str(n_hidden_2) + \" | activation_fun \" + str(activation_fun)) \n",
    "    model = Sequential()\n",
    "    model.add(Dense(num_input, input_dim=num_input,activation=activation_fun))\n",
    "    model.add(Dense(n_hidden_1,activation=activation_fun))\n",
    "    model.add(Dense(10,activation=activation_fun))\n",
    "    model.add(Dense(1,activation=activation_fun))\n",
    "    model.add(Dense(num_classes,activation='sigmoid'))\n",
    "    adam = Adam(lr=lr)\n",
    "    model.compile(loss='binary_crossentropy', optimizer=adam,metrics=metrics)\n",
    "    return model\n",
    "\n",
    "model = KerasRegressor(build_fn=create_model, batch_size=128, epochs=10, verbose=1)"
   ]
  },
  {
   "cell_type": "markdown",
   "metadata": {},
   "source": [
    "### Hyperparameters optimization by RandomizedSearchCV"
   ]
  },
  {
   "cell_type": "code",
   "execution_count": null,
   "metadata": {
    "ExecuteTime": {
     "end_time": "2019-03-26T17:39:05.949587Z",
     "start_time": "2019-03-26T17:33:35.699844Z"
    },
    "scrolled": false
   },
   "outputs": [],
   "source": [
    "# Parameters\n",
    "metrics = ['accuracy']\n",
    "batch_size = 128\n",
    "lr = [0.001, 0.003, 0.005, 0.007, 0.01]\n",
    "epochs = [10, 20, 30, 40]\n",
    "num_input = x_train.shape[1]\n",
    "n_hidden_1 = [5, 10, 20, 50, 100] \n",
    "n_hidden_2 = [5, 10, 30, 40]\n",
    "num_classes = 1\n",
    "param_dist = dict(n_hidden_1=n_hidden_1, n_hidden_2=n_hidden_2, epochs=epochs, lr=lr)\n",
    "random_search = RandomizedSearchCV(estimator=model, param_distributions=param_dist, n_iter=10, n_jobs=4, cv=5)\n",
    "random_search.fit(X, Y)\n",
    "\n",
    "# Show the results\n",
    "print(\"Best: %f using %s\" % (random_search.best_score_, random_search.best_params_))\n",
    "means = random_search.cv_results_['mean_test_score']\n",
    "stds = random_search.cv_results_['std_test_score']\n",
    "params = random_search.cv_results_['params']\n",
    "for mean, stdev, param in zip(means, stds, params):\n",
    "    print(\"%f (%f) with: %r\" % (mean, stdev, param))"
   ]
  },
  {
   "cell_type": "markdown",
   "metadata": {},
   "source": [
    "### Best hyperparameters\n",
    "\n",
    "RESULTS FROM RANDOM SEARCH:\n",
    "Best: -0.546879 using {'n_hidden_2': 5, 'n_hidden_1': 5, 'lr': 0.005, 'epochs': 40}\n",
    "\n",
    "-0.620885 (0.001770) with: {'n_hidden_2': 10, 'n_hidden_1': 100, 'lr': 0.001, 'epochs': 10}\n",
    "\n",
    "-0.578701 (0.004711) with: {'n_hidden_2': 5, 'n_hidden_1': 20, 'lr': 0.007, 'epochs': 10}\n",
    "\n",
    "-0.567364 (0.024944) with: {'n_hidden_2': 10, 'n_hidden_1': 20, 'lr': 0.001, 'epochs': 40}\n",
    "\n",
    "-0.553965 (0.050939) with: {'n_hidden_2': 10, 'n_hidden_1': 5, 'lr': 0.007, 'epochs': 40}\n",
    "\n",
    "-0.578589 (0.004853) with: {'n_hidden_2': 5, 'n_hidden_1': 20, 'lr': 0.007, 'epochs': 20}\n",
    "\n",
    "-0.551147 (0.052857) with: {'n_hidden_2': 40, 'n_hidden_1': 20, 'lr': 0.003, 'epochs': 40}\n",
    "\n",
    "-0.578780 (0.004651) with: {'n_hidden_2': 10, 'n_hidden_1': 100, 'lr': 0.005, 'epochs': 10}\n",
    "\n",
    "-0.581978 (0.003810) with: {'n_hidden_2': 5, 'n_hidden_1': 50, 'lr': 0.003, 'epochs': 10}\n",
    "\n",
    "-0.578667 (0.004883) with: {'n_hidden_2': 5, 'n_hidden_1': 20, 'lr': 0.007, 'epochs': 30}\n",
    "\n",
    "-0.546879 (0.067044) with: {'n_hidden_2': 5, 'n_hidden_1': 5, 'lr': 0.005, 'epochs': 40}\n"
   ]
  },
  {
   "cell_type": "code",
   "execution_count": null,
   "metadata": {
    "ExecuteTime": {
     "end_time": "2019-03-26T17:40:51.269329Z",
     "start_time": "2019-03-26T17:40:34.694713Z"
    }
   },
   "outputs": [],
   "source": [
    "model = create_model(n_hidden_1=5, n_hidden_2=5, lr= 0.005)\n",
    "model.fit(x_train, y_train, batch_size=128, epochs=40)\n",
    "score = model.evaluate(x_test, y_test, batch_size=128)"
   ]
  },
  {
   "cell_type": "code",
   "execution_count": null,
   "metadata": {
    "ExecuteTime": {
     "end_time": "2019-03-26T17:41:07.718845Z",
     "start_time": "2019-03-26T17:41:07.712450Z"
    }
   },
   "outputs": [],
   "source": [
    "score"
   ]
  },
  {
   "cell_type": "markdown",
   "metadata": {},
   "source": [
    "The final score (precision) is 0.7348"
   ]
  },
  {
   "cell_type": "markdown",
   "metadata": {},
   "source": [
    "## Support vector machines"
   ]
  },
  {
   "cell_type": "markdown",
   "metadata": {},
   "source": [
    "https://scikit-learn.org/stable/modules/generated/sklearn.svm.SVC.html#sklearn.svm.SVC.score\n",
    "\n",
    "- Effective in high dimensional spaces\n",
    "- Not optimal for big dataset because storing the kernel matrix requires memory that scales quadratically with the number of data points.\n",
    "- In this case it is possible to use the radial basis function and the sigmoid function as kernels"
   ]
  },
  {
   "cell_type": "code",
   "execution_count": 36,
   "metadata": {
    "ExecuteTime": {
     "end_time": "2019-03-26T18:23:15.479030Z",
     "start_time": "2019-03-26T18:23:06.747749Z"
    }
   },
   "outputs": [
    {
     "data": {
      "text/plain": [
       "0.7643384440658717"
      ]
     },
     "execution_count": 36,
     "metadata": {},
     "output_type": "execute_result"
    }
   ],
   "source": [
    "from sklearn import svm\n",
    "svm_rbf = svm.SVC(probability=True, kernel=\"rbf\", gamma='auto')\n",
    "svm_rbf.fit(x_train, y_train)\n",
    "svm_rbf.score(x_test, y_test)"
   ]
  },
  {
   "cell_type": "code",
   "execution_count": 37,
   "metadata": {
    "ExecuteTime": {
     "end_time": "2019-03-26T18:23:21.287888Z",
     "start_time": "2019-03-26T18:23:17.776130Z"
    }
   },
   "outputs": [
    {
     "data": {
      "text/plain": [
       "0.7348097671777399"
      ]
     },
     "execution_count": 37,
     "metadata": {},
     "output_type": "execute_result"
    }
   ],
   "source": [
    "svm_sigmoid = svm.SVC(probability=True, kernel=\"sigmoid\", gamma='auto')\n",
    "svm_sigmoid.fit(x_train, y_train)\n",
    "svm_sigmoid.score(x_test, y_test)"
   ]
  },
  {
   "cell_type": "markdown",
   "metadata": {},
   "source": [
    "We decided to use the rbf kernel so we have to tune the Penalty parameter C of the error term usgin a Grid Search"
   ]
  },
  {
   "cell_type": "code",
   "execution_count": 39,
   "metadata": {
    "ExecuteTime": {
     "end_time": "2019-03-26T18:24:28.807367Z",
     "start_time": "2019-03-26T18:24:28.803057Z"
    }
   },
   "outputs": [],
   "source": [
    "from sklearn.model_selection import GridSearchCV\n",
    "Cs = [0.001, 0.01, 0.1, 1, 10]\n",
    "param_grid = {'C': Cs}\n",
    "    \n",
    "cv_tuning = GridSearchCV(svm_rbf, param_grid, scoring='roc_auc', return_train_score=True, cv=5, n_jobs=4)\n",
    "cv_tuning.fit(x_train, y_train)"
   ]
  },
  {
   "cell_type": "code",
   "execution_count": 42,
   "metadata": {
    "ExecuteTime": {
     "end_time": "2019-03-26T18:27:40.656619Z",
     "start_time": "2019-03-26T18:27:40.650440Z"
    }
   },
   "outputs": [
    {
     "name": "stdout",
     "output_type": "stream",
     "text": [
      "Best: 0.708829 using {'C': 0.1}\n",
      "0.670469 (0.023719) with: {'C': 0.001}\n",
      "0.707994 (0.028613) with: {'C': 0.01}\n",
      "0.708829 (0.029116) with: {'C': 0.1}\n",
      "0.708727 (0.028625) with: {'C': 1}\n",
      "0.696701 (0.027620) with: {'C': 10}\n"
     ]
    }
   ],
   "source": [
    "print(\"Best: %f using %s\" % (cv_tuning.best_score_, cv_tuning.best_params_))\n",
    "means = cv_tuning.cv_results_['mean_test_score']\n",
    "stds = cv_tuning.cv_results_['std_test_score']\n",
    "params = cv_tuning.cv_results_['params']\n",
    "for mean, stdev, param in zip(means, stds, params):\n",
    "    print(\"%f (%f) with: %r\" % (mean, stdev, param))"
   ]
  },
  {
   "cell_type": "code",
   "execution_count": 61,
   "metadata": {
    "ExecuteTime": {
     "end_time": "2019-03-26T18:37:28.397281Z",
     "start_time": "2019-03-26T18:37:21.728897Z"
    }
   },
   "outputs": [
    {
     "data": {
      "text/plain": [
       "0.7484383872799546"
      ]
     },
     "execution_count": 61,
     "metadata": {},
     "output_type": "execute_result"
    }
   ],
   "source": [
    "svm_rbf = svm.SVC(probability=True, kernel=\"rbf\", gamma='auto', C=0.1)\n",
    "svm_rbf.fit(X.drop(drop_c, 1), y)\n",
    "svm_rbf.score(X_test.drop(drop_c, 1), y_test)"
   ]
  },
  {
   "cell_type": "markdown",
   "metadata": {},
   "source": [
    "# Evaluation of all the models"
   ]
  },
  {
   "cell_type": "code",
   "execution_count": null,
   "metadata": {},
   "outputs": [],
   "source": [
    "with open('./lr_model.pkl', 'rb') as f:\n",
    "    lr = pkl.load(f)\n",
    "\n",
    "with open('./dectree.pkl', 'rb') as f:\n",
    "    dt = pkl.load(f)\n",
    "\n",
    "with open('./rf_model.pkl', 'rb') as f:\n",
    "    rf = pkl.load(f)\n",
    "\n",
    "with open('./gb_model.pkl', 'rb') as f:\n",
    "    gb = pkl.load(f)\n",
    "\n",
    "with open('./nn_model.pkl', 'rb') as f:\n",
    "    nn = pkl.load(f)"
   ]
  },
  {
   "cell_type": "markdown",
   "metadata": {},
   "source": [
    "## Model Comparison"
   ]
  },
  {
   "cell_type": "code",
   "execution_count": null,
   "metadata": {},
   "outputs": [],
   "source": [
    "lr_preds = lr.predict(X_test.drop(drop_c, 1))\n",
    "lr_probs_train = [y for (x, y) in lr.predict_proba(X.drop(drop_c, 1))]\n",
    "lr_probs = [y for (x, y) in lr.predict_proba(X_test.drop(drop_c, 1))]\n",
    "lr_auc_train = roc_auc_score(y, lr_probs_train)\n",
    "lr_auc = roc_auc_score(y_test, lr_probs)\n",
    "\n",
    "dt_preds = dectree.predict(X_test)\n",
    "dt_probs_train = [y for (x, y) in dectree.predict_proba(X)]\n",
    "dt_probs = [y for (x, y) in dectree.predict_proba(X_test)]\n",
    "dt_auc_train = roc_auc_score(y, dt_probs_train)\n",
    "dt_auc = roc_auc_score(y_test, dt_probs)\n",
    "\n",
    "rf_preds = rf.predict(X_test)\n",
    "rf_probs_train = [y for (x, y) in rf.predict_proba(X)]\n",
    "rf_probs = [y for (x, y) in rf.predict_proba(X_test)]\n",
    "rf_auc_train = roc_auc_score(y, rf_probs_train)\n",
    "rf_auc = roc_auc_score(y_test, rf_probs)\n",
    "\n",
    "gb_preds = gb.predict(X_test)\n",
    "gb_probs_train = [y for (x, y) in gb.predict_proba(X)]\n",
    "gb_probs = [y for (x, y) in gb.predict_proba(X_test)]\n",
    "gb_auc_train = roc_auc_score(y, gb_probs_train)\n",
    "gb_auc = roc_auc_score(y_test, gb_probs)\n",
    "\n",
    "nn_preds = nn.predict(X_test)\n",
    "nn_probs_train = [y for (x, y) in nn.predict_proba(X)]\n",
    "nn_probs = [y for (x, y) in nn.predict_proba(X_test)]\n",
    "nn_auc_train = roc_auc_score(y, nn_probs_train)\n",
    "nn_auc = roc_auc_score(y_test, nn_probs)\n",
    "\n",
    "svm_preds = svm_rbf.predict(X_test.drop(drop_c, 1))\n",
    "svm_probs_train = [y for (x, y) in svm_rbf.predict_proba(X.drop(drop_c, 1))]\n",
    "svm_probs = [y for (x, y) in svm_rbf.predict_proba(X_test.drop(drop_c, 1))]\n",
    "svm_auc_train = roc_auc_score(y, svm_probs_train)\n",
    "svm_auc = roc_auc_score(y_test, svm_probs)\n"
   ]
  },
  {
   "cell_type": "code",
   "execution_count": null,
   "metadata": {
    "scrolled": true
   },
   "outputs": [],
   "source": [
    "plt.figure(figsize=(14, 7))\n",
    "i = 230\n",
    "\n",
    "for model_name, probs in zip(['Logistic Regression','Decision Tree', 'Random Forest', 'Gradient Boosting', 'NeuralNetwork'],\n",
    "                             [lr_probs,dt_probs, rf_probs, gb_probs, nn_probs]):\n",
    "    i += 1\n",
    "    plt.subplot(i)\n",
    "    plt.hist(probs,color=\"Orangered\", bins= 30, rwidth= 1)\n",
    "    plt.title(model_name)\n",
    "    \n",
    "plt.show()"
   ]
  },
  {
   "cell_type": "code",
   "execution_count": null,
   "metadata": {},
   "outputs": [],
   "source": [
    "import numpy as np\n",
    "print('Churn rate predicted by Random Forest classifier on test set:',np.mean(rf_probs))\n",
    "print('Churn rate predicted by Decision Tree classifier on test set:',np.mean(dectree_probs))\n",
    "print('Churn rate predicted by Logistic Regression classifier on test set:',np.mean(lr_probs))\n",
    "print('Churn rate predicted by Neural Network on test set:',np.mean(nn_probs))\n",
    "print('Churn rate predicted by Gradient Boosting classifier on test set:',np.mean(gb_probs))"
   ]
  },
  {
   "cell_type": "markdown",
   "metadata": {},
   "source": [
    "## Comparison of Roc-Auc Score"
   ]
  },
  {
   "cell_type": "code",
   "execution_count": null,
   "metadata": {},
   "outputs": [],
   "source": [
    "lr_fpr, lr_tpr, _ = roc_curve(y_test, lr_probs)\n",
    "dt_fpr, dt_tpr, _ = roc_curve(y_test, dt_probs)\n",
    "rf_fpr, rf_tpr, _ = roc_curve(y_test, rf_probs)\n",
    "gb_fpr, gb_tpr, _ = roc_curve(y_test, gb_probs)\n",
    "nn_fpr, nn_tpr, _ = roc_curve(y_test, nn_probs)"
   ]
  },
  {
   "cell_type": "code",
   "execution_count": null,
   "metadata": {},
   "outputs": [],
   "source": [
    "pd.DataFrame({'train_ROC': [lr_auc_train, dt_auc_train, rf_auc_train, gb_auc_train, nn_auc_train],\n",
    "              'test_ROC': [lr_auc, dt_auc, rf_auc, gb_auc, nn_auc]},\n",
    "             index=['Logistic Regression', 'Decision Tree', 'Random Forest', 'Gradient Boosting', 'Neural Network'])"
   ]
  },
  {
   "cell_type": "code",
   "execution_count": null,
   "metadata": {},
   "outputs": [],
   "source": [
    "plt.figure(1, figsize=(16, 9))\n",
    "plt.plot([0, 1], [0, 1], 'k--')\n",
    "plt.plot(lr_fpr, lr_tpr, label='Logistic Regression')\n",
    "plt.plot(dt_fpr, dt_tpr, label='Decision Tree')\n",
    "plt.plot(rf_fpr, rf_tpr, label='Random Forest')\n",
    "plt.plot(gb_fpr, gb_tpr, label='Gradient Boosting')\n",
    "plt.plot(nn_fpr, nn_tpr, label='Neural Network')\n",
    "plt.xlabel('False positive rate')\n",
    "plt.ylabel('True positive rate')\n",
    "plt.title('ROC curve - test set')\n",
    "plt.legend(loc='best')\n",
    "plt.show()"
   ]
  },
  {
   "cell_type": "markdown",
   "metadata": {},
   "source": [
    "## Accuracy, Precision, Recall and F1 Score"
   ]
  },
  {
   "cell_type": "code",
   "execution_count": null,
   "metadata": {},
   "outputs": [],
   "source": [
    "Measures = pd.DataFrame({'Accuracy': [accuracy_score(y_test,lr_preds),accuracy_score(y_test,dt_preds),accuracy_score(y_test,rf_preds),accuracy_score(y_test,gb_preds), accuracy_score(y_test,nn_preds)],\n",
    "            'Precision': [precision_score(y_test,lr_preds),precision_score(y_test,dt_preds),precision_score(y_test,rf_preds),precision_score(y_test,gb_preds), precision_score(y_test,nn_preds)],\n",
    "              'Recall': [recall_score(y_test,lr_preds),recall_score(y_test,dt_preds),recall_score(y_test,rf_preds),recall_score(y_test,gb_preds),recall_score(y_test,nn_preds)],\n",
    "             'F1 Score':[f1_score(y_test,lr_preds),f1_score(y_test,dt_preds),f1_score(y_test,rf_preds),f1_score(y_test,gb_preds),f1_score(y_test,nn_preds)]},\n",
    "             index=['Logistic Regression', 'Decision Tree', 'Random Forest', 'Gradient Boosting', 'Neural Network'])\n",
    "Measures"
   ]
  },
  {
   "cell_type": "markdown",
   "metadata": {},
   "source": [
    "plt.figure(1, figsize=(16, 9))\n",
    "plt.plot([0, 1], [0, 1], 'k--')\n",
    "plt.plot(accuracy_score(y_test,lr_preds),label='Logistic Regression')\n",
    "plt.plot(accuracy_score(y_test,dt_preds),label='Decision Tree')\n",
    "plt.plot(accuracy_score(y_test,rf_preds),label='Random Forest')\n",
    "plt.plot(accuracy_score(y_test,gb_preds),label='Gradient Boosting')\n",
    "plt.plot(accuracy_score(y_test,nn_preds), label='Neural Network')\n",
    "plt.xlabel('False positive rate')\n",
    "plt.ylabel('True positive rate')\n",
    "plt.title('Accuracy comparison')\n",
    "plt.legend(loc='best')\n",
    "plt.show()"
   ]
  },
  {
   "cell_type": "code",
   "execution_count": null,
   "metadata": {},
   "outputs": [],
   "source": [
    "import plotly.plotly as py\n",
    "import plotly.tools as tls\n",
    "\n",
    "import pylab as pyl\n",
    "\n",
    "fig = pyl.figure()\n",
    "\n",
    "x = Measures.index\n",
    "y = Measures.columns\n",
    "n, bins, patches = pyl.hist([x, y])\n",
    "\n",
    "plotly_fig = tls.mpl_to_plotly( fig )\n",
    "pyl.plot(plotly_fig)"
   ]
  },
  {
   "cell_type": "code",
   "execution_count": null,
   "metadata": {},
   "outputs": [],
   "source": [
    "Measures"
   ]
  },
  {
   "cell_type": "code",
   "execution_count": null,
   "metadata": {},
   "outputs": [],
   "source": [
    "Measures.index"
   ]
  },
  {
   "cell_type": "code",
   "execution_count": null,
   "metadata": {},
   "outputs": [],
   "source": [
    "import matplotlib.pyplot as plt\n",
    "import numpy as np\n",
    "import pandas as pd\n",
    "x = Measures.index\n",
    "legend = Measures.columns\n",
    "plt.hist(x,data=Measures)\n",
    "plt.legend(legend)\n",
    "plt.ylabel('Measures')\n",
    "plt.show()"
   ]
  },
  {
   "cell_type": "code",
   "execution_count": null,
   "metadata": {},
   "outputs": [],
   "source": [
    "acc_score = Measures.Accuracy\n",
    "x = Measures.index\n",
    "#y = Measures.columns\n",
    "legend = Measures.columns\n",
    "plt.hist(acc_score)\n",
    "plt.ylabel(\"Score\")\n",
    "plt.legend(legend)\n",
    "plt.title('Comparison')\n",
    "plt.show()\n"
   ]
  },
  {
   "cell_type": "markdown",
   "metadata": {},
   "source": [
    "\n",
    "Our final choice is the **Random Forest** model, based on the measures of goodness comparison\n",
    "The aim of this project is not to have a static 100+ lines of code with the training and testing of the different models.. instead is to **push it to production** : this model need to become usable for the company that request it.\n",
    "In order to have a useful tool we cannot stop at the code on Jupyter but the Telco company need to have a final tool that allows to directly know in real time the churn probability information and to act properly. \n",
    "For this reason, we decided to implement a **API system** that, requer as input new covariates and return you the output (Churn probability) with the model pre-trained. It is a really practical tool for production. \n",
    "For example you can think of a call center operator that, at the moment of a new customer procedure, has, in his dashboard, the churn probability rate of the customer he is talking to. It is clear that, in this way, the operator can fit the best offer or, simply,the best interaction according to the data that is given.\n"
   ]
  },
  {
   "cell_type": "code",
   "execution_count": null,
   "metadata": {},
   "outputs": [],
   "source": [
    "Measures['Accuracy']"
   ]
  },
  {
   "cell_type": "code",
   "execution_count": null,
   "metadata": {},
   "outputs": [],
   "source": [
    "legend"
   ]
  },
  {
   "cell_type": "code",
   "execution_count": null,
   "metadata": {},
   "outputs": [],
   "source": [
    "score"
   ]
  },
  {
   "cell_type": "code",
   "execution_count": null,
   "metadata": {},
   "outputs": [],
   "source": [
    "Measures.Accuracy\n"
   ]
  },
  {
   "cell_type": "code",
   "execution_count": null,
   "metadata": {},
   "outputs": [],
   "source": []
  }
 ],
 "metadata": {
  "kernelspec": {
   "display_name": "Python 3",
   "language": "python",
   "name": "python3"
  },
  "language_info": {
   "codemirror_mode": {
    "name": "ipython",
    "version": 3
   },
   "file_extension": ".py",
   "mimetype": "text/x-python",
   "name": "python",
   "nbconvert_exporter": "python",
   "pygments_lexer": "ipython3",
   "version": "3.6.6"
  },
  "toc": {
   "base_numbering": 1,
   "nav_menu": {},
   "number_sections": true,
   "sideBar": true,
   "skip_h1_title": false,
   "title_cell": "Table of Contents",
   "title_sidebar": "Contents",
   "toc_cell": false,
   "toc_position": {},
   "toc_section_display": true,
   "toc_window_display": true
  },
  "varInspector": {
   "cols": {
    "lenName": 16,
    "lenType": 16,
    "lenVar": 40
   },
   "kernels_config": {
    "python": {
     "delete_cmd_postfix": "",
     "delete_cmd_prefix": "del ",
     "library": "var_list.py",
     "varRefreshCmd": "print(var_dic_list())"
    },
    "r": {
     "delete_cmd_postfix": ") ",
     "delete_cmd_prefix": "rm(",
     "library": "var_list.r",
     "varRefreshCmd": "cat(var_dic_list()) "
    }
   },
   "types_to_exclude": [
    "module",
    "function",
    "builtin_function_or_method",
    "instance",
    "_Feature"
   ],
   "window_display": false
  }
 },
 "nbformat": 4,
 "nbformat_minor": 2
}
