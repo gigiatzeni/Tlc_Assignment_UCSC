{
 "cells": [
  {
   "cell_type": "markdown",
   "metadata": {},
   "source": [
    "## Keras model"
   ]
  },
  {
   "cell_type": "code",
   "execution_count": 11,
   "metadata": {
    "ExecuteTime": {
     "end_time": "2019-03-25T11:45:47.290214Z",
     "start_time": "2019-03-25T11:45:47.117331Z"
    }
   },
   "outputs": [],
   "source": [
    "import pandas as pd\n",
    "import numpy as np\n",
    "import matplotlib.pyplot as plt\n",
    "import pickle as pkl\n",
    "from sklearn.model_selection import StratifiedShuffleSplit \n",
    "from sklearn.model_selection import RandomizedSearchCV\n",
    "\n",
    "from keras.wrappers.scikit_learn import KerasRegressor\n",
    "from keras.models import Sequential\n",
    "from keras.layers import Dense, Dropout\n",
    "from keras.layers import advanced_activations\n",
    "from keras.optimizers import Adam\n",
    "import keras\n",
    "\n",
    "\n",
    "# data cleaning to be removed\n",
    "\n",
    "tlc_db = pd.read_csv(\"TelcoChurn.csv\")\n",
    "tlc_db.head()\n",
    "tlc_db['TotalCharges'] = tlc_db[\"TotalCharges\"].replace(\" \",0)\n",
    "tlc_db[\"TotalCharges\"] = tlc_db[\"TotalCharges\"].astype(float)\n",
    "tlc_db[['Partner','Dependents','PhoneService','PaperlessBilling','Churn']] = tlc_db[['Partner','Dependents','PhoneService','PaperlessBilling','Churn']].replace({'No': 0, 'Yes': 1})\n",
    "tlc_db['gender'] = tlc_db['gender'].replace({'Male': 0, 'Female': 1})\n",
    "tlc_db1 = tlc_db.copy()\n",
    "columns1 = ['MultipleLines', 'InternetService', 'OnlineSecurity', 'OnlineBackup', 'DeviceProtection', \n",
    "            'TechSupport', 'StreamingTV', 'StreamingMovies', 'Contract', 'PaymentMethod']\n",
    "for colnames in columns1:\n",
    "    mlt = pd.get_dummies(tlc_db1[colnames])\n",
    "    list1 = list(mlt.columns.values)\n",
    "    listaname = []\n",
    "    for i in list1:\n",
    "        string = \"\" \n",
    "        for y in i.split():\n",
    "            string += y.capitalize()\n",
    "        listaname.append(colnames+'_'+string)\n",
    "    mlt.set_axis(listaname, axis='columns', inplace=True)\n",
    "    tlc_db1.drop(colnames, axis = 1, inplace=True)\n",
    "    tlc_db1 = pd.concat([tlc_db1, mlt], axis = 1)\n",
    "tlc_db1.drop('customerID',1,inplace=True)\n",
    "\n",
    "\n",
    "sss = StratifiedShuffleSplit(test_size=0.25, n_splits=1, random_state=1234)\n",
    "for train_index, test_index in sss.split(tlc_db1, tlc_db1['Churn']):\n",
    "    print(len(train_index), len(test_index))\n",
    "    print(tlc_db1.loc[train_index, 'Churn'].mean(), tlc_db1.loc[test_index, 'Churn'].mean())\n",
    "    train = tlc_db1.loc[train_index]\n",
    "    test = tlc_db1.loc[test_index]\n",
    "\n",
    "Y = tlc_db1[\"Churn\"]\n",
    "X = tlc_db1.drop(columns=['Churn'])\n",
    "\n",
    "x_train = train.drop(columns=['Churn'])\n",
    "y_train = train[\"Churn\"]\n",
    "x_test = test.drop(columns=['Churn'])\n",
    "y_test = test[\"Churn\"]"
   ]
  },
  {
   "cell_type": "markdown",
   "metadata": {},
   "source": [
    "### Model definition"
   ]
  },
  {
   "cell_type": "code",
   "execution_count": 12,
   "metadata": {
    "ExecuteTime": {
     "end_time": "2019-03-25T11:46:17.347005Z",
     "start_time": "2019-03-25T11:46:17.338048Z"
    }
   },
   "outputs": [],
   "source": [
    "def create_model(n_hidden_1 = 30, n_hidden_2 = 10, activation_fun = 'relu', lr = 0.01):\n",
    "    print(\"lr \" + str(lr) + \"| n_hidden_1 \" + str(n_hidden_1) + \"| n_hidden_2 \" + str(n_hidden_2) + \" | activation_fun \" + str(activation_fun)) \n",
    "    model = Sequential()\n",
    "    model.add(Dense(num_input, input_dim=num_input,activation=activation_fun))\n",
    "    model.add(Dense(n_hidden_1,activation=activation_fun))\n",
    "    model.add(Dense(10,activation=activation_fun))\n",
    "    model.add(Dense(1,activation=activation_fun))\n",
    "    model.add(Dense(num_classes,activation='sigmoid'))\n",
    "    adam = Adam(lr=lr)\n",
    "    model.compile(loss='binary_crossentropy', optimizer=adam,metrics=metrics)\n",
    "    return model\n",
    "\n",
    "model = KerasRegressor(build_fn=create_model, batch_size=batch_size, epochs=10, verbose=1)"
   ]
  },
  {
   "cell_type": "markdown",
   "metadata": {
    "ExecuteTime": {
     "end_time": "2019-03-25T11:47:45.378246Z",
     "start_time": "2019-03-25T11:47:45.375290Z"
    }
   },
   "source": [
    "### Hyperparameters optimization by RandomizedSearchCV"
   ]
  },
  {
   "cell_type": "code",
   "execution_count": null,
   "metadata": {
    "ExecuteTime": {
     "end_time": "2019-03-25T11:48:06.058006Z",
     "start_time": "2019-03-25T11:48:02.788426Z"
    }
   },
   "outputs": [],
   "source": [
    "# Parameters\n",
    "metrics = ['accuracy']\n",
    "batch_size = 128\n",
    "lr = [0.001, 0.003, 0.005, 0.007, 0.01]\n",
    "epochs = [10, 20, 30, 40]\n",
    "num_input = x_train.shape[1]\n",
    "n_hidden_1 = [5, 10, 20, 50, 100] \n",
    "n_hidden_2 = [5, 10, 30, 40]\n",
    "num_classes = 1\n",
    "param_dist = dict(n_hidden_1=n_hidden_1, n_hidden_2=n_hidden_2, epochs=epochs, lr=lr)\n",
    "random_search = RandomizedSearchCV(estimator=model, param_distributions=param_dist, n_iter=10, n_jobs=-1, cv=5)\n",
    "random_search.fit(X, Y)\n",
    "\n",
    "# Show the results\n",
    "print(\"Best: %f using %s\" % (random_search.best_score_, random_search.best_params_))\n",
    "means = random_search.cv_results_['mean_test_score']\n",
    "stds = random_search.cv_results_['std_test_score']\n",
    "params = random_search.cv_results_['params']\n",
    "for mean, stdev, param in zip(means, stds, params):\n",
    "    print(\"%f (%f) with: %r\" % (mean, stdev, param))"
   ]
  },
  {
   "cell_type": "markdown",
   "metadata": {
    "ExecuteTime": {
     "end_time": "2019-03-25T11:49:10.481396Z",
     "start_time": "2019-03-25T11:49:10.474182Z"
    }
   },
   "source": [
    "### Best hyperparameters\n",
    "Best parameters found by random search are {'n_hidden_2': 30, 'n_hidden_1': 20, 'lr': 0.005, 'epochs': 20}"
   ]
  },
  {
   "cell_type": "code",
   "execution_count": null,
   "metadata": {
    "ExecuteTime": {
     "end_time": "2019-03-25T11:51:30.825189Z",
     "start_time": "2019-03-25T11:51:23.941507Z"
    }
   },
   "outputs": [],
   "source": [
    "model = create_model(n_hidden_1=20, n_hidden_2=30, lr= 0.005)\n",
    "model.fit(x_train, y_train, batch_size=128, epochs=20)\n",
    "score = model.evaluate(x_test, y_test, batch_size=128)"
   ]
  },
  {
   "cell_type": "code",
   "execution_count": null,
   "metadata": {
    "ExecuteTime": {
     "end_time": "2019-03-25T11:51:32.371360Z",
     "start_time": "2019-03-25T11:51:32.365461Z"
    }
   },
   "outputs": [],
   "source": [
    "score"
   ]
  }
 ],
 "metadata": {
  "kernelspec": {
   "display_name": "Python 3",
   "language": "python",
   "name": "python3"
  },
  "language_info": {
   "codemirror_mode": {
    "name": "ipython",
    "version": 3
   },
   "file_extension": ".py",
   "mimetype": "text/x-python",
   "name": "python",
   "nbconvert_exporter": "python",
   "pygments_lexer": "ipython3",
   "version": "3.6.6"
  },
  "toc": {
   "base_numbering": 1,
   "nav_menu": {},
   "number_sections": true,
   "sideBar": true,
   "skip_h1_title": false,
   "title_cell": "Table of Contents",
   "title_sidebar": "Contents",
   "toc_cell": false,
   "toc_position": {},
   "toc_section_display": true,
   "toc_window_display": false
  },
  "varInspector": {
   "cols": {
    "lenName": 16,
    "lenType": 16,
    "lenVar": 40
   },
   "kernels_config": {
    "python": {
     "delete_cmd_postfix": "",
     "delete_cmd_prefix": "del ",
     "library": "var_list.py",
     "varRefreshCmd": "print(var_dic_list())"
    },
    "r": {
     "delete_cmd_postfix": ") ",
     "delete_cmd_prefix": "rm(",
     "library": "var_list.r",
     "varRefreshCmd": "cat(var_dic_list()) "
    }
   },
   "types_to_exclude": [
    "module",
    "function",
    "builtin_function_or_method",
    "instance",
    "_Feature"
   ],
   "window_display": false
  }
 },
 "nbformat": 4,
 "nbformat_minor": 2
}
